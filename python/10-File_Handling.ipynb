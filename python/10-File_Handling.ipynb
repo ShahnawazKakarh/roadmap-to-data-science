{
  "nbformat": 4,
  "nbformat_minor": 0,
  "metadata": {
    "colab": {
      "provenance": [],
      "authorship_tag": "ABX9TyOVQnbSsD4FpzH3cI0E9Sir",
      "include_colab_link": true
    },
    "kernelspec": {
      "name": "python3",
      "display_name": "Python 3"
    },
    "language_info": {
      "name": "python"
    }
  },
  "cells": [
    {
      "cell_type": "markdown",
      "metadata": {
        "id": "view-in-github",
        "colab_type": "text"
      },
      "source": [
        "<a href=\"https://colab.research.google.com/github/ShahnawazKakarh/roadmap-to-data-science/blob/master/python/10-File_Handling.ipynb\" target=\"_parent\"><img src=\"https://colab.research.google.com/assets/colab-badge.svg\" alt=\"Open In Colab\"/></a>"
      ]
    },
    {
      "cell_type": "markdown",
      "source": [
        "# **File Handling in Python**"
      ],
      "metadata": {
        "id": "CKHcQ3l_cdY4"
      }
    },
    {
      "cell_type": "code",
      "execution_count": 5,
      "metadata": {
        "colab": {
          "base_uri": "https://localhost:8080/"
        },
        "id": "8Xx53awg84zW",
        "outputId": "41735258-e2b8-4c61-94cb-1772cc04f421"
      },
      "outputs": [
        {
          "output_type": "stream",
          "name": "stdout",
          "text": [
            "My name is Shahnawaz Khan\n",
            "I am currently working as a Data Scientist.\n",
            "I am also teaching learners nowadays about data science.\n",
            "\n",
            "\n"
          ]
        }
      ],
      "source": [
        "file = open('/content/drive/MyDrive/Data Science/Python Programming/shahnawaz.txt', 'r',  encoding='ISO-8859-1')\n",
        "content = file.read()\n",
        "print(content)"
      ]
    },
    {
      "cell_type": "code",
      "source": [
        "file = open('/content/drive/MyDrive/Data Science/Python Programming/shahnawaz.txt', 'r',  encoding='ISO-8859-1')\n",
        "print(file.read(6))"
      ],
      "metadata": {
        "colab": {
          "base_uri": "https://localhost:8080/"
        },
        "id": "f66G8VZwcOAd",
        "outputId": "619d5d58-41a9-4a8c-ed2c-d88782626df0"
      },
      "execution_count": 8,
      "outputs": [
        {
          "output_type": "stream",
          "name": "stdout",
          "text": [
            "My nam\n"
          ]
        }
      ]
    },
    {
      "cell_type": "code",
      "source": [
        "file = open('/content/drive/MyDrive/Data Science/Python Programming/shahnawaz.txt', 'r',  encoding='ISO-8859-1')\n",
        "print(file.readline())"
      ],
      "metadata": {
        "colab": {
          "base_uri": "https://localhost:8080/"
        },
        "id": "OH9SIuCGcZEU",
        "outputId": "c9d02a59-91f9-4447-8a55-915feea1cebb"
      },
      "execution_count": 9,
      "outputs": [
        {
          "output_type": "stream",
          "name": "stdout",
          "text": [
            "My name is Shahnawaz Khan\n",
            "\n"
          ]
        }
      ]
    },
    {
      "cell_type": "code",
      "source": [
        "file = open('/content/drive/MyDrive/Data Science/Python Programming/shahnawaz.txt', 'r',  encoding='ISO-8859-1')\n",
        "print(file.readlines())"
      ],
      "metadata": {
        "colab": {
          "base_uri": "https://localhost:8080/"
        },
        "id": "umao3e8kcgO6",
        "outputId": "66e9cbf0-df7c-474f-9466-b99939b39acb"
      },
      "execution_count": 10,
      "outputs": [
        {
          "output_type": "stream",
          "name": "stdout",
          "text": [
            "['My name is Shahnawaz Khan\\n', 'I am currently working as a Data Scientist.\\n', 'I am also teaching learners nowadays about data science.\\n', '\\n']\n"
          ]
        }
      ]
    },
    {
      "cell_type": "code",
      "source": [
        "file = open('/content/drive/MyDrive/Data Science/Python Programming/shahnawaz.txt', 'r',  encoding='ISO-8859-1')\n",
        "for line in file.readlines():\n",
        "  print(line)"
      ],
      "metadata": {
        "colab": {
          "base_uri": "https://localhost:8080/"
        },
        "id": "MdyygDIsdQdZ",
        "outputId": "86b3bc5f-e08e-4980-b235-2e621002a087"
      },
      "execution_count": 13,
      "outputs": [
        {
          "output_type": "stream",
          "name": "stdout",
          "text": [
            "My name is Shahnawaz Khan\n",
            "\n",
            "I am currently working as a Data Scientist.\n",
            "\n",
            "I am also teaching learners nowadays about data science.\n",
            "\n",
            "\n",
            "\n"
          ]
        }
      ]
    },
    {
      "cell_type": "code",
      "source": [
        "file = open('/content/drive/MyDrive/Data Science/Python Programming/shahnawaz.txt', 'r',  encoding='ISO-8859-1')\n",
        "## operations on file\n",
        "file.close()"
      ],
      "metadata": {
        "id": "QLjDEVCMdqI6"
      },
      "execution_count": 15,
      "outputs": []
    },
    {
      "cell_type": "code",
      "source": [
        "## My_textual_file.txt\n",
        "## try, except, else, finally\n",
        "try:\n",
        " file = open('/content/drive/MyDrive/Data Science/Python Programming/shahnawaz.txt', 'r',  encoding='ISO-8859-1')\n",
        "except FileNotFoundError:\n",
        "  print(\"Error: File not found\")\n",
        "else:\n",
        "  content = file.read()\n",
        "  print(content)\n",
        "finally:\n",
        "  file.close()"
      ],
      "metadata": {
        "colab": {
          "base_uri": "https://localhost:8080/"
        },
        "id": "J6HxcJ53dxDL",
        "outputId": "9f87a629-3f59-4581-a478-0b392a5717c3"
      },
      "execution_count": 16,
      "outputs": [
        {
          "output_type": "stream",
          "name": "stdout",
          "text": [
            "My name is Shahnawaz Khan\n",
            "I am currently working as a Data Scientist.\n",
            "I am also teaching learners nowadays about data science.\n",
            "\n",
            "\n"
          ]
        }
      ]
    },
    {
      "cell_type": "markdown",
      "source": [
        "write() method returns the number of characters written to the file. It usually overwrites in the original file."
      ],
      "metadata": {
        "id": "kDxRVh5TeEpO"
      }
    },
    {
      "cell_type": "code",
      "source": [
        "try:\n",
        "   file = open('/content/drive/MyDrive/Data Science/Python Programming/shahnawaz.txt', 'w',  encoding='ISO-8859-1')\n",
        "except FileNotFoundError:\n",
        "  print(\"Error: File not found\")\n",
        "else:\n",
        "  content = file.write(\"I have a youtube channel named Shahnawaz Khan - youtube.com/@skakarh\")\n",
        "  print(content)\n",
        "finally:\n",
        "  file.close()"
      ],
      "metadata": {
        "colab": {
          "base_uri": "https://localhost:8080/"
        },
        "id": "pQukdie9eFU2",
        "outputId": "5710016c-bd8e-4c38-bb3c-781593295b8e"
      },
      "execution_count": 20,
      "outputs": [
        {
          "output_type": "stream",
          "name": "stdout",
          "text": [
            "68\n"
          ]
        }
      ]
    },
    {
      "cell_type": "code",
      "source": [
        "try:\n",
        "    file = open('/content/drive/MyDrive/Data Science/Python Programming/shahnawaz.txt', 'r',  encoding='ISO-8859-1')\n",
        "except FileNotFoundError:\n",
        "  print(\"Error: File not found\")\n",
        "else:\n",
        "  content = file.read()\n",
        "  print(content)\n",
        "finally:\n",
        "  file.close()"
      ],
      "metadata": {
        "colab": {
          "base_uri": "https://localhost:8080/"
        },
        "id": "g42hXn_-gQLw",
        "outputId": "1f68eca6-3443-4592-b0b1-ac8198acfc6c"
      },
      "execution_count": 21,
      "outputs": [
        {
          "output_type": "stream",
          "name": "stdout",
          "text": [
            "I have a youtube channel named Shahnawaz Khan - youtube.com/@skakarh\n"
          ]
        }
      ]
    },
    {
      "cell_type": "markdown",
      "source": [
        "Append keywords or sentence not to overwrite as when we use \"w\" method it overwrites in the original file."
      ],
      "metadata": {
        "id": "d_wP61GRgrTz"
      }
    },
    {
      "cell_type": "code",
      "source": [
        "try:\n",
        "  file = open('/content/drive/MyDrive/Data Science/Python Programming/shahnawaz.txt', 'a', encoding='ISO-8859-1')\n",
        "except FileNotFoundError:\n",
        "  print(\"Error: File not found\")\n",
        "else:\n",
        "  content = file.write(\"Hey, My name is Shahnawaz Khan\")\n",
        "  print(content)\n",
        "finally:\n",
        "  file.close()"
      ],
      "metadata": {
        "colab": {
          "base_uri": "https://localhost:8080/"
        },
        "id": "l42HWPINgzu-",
        "outputId": "6f214137-898b-412b-d60a-961c7b9358c1"
      },
      "execution_count": 22,
      "outputs": [
        {
          "output_type": "stream",
          "name": "stdout",
          "text": [
            "30\n"
          ]
        }
      ]
    },
    {
      "cell_type": "code",
      "source": [
        "try:\n",
        "    file = open('/content/drive/MyDrive/Data Science/Python Programming/shahnawaz.txt', 'r',  encoding='ISO-8859-1')\n",
        "except FileNotFoundError:\n",
        "  print(\"Error: File not found\")\n",
        "else:\n",
        "  content = file.read()\n",
        "  print(content)\n",
        "finally:\n",
        "  file.close()"
      ],
      "metadata": {
        "colab": {
          "base_uri": "https://localhost:8080/"
        },
        "id": "_p_woNPYg8H0",
        "outputId": "eb1d8b50-6892-44b3-b0c3-98c1d1eac15f"
      },
      "execution_count": 23,
      "outputs": [
        {
          "output_type": "stream",
          "name": "stdout",
          "text": [
            "I have a youtube channel named Shahnawaz Khan - youtube.com/@skakarhHey, My name is Shahnawaz Khan\n"
          ]
        }
      ]
    },
    {
      "cell_type": "markdown",
      "source": [
        "Created new file and appended text"
      ],
      "metadata": {
        "id": "afeavOSThnwy"
      }
    },
    {
      "cell_type": "code",
      "source": [
        "try:\n",
        "  file = open('/content/drive/MyDrive/Data Science/Python Programming/My_Textual_text.txt', 'a', encoding='ISO-8859-1')\n",
        "except FileNotFoundError:\n",
        "  print(\"Error: File not found\")\n",
        "else:\n",
        "  content = file.write(\"Hey, My name is Kakarh\")\n",
        "  print(content)\n",
        "finally:\n",
        "  file.close()"
      ],
      "metadata": {
        "colab": {
          "base_uri": "https://localhost:8080/"
        },
        "id": "X5SYUtjzhWGN",
        "outputId": "2a7b3182-ce6c-4172-8868-5b6180f7a548"
      },
      "execution_count": 24,
      "outputs": [
        {
          "output_type": "stream",
          "name": "stdout",
          "text": [
            "22\n"
          ]
        }
      ]
    },
    {
      "cell_type": "code",
      "source": [
        "try:\n",
        "  file = open('/content/drive/MyDrive/Data Science/Python Programming/My_Textual_text.txt', 'r', encoding='ISO-8859-1')\n",
        "except FileNotFoundError:\n",
        "  print(\"Error: File not found\")\n",
        "else:\n",
        "  content = file.read()\n",
        "  print(content)\n",
        "finally:\n",
        "  file.close()"
      ],
      "metadata": {
        "colab": {
          "base_uri": "https://localhost:8080/"
        },
        "id": "SjnzXwDThdLN",
        "outputId": "71782ddf-68be-4cbc-9fab-58b3ea867e0e"
      },
      "execution_count": 25,
      "outputs": [
        {
          "output_type": "stream",
          "name": "stdout",
          "text": [
            "Hey, My name is Kakarh\n"
          ]
        }
      ]
    },
    {
      "cell_type": "markdown",
      "source": [
        "Create a new file: Exclusive Creation Mode"
      ],
      "metadata": {
        "id": "HDDgahpih2Bu"
      }
    },
    {
      "cell_type": "code",
      "source": [
        "try:\n",
        "  file = open('/content/drive/MyDrive/Data Science/Python Programming/myfile.txt', 'x')\n",
        "  file.write(\"Hey, How are you? I am doing good and have enrolled into full stack data science course.\\n\")\n",
        "  file.write(\"What are you doing nowadays?\\n\")\n",
        "except FileExistsError:\n",
        "  print(\"Error: The file 'myfile.txt' already exists\")\n",
        "except Exception:\n",
        "  print(\"An unexpected error occured\")"
      ],
      "metadata": {
        "colab": {
          "base_uri": "https://localhost:8080/"
        },
        "id": "jzMlRZWWh4c3",
        "outputId": "28fd3593-b7d8-4888-b457-4c8230445db5"
      },
      "execution_count": 27,
      "outputs": [
        {
          "output_type": "stream",
          "name": "stdout",
          "text": [
            "Error: The file 'myfile.txt' already exists\n"
          ]
        }
      ]
    },
    {
      "cell_type": "markdown",
      "source": [
        "Delete a file"
      ],
      "metadata": {
        "id": "0t4la5IgiVhz"
      }
    },
    {
      "cell_type": "code",
      "source": [
        "import os\n",
        "file_path = '/content/drive/MyDrive/Data Science/Python Programming/myfile.txt'\n",
        "\n",
        "try:\n",
        "  ## critical code to delete the file\n",
        "  os.remove(file_path)\n",
        "  print(f\"File '{file_path}' deleted successfully\")\n",
        "except FileNotFoundError:\n",
        "  print(f\"File '{file_path}' not found.\")\n",
        "except PermissionError:\n",
        "  print(f\"You don't have a permission to delete '{file_path}'.\")\n",
        "except Exception:\n",
        "  print(\"An unexpected error occured\")"
      ],
      "metadata": {
        "colab": {
          "base_uri": "https://localhost:8080/"
        },
        "id": "DUaooU-6iTEC",
        "outputId": "a5666087-f767-4a22-c5db-89b1ab3c43e0"
      },
      "execution_count": 28,
      "outputs": [
        {
          "output_type": "stream",
          "name": "stdout",
          "text": [
            "File '/content/drive/MyDrive/Data Science/Python Programming/myfile.txt' deleted successfully\n"
          ]
        }
      ]
    }
  ]
}