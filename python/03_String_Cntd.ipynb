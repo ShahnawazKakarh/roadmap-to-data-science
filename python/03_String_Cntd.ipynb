{
  "nbformat": 4,
  "nbformat_minor": 0,
  "metadata": {
    "colab": {
      "provenance": [],
      "authorship_tag": "ABX9TyOID1FMnGqxOJvD3Q5+ftVS",
      "include_colab_link": true
    },
    "kernelspec": {
      "name": "python3",
      "display_name": "Python 3"
    },
    "language_info": {
      "name": "python"
    }
  },
  "cells": [
    {
      "cell_type": "markdown",
      "metadata": {
        "id": "view-in-github",
        "colab_type": "text"
      },
      "source": [
        "<a href=\"https://colab.research.google.com/github/ShahnawazKakarh/roadmap-to-data-science/blob/master/python/03-String_Cntd.ipynb\" target=\"_parent\"><img src=\"https://colab.research.google.com/assets/colab-badge.svg\" alt=\"Open In Colab\"/></a>"
      ]
    },
    {
      "cell_type": "markdown",
      "source": [
        "# **String Comparision**"
      ],
      "metadata": {
        "id": "yg9JUM5qmkWv"
      }
    },
    {
      "cell_type": "code",
      "source": [
        "string1 = \"banana\"\n",
        "string2 = \"apple\"\n",
        "\n",
        "print(string1 == string2) ## Equal to\n",
        "print(string1 != string2) ## Not equal to\n",
        "print(string1 < string2) ## Less than\n",
        "print(string1 > string2) ## Greater than\n",
        "print(string1 <= string2) ## Less than or equal to\n",
        "print(string1 >= string2) ## Greater than or equal to"
      ],
      "metadata": {
        "colab": {
          "base_uri": "https://localhost:8080/"
        },
        "id": "crnUcwvnmnIs",
        "outputId": "ad3ca269-f3e0-4042-8b36-7fc604327e73"
      },
      "execution_count": null,
      "outputs": [
        {
          "output_type": "stream",
          "name": "stdout",
          "text": [
            "False\n",
            "True\n",
            "False\n",
            "True\n",
            "False\n",
            "True\n"
          ]
        }
      ]
    },
    {
      "cell_type": "code",
      "source": [
        "ord('a')"
      ],
      "metadata": {
        "colab": {
          "base_uri": "https://localhost:8080/"
        },
        "id": "pB3AiPBAzBjV",
        "outputId": "89868a1e-713d-4a31-aa00-498ecd53bdcc"
      },
      "execution_count": null,
      "outputs": [
        {
          "output_type": "execute_result",
          "data": {
            "text/plain": [
              "97"
            ]
          },
          "metadata": {},
          "execution_count": 4
        }
      ]
    },
    {
      "cell_type": "code",
      "source": [
        "ord('b')"
      ],
      "metadata": {
        "colab": {
          "base_uri": "https://localhost:8080/"
        },
        "id": "Nh3c1cf6zL1I",
        "outputId": "a0e4c477-2b48-40b8-942e-8729327b8c8f"
      },
      "execution_count": null,
      "outputs": [
        {
          "output_type": "execute_result",
          "data": {
            "text/plain": [
              "98"
            ]
          },
          "metadata": {},
          "execution_count": 5
        }
      ]
    },
    {
      "cell_type": "code",
      "source": [
        "\"cat\" < \"catalog\""
      ],
      "metadata": {
        "colab": {
          "base_uri": "https://localhost:8080/"
        },
        "id": "HpWliwYAzP5H",
        "outputId": "b1997109-46ed-4946-e146-611b5834073f"
      },
      "execution_count": null,
      "outputs": [
        {
          "output_type": "execute_result",
          "data": {
            "text/plain": [
              "True"
            ]
          },
          "metadata": {},
          "execution_count": 6
        }
      ]
    },
    {
      "cell_type": "code",
      "source": [
        "ord('Z')"
      ],
      "metadata": {
        "colab": {
          "base_uri": "https://localhost:8080/"
        },
        "id": "uUlgSdIPzlc-",
        "outputId": "8ad27bb1-e810-4fa2-9fba-1f1025ba3303"
      },
      "execution_count": null,
      "outputs": [
        {
          "output_type": "execute_result",
          "data": {
            "text/plain": [
              "90"
            ]
          },
          "metadata": {},
          "execution_count": 7
        }
      ]
    },
    {
      "cell_type": "code",
      "source": [
        "\"Zebra\" < \"Apple\""
      ],
      "metadata": {
        "colab": {
          "base_uri": "https://localhost:8080/"
        },
        "id": "X3PYs-bSzsag",
        "outputId": "f11c8be6-c0f8-4357-8342-7b2d26ca9a24"
      },
      "execution_count": null,
      "outputs": [
        {
          "output_type": "execute_result",
          "data": {
            "text/plain": [
              "False"
            ]
          },
          "metadata": {},
          "execution_count": 8
        }
      ]
    },
    {
      "cell_type": "markdown",
      "source": [
        "# **Replace in String**"
      ],
      "metadata": {
        "id": "CWdEKNIez37K"
      }
    },
    {
      "cell_type": "code",
      "source": [
        "original_string = \"Hello, world!\"\n",
        "\n",
        "## Replace \"world\" with \"Python\"\n",
        "new_string = original_string.replace(\"world\", \"Python\")\n",
        "print(new_string)"
      ],
      "metadata": {
        "colab": {
          "base_uri": "https://localhost:8080/"
        },
        "id": "DaB95jZYz6h6",
        "outputId": "4a878121-7d51-4bf8-feda-44eb8f51fe1c"
      },
      "execution_count": null,
      "outputs": [
        {
          "output_type": "stream",
          "name": "stdout",
          "text": [
            "Hello, Python!\n"
          ]
        }
      ]
    },
    {
      "cell_type": "markdown",
      "source": [
        "# **Split() in String**"
      ],
      "metadata": {
        "id": "aTJTkyjo0E7M"
      }
    },
    {
      "cell_type": "code",
      "source": [
        "sentence = \"This is a very interesting session\"\n",
        "words = sentence.split()\n",
        "print(words)"
      ],
      "metadata": {
        "colab": {
          "base_uri": "https://localhost:8080/"
        },
        "id": "hPZCuqt50IlJ",
        "outputId": "be6ecf8c-9f11-4248-86da-896a23869d65"
      },
      "execution_count": null,
      "outputs": [
        {
          "output_type": "stream",
          "name": "stdout",
          "text": [
            "['This', 'is', 'a', 'very', 'interesting', 'session']\n"
          ]
        }
      ]
    },
    {
      "cell_type": "code",
      "source": [
        "names = \"Shahnawaz, Ali, Usman, Ayesha, Maham, Shiza, Junaid\"\n",
        "names_list = names.split(',')\n",
        "print(names_list)"
      ],
      "metadata": {
        "colab": {
          "base_uri": "https://localhost:8080/"
        },
        "id": "Edpzl25A0kxQ",
        "outputId": "4b7b289b-a8fc-4637-c130-88134c1d0d56"
      },
      "execution_count": null,
      "outputs": [
        {
          "output_type": "stream",
          "name": "stdout",
          "text": [
            "['Shahnawaz', ' Ali', ' Usman', ' Ayesha', ' Maham', ' Shiza', ' Junaid']\n"
          ]
        }
      ]
    },
    {
      "cell_type": "code",
      "source": [
        "string = \"Hello-World\"\n",
        "print(string.split(\"-\"))"
      ],
      "metadata": {
        "colab": {
          "base_uri": "https://localhost:8080/"
        },
        "id": "CJtug3JoEv_T",
        "outputId": "3264f4be-dd4c-43e9-e113-6f4f7d43bf35"
      },
      "execution_count": null,
      "outputs": [
        {
          "output_type": "stream",
          "name": "stdout",
          "text": [
            "['Hello', 'World']\n"
          ]
        }
      ]
    },
    {
      "cell_type": "code",
      "source": [
        "string = \"HelloWorld\"\n",
        "print(string.split(\"-\"))"
      ],
      "metadata": {
        "colab": {
          "base_uri": "https://localhost:8080/"
        },
        "id": "eDvr9MKuFNM3",
        "outputId": "637db664-efb6-4bba-f313-f54d461a0f63"
      },
      "execution_count": null,
      "outputs": [
        {
          "output_type": "stream",
          "name": "stdout",
          "text": [
            "['HelloWorld']\n"
          ]
        }
      ]
    },
    {
      "cell_type": "markdown",
      "source": [
        "# **Formatting of the String**"
      ],
      "metadata": {
        "id": "GfR06oW4FRQY"
      }
    },
    {
      "cell_type": "code",
      "source": [
        "age = 30\n",
        "text = (\"My name is Shahnawaz, I am \" + age)\n",
        "print(text)"
      ],
      "metadata": {
        "colab": {
          "base_uri": "https://localhost:8080/",
          "height": 180
        },
        "id": "u7dxox11FT1-",
        "outputId": "b6129916-2fe5-44ba-ce75-c4a0649af031"
      },
      "execution_count": null,
      "outputs": [
        {
          "output_type": "error",
          "ename": "TypeError",
          "evalue": "can only concatenate str (not \"int\") to str",
          "traceback": [
            "\u001b[0;31m---------------------------------------------------------------------------\u001b[0m",
            "\u001b[0;31mTypeError\u001b[0m                                 Traceback (most recent call last)",
            "\u001b[0;32m/tmp/ipython-input-3052279501.py\u001b[0m in \u001b[0;36m<cell line: 0>\u001b[0;34m()\u001b[0m\n\u001b[1;32m      1\u001b[0m \u001b[0mage\u001b[0m \u001b[0;34m=\u001b[0m \u001b[0;36m30\u001b[0m\u001b[0;34m\u001b[0m\u001b[0;34m\u001b[0m\u001b[0m\n\u001b[0;32m----> 2\u001b[0;31m \u001b[0mtext\u001b[0m \u001b[0;34m=\u001b[0m \u001b[0;34m(\u001b[0m\u001b[0;34m\"My name is Shahnawaz, I am \"\u001b[0m \u001b[0;34m+\u001b[0m \u001b[0mage\u001b[0m\u001b[0;34m)\u001b[0m\u001b[0;34m\u001b[0m\u001b[0;34m\u001b[0m\u001b[0m\n\u001b[0m\u001b[1;32m      3\u001b[0m \u001b[0mprint\u001b[0m\u001b[0;34m(\u001b[0m\u001b[0mtext\u001b[0m\u001b[0;34m)\u001b[0m\u001b[0;34m\u001b[0m\u001b[0;34m\u001b[0m\u001b[0m\n",
            "\u001b[0;31mTypeError\u001b[0m: can only concatenate str (not \"int\") to str"
          ]
        }
      ]
    },
    {
      "cell_type": "code",
      "source": [
        "age = 30\n",
        "text = f\"My name is Shahnawaz, I am {age} years old\"\n",
        "print(text)"
      ],
      "metadata": {
        "colab": {
          "base_uri": "https://localhost:8080/"
        },
        "id": "AI3t8C_lF2FU",
        "outputId": "12450136-3b62-4036-c2df-12aa59445f3d"
      },
      "execution_count": null,
      "outputs": [
        {
          "output_type": "stream",
          "name": "stdout",
          "text": [
            "My name is Shahnawaz, I am 30 years old\n"
          ]
        }
      ]
    },
    {
      "cell_type": "markdown",
      "source": [
        "# **strip() -> removes any whitespace from the beginning or the end.**"
      ],
      "metadata": {
        "id": "SDkwBXwvGELS"
      }
    },
    {
      "cell_type": "code",
      "source": [
        "text = \"      Hello, Python Developers!    \"\n",
        "stripped_text = text.strip()\n",
        "print(stripped_text)"
      ],
      "metadata": {
        "colab": {
          "base_uri": "https://localhost:8080/"
        },
        "id": "5X2AjZn1GFwo",
        "outputId": "8c116ba5-3f6c-484d-8b6a-dad3d83d7dff"
      },
      "execution_count": null,
      "outputs": [
        {
          "output_type": "stream",
          "name": "stdout",
          "text": [
            "Hello, Python Developers!\n"
          ]
        }
      ]
    },
    {
      "cell_type": "markdown",
      "source": [
        "# **index() -> returns ValueError if the substring is not present in the main string**"
      ],
      "metadata": {
        "id": "91OwIaWrGLoA"
      }
    },
    {
      "cell_type": "code",
      "source": [
        "string = \"Hello, World!\"\n",
        "index = string.index(\"World\")\n",
        "print(index)"
      ],
      "metadata": {
        "colab": {
          "base_uri": "https://localhost:8080/"
        },
        "id": "mismbt8TGUvU",
        "outputId": "bbeccb63-ed79-4315-e7db-f4e58bde30af"
      },
      "execution_count": null,
      "outputs": [
        {
          "output_type": "stream",
          "name": "stdout",
          "text": [
            "7\n"
          ]
        }
      ]
    },
    {
      "cell_type": "code",
      "source": [
        "string = \"Hello, World!\"\n",
        "index = string.index(\"Python\")\n",
        "print(index)"
      ],
      "metadata": {
        "colab": {
          "base_uri": "https://localhost:8080/",
          "height": 180
        },
        "id": "pIUCPlzrVDws",
        "outputId": "7176ffe8-5adf-4107-ea43-fd4eef871031"
      },
      "execution_count": null,
      "outputs": [
        {
          "output_type": "error",
          "ename": "ValueError",
          "evalue": "substring not found",
          "traceback": [
            "\u001b[0;31m---------------------------------------------------------------------------\u001b[0m",
            "\u001b[0;31mValueError\u001b[0m                                Traceback (most recent call last)",
            "\u001b[0;32m/tmp/ipython-input-3523904280.py\u001b[0m in \u001b[0;36m<cell line: 0>\u001b[0;34m()\u001b[0m\n\u001b[1;32m      1\u001b[0m \u001b[0mstring\u001b[0m \u001b[0;34m=\u001b[0m \u001b[0;34m\"Hello, World!\"\u001b[0m\u001b[0;34m\u001b[0m\u001b[0;34m\u001b[0m\u001b[0m\n\u001b[0;32m----> 2\u001b[0;31m \u001b[0mindex\u001b[0m \u001b[0;34m=\u001b[0m \u001b[0mstring\u001b[0m\u001b[0;34m.\u001b[0m\u001b[0mindex\u001b[0m\u001b[0;34m(\u001b[0m\u001b[0;34m\"Python\"\u001b[0m\u001b[0;34m)\u001b[0m\u001b[0;34m\u001b[0m\u001b[0;34m\u001b[0m\u001b[0m\n\u001b[0m\u001b[1;32m      3\u001b[0m \u001b[0mprint\u001b[0m\u001b[0;34m(\u001b[0m\u001b[0mindex\u001b[0m\u001b[0;34m)\u001b[0m\u001b[0;34m\u001b[0m\u001b[0;34m\u001b[0m\u001b[0m\n",
            "\u001b[0;31mValueError\u001b[0m: substring not found"
          ]
        }
      ]
    },
    {
      "cell_type": "markdown",
      "source": [
        "# **find() -> returns -1 if the substring is not present in the main string**\n",
        "\n"
      ],
      "metadata": {
        "id": "OJ97aLEEVMMH"
      }
    },
    {
      "cell_type": "code",
      "source": [
        "string = \"Hello, World!\"\n",
        "find_string = string.find(\"World\")\n",
        "print(find_string)"
      ],
      "metadata": {
        "colab": {
          "base_uri": "https://localhost:8080/"
        },
        "id": "qcjhTbsZVWl-",
        "outputId": "a2593737-e196-494b-b00a-b2034c2cb00f"
      },
      "execution_count": null,
      "outputs": [
        {
          "output_type": "stream",
          "name": "stdout",
          "text": [
            "7\n"
          ]
        }
      ]
    },
    {
      "cell_type": "code",
      "source": [
        "string = \"Hello, World!\"\n",
        "find_string = string.find(\"Python\")\n",
        "print(find_string)"
      ],
      "metadata": {
        "colab": {
          "base_uri": "https://localhost:8080/"
        },
        "id": "f8Mzi9h7VNhT",
        "outputId": "980ff0f2-286a-42ce-a70d-93680c9439e0"
      },
      "execution_count": null,
      "outputs": [
        {
          "output_type": "stream",
          "name": "stdout",
          "text": [
            "-1\n"
          ]
        }
      ]
    },
    {
      "cell_type": "markdown",
      "source": [
        "# **count() -> returns the count of substring which we check, that how many time it is repeated**"
      ],
      "metadata": {
        "id": "yNjim5IlVwK3"
      }
    },
    {
      "cell_type": "code",
      "source": [
        "string = \"This is a sample answer\"\n",
        "count_string = string.count(\"is\")\n",
        "print(count_string)"
      ],
      "metadata": {
        "colab": {
          "base_uri": "https://localhost:8080/"
        },
        "id": "pjXK1Cl2WBYe",
        "outputId": "7a665409-cc1f-445b-ff72-9017b013c01e"
      },
      "execution_count": null,
      "outputs": [
        {
          "output_type": "stream",
          "name": "stdout",
          "text": [
            "2\n"
          ]
        }
      ]
    },
    {
      "cell_type": "markdown",
      "source": [
        "# **isalpha() -> will check that does string contains all alphabets only**"
      ],
      "metadata": {
        "id": "6v4g_AoGW0Yw"
      }
    },
    {
      "cell_type": "code",
      "source": [
        "text1 = \"Hello\"\n",
        "text2 = \"Hello123\"\n",
        "print(text1.isalpha())\n",
        "print(text2.isalpha())"
      ],
      "metadata": {
        "colab": {
          "base_uri": "https://localhost:8080/"
        },
        "id": "DF9lBNJDWt_b",
        "outputId": "698d76eb-7aa4-4e72-8c15-fe2aa7085584"
      },
      "execution_count": null,
      "outputs": [
        {
          "output_type": "stream",
          "name": "stdout",
          "text": [
            "True\n",
            "False\n"
          ]
        }
      ]
    },
    {
      "cell_type": "markdown",
      "source": [
        "# **isupper() -> verifys if the provided string contains upper case**\n"
      ],
      "metadata": {
        "id": "i9wfYqLdX2Jb"
      }
    },
    {
      "cell_type": "code",
      "source": [
        "string = \"This is a sample answer\"\n",
        "string.isupper()"
      ],
      "metadata": {
        "colab": {
          "base_uri": "https://localhost:8080/"
        },
        "id": "rYmYZjC4YAvi",
        "outputId": "e07f39e9-9d64-42a3-ef68-088e88008f72"
      },
      "execution_count": null,
      "outputs": [
        {
          "output_type": "execute_result",
          "data": {
            "text/plain": [
              "False"
            ]
          },
          "metadata": {},
          "execution_count": 10
        }
      ]
    },
    {
      "cell_type": "markdown",
      "source": [
        "# **islower() -> verifys if the provided string contains lower case**"
      ],
      "metadata": {
        "id": "LoQdJJsyZT7P"
      }
    },
    {
      "cell_type": "code",
      "source": [
        "string = \"HELLO WORLD\"\n",
        "string.islower()"
      ],
      "metadata": {
        "colab": {
          "base_uri": "https://localhost:8080/"
        },
        "id": "E5DyYa6LYVlA",
        "outputId": "54511802-9099-45cd-9b06-6256979664c5"
      },
      "execution_count": null,
      "outputs": [
        {
          "output_type": "execute_result",
          "data": {
            "text/plain": [
              "False"
            ]
          },
          "metadata": {},
          "execution_count": 11
        }
      ]
    },
    {
      "cell_type": "markdown",
      "source": [
        "# **isdigit() -> verifys if the provided string contains numbers/digits**"
      ],
      "metadata": {
        "id": "4iWj_1cHZWAU"
      }
    },
    {
      "cell_type": "code",
      "source": [
        "string1 = '1234'\n",
        "string1.isdigit()"
      ],
      "metadata": {
        "colab": {
          "base_uri": "https://localhost:8080/"
        },
        "id": "rvzutZBKYaXL",
        "outputId": "3355e068-aaea-47e9-a425-e8f615b37000"
      },
      "execution_count": null,
      "outputs": [
        {
          "output_type": "execute_result",
          "data": {
            "text/plain": [
              "True"
            ]
          },
          "metadata": {},
          "execution_count": 17
        }
      ]
    },
    {
      "cell_type": "code",
      "source": [
        "string2 = 'ABC'\n",
        "string2.isdigit()"
      ],
      "metadata": {
        "colab": {
          "base_uri": "https://localhost:8080/"
        },
        "id": "BlAc8JZlYxzk",
        "outputId": "eb4e86e5-1eb0-42e4-aae3-97c945169b6d"
      },
      "execution_count": null,
      "outputs": [
        {
          "output_type": "execute_result",
          "data": {
            "text/plain": [
              "False"
            ]
          },
          "metadata": {},
          "execution_count": 19
        }
      ]
    },
    {
      "cell_type": "markdown",
      "source": [
        "# **swapcase() -> it will convert lower case to upper case and vice versa**"
      ],
      "metadata": {
        "id": "zE-AnpmCY3J9"
      }
    },
    {
      "cell_type": "code",
      "source": [
        "text = \"Hello World! 1234\"\n",
        "swapped_text = text.swapcase()\n",
        "print(swapped_text)"
      ],
      "metadata": {
        "colab": {
          "base_uri": "https://localhost:8080/"
        },
        "id": "-L45S3vaY4uw",
        "outputId": "15cfb42e-6304-45d3-9322-3c23c6fb290c"
      },
      "execution_count": null,
      "outputs": [
        {
          "output_type": "stream",
          "name": "stdout",
          "text": [
            "hELLO wORLD! 1234\n"
          ]
        }
      ]
    }
  ]
}
