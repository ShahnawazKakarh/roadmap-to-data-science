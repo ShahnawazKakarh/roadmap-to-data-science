{
  "nbformat": 4,
  "nbformat_minor": 0,
  "metadata": {
    "colab": {
      "provenance": [],
      "authorship_tag": "ABX9TyMOD5tC0Ky0Ql4BUY5RXYPd",
      "include_colab_link": true
    },
    "kernelspec": {
      "name": "python3",
      "display_name": "Python 3"
    },
    "language_info": {
      "name": "python"
    }
  },
  "cells": [
    {
      "cell_type": "markdown",
      "metadata": {
        "id": "view-in-github",
        "colab_type": "text"
      },
      "source": [
        "<a href=\"https://colab.research.google.com/github/ShahnawazKakarh/roadmap-to-data-science/blob/master/python/02_Operators%26Strings.ipynb\" target=\"_parent\"><img src=\"https://colab.research.google.com/assets/colab-badge.svg\" alt=\"Open In Colab\"/></a>"
      ]
    },
    {
      "cell_type": "markdown",
      "source": [
        "# **Arithmetic Operaters**"
      ],
      "metadata": {
        "id": "YFtJcVmYw1Cu"
      }
    },
    {
      "cell_type": "code",
      "source": [
        "x = 10\n",
        "y = 3\n",
        "\n",
        "## Perform the arithematic operaters\n",
        "print(x + y) # Addition\n",
        "print(x - y) # Subtraction\n",
        "print(x * y) # Multiplication\n",
        "print(x / y) # Division\n",
        "print(x // y) # Floor Division - approx value\n",
        "print(x % y) # Modulus (remainder)\n",
        "print(x ** y) # Exponentiation 10 into power 3"
      ],
      "metadata": {
        "colab": {
          "base_uri": "https://localhost:8080/"
        },
        "id": "52rhbOtnw6kK",
        "outputId": "9e44eefd-7f2c-4804-e794-f1db7f529f07"
      },
      "execution_count": null,
      "outputs": [
        {
          "output_type": "stream",
          "name": "stdout",
          "text": [
            "13\n",
            "7\n",
            "30\n",
            "3.3333333333333335\n",
            "3\n",
            "1\n",
            "1000\n"
          ]
        }
      ]
    },
    {
      "cell_type": "code",
      "source": [
        "a = 10 + \"20\"\n",
        "print(a)"
      ],
      "metadata": {
        "colab": {
          "base_uri": "https://localhost:8080/",
          "height": 162
        },
        "id": "6YUePnC33yrE",
        "outputId": "e240d382-de4e-4dd8-cf7e-53e4f34843b9"
      },
      "execution_count": null,
      "outputs": [
        {
          "output_type": "error",
          "ename": "TypeError",
          "evalue": "unsupported operand type(s) for +: 'int' and 'str'",
          "traceback": [
            "\u001b[0;31m---------------------------------------------------------------------------\u001b[0m",
            "\u001b[0;31mTypeError\u001b[0m                                 Traceback (most recent call last)",
            "\u001b[0;32m/tmp/ipython-input-684300289.py\u001b[0m in \u001b[0;36m<cell line: 0>\u001b[0;34m()\u001b[0m\n\u001b[0;32m----> 1\u001b[0;31m \u001b[0ma\u001b[0m \u001b[0;34m=\u001b[0m \u001b[0;36m10\u001b[0m \u001b[0;34m+\u001b[0m \u001b[0;34m\"20\"\u001b[0m\u001b[0;34m\u001b[0m\u001b[0;34m\u001b[0m\u001b[0m\n\u001b[0m\u001b[1;32m      2\u001b[0m \u001b[0mprint\u001b[0m\u001b[0;34m(\u001b[0m\u001b[0ma\u001b[0m\u001b[0;34m)\u001b[0m\u001b[0;34m\u001b[0m\u001b[0;34m\u001b[0m\u001b[0m\n",
            "\u001b[0;31mTypeError\u001b[0m: unsupported operand type(s) for +: 'int' and 'str'"
          ]
        }
      ]
    },
    {
      "cell_type": "code",
      "source": [
        "b = 10 + 23.45\n",
        "print(b)"
      ],
      "metadata": {
        "colab": {
          "base_uri": "https://localhost:8080/"
        },
        "id": "aMTqTN_V4nG9",
        "outputId": "cee6463f-4c3d-4121-99e6-7bacc28b6a0c"
      },
      "execution_count": null,
      "outputs": [
        {
          "output_type": "stream",
          "name": "stdout",
          "text": [
            "33.45\n"
          ]
        }
      ]
    },
    {
      "cell_type": "markdown",
      "source": [
        "# **Comparison Operators**"
      ],
      "metadata": {
        "id": "nvjZKb-J4z9O"
      }
    },
    {
      "cell_type": "code",
      "source": [
        "x = 5\n",
        "y = 10\n",
        "\n",
        "## Perform comparison operator\n",
        "print(x == y) # Equal to\n",
        "print(x != y) # Not Equal to\n",
        "print(x > y)  # Greater than\n",
        "print(x < y)  # Less than\n",
        "print(x >= y) # Greater than or equal to\n",
        "print(x <= y) # Less than or equal to"
      ],
      "metadata": {
        "colab": {
          "base_uri": "https://localhost:8080/"
        },
        "id": "SNVyvTUB44C_",
        "outputId": "1ce84e0d-684f-477f-f951-270886e2a7b0"
      },
      "execution_count": null,
      "outputs": [
        {
          "output_type": "stream",
          "name": "stdout",
          "text": [
            "False\n",
            "True\n",
            "False\n",
            "True\n",
            "False\n",
            "True\n"
          ]
        }
      ]
    },
    {
      "cell_type": "markdown",
      "source": [
        "# **Logical Operators**"
      ],
      "metadata": {
        "id": "W5v-FUe35nSI"
      }
    },
    {
      "cell_type": "code",
      "source": [
        "x = 5\n",
        "y = 10\n",
        "z = 15\n",
        "\n",
        "## Perform logical operators\n",
        "print(x < y and y < z)\n",
        "print(x < y or x > z)\n",
        "print(not(x < y))"
      ],
      "metadata": {
        "colab": {
          "base_uri": "https://localhost:8080/"
        },
        "id": "uRVpkHP15rHh",
        "outputId": "6dd205ac-c318-4d65-82c9-a143ab5c41ce"
      },
      "execution_count": null,
      "outputs": [
        {
          "output_type": "stream",
          "name": "stdout",
          "text": [
            "True\n",
            "True\n",
            "False\n"
          ]
        }
      ]
    },
    {
      "cell_type": "markdown",
      "source": [
        "# **Bitwise Operators**"
      ],
      "metadata": {
        "id": "A_cS9-ZDA7kI"
      }
    },
    {
      "cell_type": "code",
      "source": [
        "x = 10\n",
        "y = 6\n",
        "\n",
        "## Perform Bitwise Operations\n",
        "print(x & y) # AND Operation\n",
        "print(x | y) # OR Operation\n",
        "print(x ^ y) # XOR Operation\n",
        "\n",
        "## Task\n",
        "print(~x) # NOT Operation\n",
        "\n",
        "\n",
        "print(x << 1) # Left Shift Operation\n",
        "print(x >> 1) # Right Shift Operation"
      ],
      "metadata": {
        "colab": {
          "base_uri": "https://localhost:8080/"
        },
        "id": "c7-8aXBiBA9K",
        "outputId": "d90dd4ad-78fd-4179-bf68-3390e06759a0"
      },
      "execution_count": null,
      "outputs": [
        {
          "output_type": "stream",
          "name": "stdout",
          "text": [
            "2\n",
            "14\n",
            "12\n",
            "-11\n",
            "20\n",
            "5\n"
          ]
        }
      ]
    },
    {
      "cell_type": "markdown",
      "source": [
        "# **Assignment Operators**"
      ],
      "metadata": {
        "id": "MVbCZRSh1ZwR"
      }
    },
    {
      "cell_type": "code",
      "source": [],
      "metadata": {
        "id": "gJ54tEEf1dXs"
      },
      "execution_count": null,
      "outputs": []
    },
    {
      "cell_type": "code",
      "source": [
        "x = 20\n",
        "y = 3\n",
        "\n",
        "## Perform assignment operators\n",
        "x += y # x = x + y\n",
        "print(x)\n",
        "\n",
        "x -= y # x = x - y\n",
        "print(x)\n",
        "\n",
        "x *= y\n",
        "print(x)\n",
        "\n",
        "x /= y\n",
        "print(x)\n",
        "\n",
        "x %= y\n",
        "print(x)"
      ],
      "metadata": {
        "colab": {
          "base_uri": "https://localhost:8080/"
        },
        "id": "qBM_trZ9xLfN",
        "outputId": "c491db04-3893-4130-b649-0bbe9ddd0bad"
      },
      "execution_count": null,
      "outputs": [
        {
          "output_type": "stream",
          "name": "stdout",
          "text": [
            "23\n",
            "20\n",
            "60\n",
            "20.0\n",
            "2.0\n"
          ]
        }
      ]
    },
    {
      "cell_type": "markdown",
      "source": [
        "# **Membership Operators**"
      ],
      "metadata": {
        "id": "qO3mtQ-13A58"
      }
    },
    {
      "cell_type": "code",
      "source": [
        "print('a' in 'Priya')"
      ],
      "metadata": {
        "colab": {
          "base_uri": "https://localhost:8080/"
        },
        "id": "L3Vu2v9E3E5g",
        "outputId": "da2e7d79-e297-4cfc-81de-623db6b7b289"
      },
      "execution_count": null,
      "outputs": [
        {
          "output_type": "stream",
          "name": "stdout",
          "text": [
            "True\n"
          ]
        }
      ]
    },
    {
      "cell_type": "code",
      "source": [
        "print('a' not in 'Priya')"
      ],
      "metadata": {
        "colab": {
          "base_uri": "https://localhost:8080/"
        },
        "id": "jwh-_HDt3qlq",
        "outputId": "a5697b28-37c6-433d-a9fe-20f7ba0f6a53"
      },
      "execution_count": null,
      "outputs": [
        {
          "output_type": "stream",
          "name": "stdout",
          "text": [
            "False\n"
          ]
        }
      ]
    },
    {
      "cell_type": "markdown",
      "source": [
        "# **Identity Operators**"
      ],
      "metadata": {
        "id": "Xok_-2hQzHMT"
      }
    },
    {
      "cell_type": "code",
      "source": [
        "x = 10\n",
        "y = 10\n",
        "\n",
        "## Perform identity operators\n",
        "print(x is y)\n",
        "print(x is not y)"
      ],
      "metadata": {
        "colab": {
          "base_uri": "https://localhost:8080/"
        },
        "id": "MHs78Xy63z-N",
        "outputId": "0f20d435-ea4a-4bd7-be26-8a66518b0aed"
      },
      "execution_count": null,
      "outputs": [
        {
          "output_type": "stream",
          "name": "stdout",
          "text": [
            "True\n",
            "False\n"
          ]
        }
      ]
    },
    {
      "cell_type": "markdown",
      "source": [
        "How to find memory address of any variable"
      ],
      "metadata": {
        "id": "PR0OvFVrGJCW"
      }
    },
    {
      "cell_type": "code",
      "source": [
        "print(id(x))\n",
        "print(id(y))"
      ],
      "metadata": {
        "colab": {
          "base_uri": "https://localhost:8080/"
        },
        "id": "aZwfHB25GNBG",
        "outputId": "8d01d861-17c0-4036-a125-5096b5435a3e"
      },
      "execution_count": null,
      "outputs": [
        {
          "output_type": "stream",
          "name": "stdout",
          "text": [
            "11642376\n",
            "11642376\n"
          ]
        }
      ]
    },
    {
      "cell_type": "markdown",
      "source": [
        "# **Strings in Python**"
      ],
      "metadata": {
        "id": "fPtdA_o_G4vz"
      }
    },
    {
      "cell_type": "code",
      "source": [
        "name = \"Shahnawaz\"\n",
        "type(name)"
      ],
      "metadata": {
        "colab": {
          "base_uri": "https://localhost:8080/"
        },
        "id": "6IUERsSdG79q",
        "outputId": "52963822-09b9-429e-a11e-e50ab9836ecc"
      },
      "execution_count": null,
      "outputs": [
        {
          "output_type": "execute_result",
          "data": {
            "text/plain": [
              "str"
            ]
          },
          "metadata": {},
          "execution_count": 6
        }
      ]
    },
    {
      "cell_type": "code",
      "source": [
        "string = \"Hello, World!\"\n",
        "second_char = string[1]\n",
        "last_char = string[-1]\n",
        "\n",
        "print(second_char)\n",
        "print(last_char)"
      ],
      "metadata": {
        "colab": {
          "base_uri": "https://localhost:8080/"
        },
        "id": "KBVthl1hv4pi",
        "outputId": "1fa2f159-fd88-4f0c-e78e-6af5bd9008c0"
      },
      "execution_count": null,
      "outputs": [
        {
          "output_type": "stream",
          "name": "stdout",
          "text": [
            "e\n",
            "!\n"
          ]
        }
      ]
    },
    {
      "cell_type": "code",
      "source": [
        "len(string)"
      ],
      "metadata": {
        "colab": {
          "base_uri": "https://localhost:8080/"
        },
        "id": "b7e_OzMgv7JK",
        "outputId": "4b639afb-04e9-4cfa-c2ef-b685622d2fad"
      },
      "execution_count": null,
      "outputs": [
        {
          "output_type": "execute_result",
          "data": {
            "text/plain": [
              "13"
            ]
          },
          "metadata": {},
          "execution_count": 2
        }
      ]
    },
    {
      "cell_type": "markdown",
      "source": [
        "# **Slicing Operation**"
      ],
      "metadata": {
        "id": "Mc2s26v_v-g-"
      }
    },
    {
      "cell_type": "markdown",
      "source": [
        "string[start:end:step_size]"
      ],
      "metadata": {
        "id": "Ck8LP_vMwCwF"
      }
    },
    {
      "cell_type": "code",
      "source": [
        "print(string[1:4])"
      ],
      "metadata": {
        "colab": {
          "base_uri": "https://localhost:8080/"
        },
        "id": "1SVMqZRvv_5A",
        "outputId": "907336b4-2748-44d3-edcd-71dc32624674"
      },
      "execution_count": null,
      "outputs": [
        {
          "output_type": "stream",
          "name": "stdout",
          "text": [
            "ell\n"
          ]
        }
      ]
    },
    {
      "cell_type": "code",
      "source": [
        "print(string[1:8:2])"
      ],
      "metadata": {
        "colab": {
          "base_uri": "https://localhost:8080/"
        },
        "id": "hzBvhzU-IKjm",
        "outputId": "7a4f151e-5b55-4ff1-caa9-38e586f92d28"
      },
      "execution_count": null,
      "outputs": [
        {
          "output_type": "stream",
          "name": "stdout",
          "text": [
            "el,W\n"
          ]
        }
      ]
    },
    {
      "cell_type": "code",
      "source": [
        "print(string[:5])"
      ],
      "metadata": {
        "colab": {
          "base_uri": "https://localhost:8080/"
        },
        "id": "RKjRIYQ8INHu",
        "outputId": "12c614b5-dc4c-4031-d9ad-c3afd09b27bf"
      },
      "execution_count": null,
      "outputs": [
        {
          "output_type": "stream",
          "name": "stdout",
          "text": [
            "Hello\n"
          ]
        }
      ]
    },
    {
      "cell_type": "code",
      "source": [
        "print(string[7:])"
      ],
      "metadata": {
        "colab": {
          "base_uri": "https://localhost:8080/"
        },
        "id": "PTO8F3bIIQhD",
        "outputId": "acf36391-ba00-4780-e79a-477353eb1b15"
      },
      "execution_count": null,
      "outputs": [
        {
          "output_type": "stream",
          "name": "stdout",
          "text": [
            "World!\n"
          ]
        }
      ]
    },
    {
      "cell_type": "markdown",
      "source": [
        "# **Python strings are immutable. Once a string is created, you cannot change it.**"
      ],
      "metadata": {
        "id": "HYZ_6vcfITUn"
      }
    },
    {
      "cell_type": "code",
      "source": [
        "print(string[-4:])"
      ],
      "metadata": {
        "colab": {
          "base_uri": "https://localhost:8080/"
        },
        "id": "16SFLQn4IViJ",
        "outputId": "ba807526-ad65-4c64-a004-f2e59d82d827"
      },
      "execution_count": null,
      "outputs": [
        {
          "output_type": "stream",
          "name": "stdout",
          "text": [
            "rld!\n"
          ]
        }
      ]
    },
    {
      "cell_type": "code",
      "source": [
        "string1 = \"Hello, World!\"\n",
        "\n",
        "print(string1[:-5])"
      ],
      "metadata": {
        "id": "tj0P2QlVIpsw",
        "outputId": "c6274f70-445f-4abf-c828-909511e7f2e9",
        "colab": {
          "base_uri": "https://localhost:8080/"
        }
      },
      "execution_count": null,
      "outputs": [
        {
          "output_type": "stream",
          "name": "stdout",
          "text": [
            "Hello, W\n"
          ]
        }
      ]
    },
    {
      "cell_type": "markdown",
      "source": [
        "# **Reversal of the entire string**"
      ],
      "metadata": {
        "id": "xdjgdhkSJc7p"
      }
    },
    {
      "cell_type": "code",
      "source": [
        "print(string1[::-1])"
      ],
      "metadata": {
        "colab": {
          "base_uri": "https://localhost:8080/"
        },
        "id": "OYERmJfeJeVc",
        "outputId": "882c7e5a-c7ba-4751-e380-8057c6716d58"
      },
      "execution_count": null,
      "outputs": [
        {
          "output_type": "stream",
          "name": "stdout",
          "text": [
            "!dlroW ,olleH\n"
          ]
        }
      ]
    },
    {
      "cell_type": "code",
      "source": [
        "print(string1[::])"
      ],
      "metadata": {
        "colab": {
          "base_uri": "https://localhost:8080/"
        },
        "id": "ZTUnUWAEJkla",
        "outputId": "3d1dca4b-95a5-4fe4-f8ff-cf53ca0c8422"
      },
      "execution_count": null,
      "outputs": [
        {
          "output_type": "stream",
          "name": "stdout",
          "text": [
            "Hello, World!\n"
          ]
        }
      ]
    },
    {
      "cell_type": "code",
      "source": [
        "print(string1[::-2])"
      ],
      "metadata": {
        "colab": {
          "base_uri": "https://localhost:8080/"
        },
        "id": "MQKVzAhxJpVs",
        "outputId": "c52f75aa-e479-4cbe-a285-de84646d1d26"
      },
      "execution_count": null,
      "outputs": [
        {
          "output_type": "stream",
          "name": "stdout",
          "text": [
            "!lo olH\n"
          ]
        }
      ]
    },
    {
      "cell_type": "markdown",
      "source": [
        "# **Inbuilt Functions of String**"
      ],
      "metadata": {
        "id": "B-9fKFjCJw7f"
      }
    },
    {
      "cell_type": "code",
      "source": [
        "uppercase_string = string1.upper()\n",
        "print(uppercase_string)"
      ],
      "metadata": {
        "colab": {
          "base_uri": "https://localhost:8080/"
        },
        "id": "jZ6k0vfuJyaD",
        "outputId": "02ecfc54-47cc-48ec-a647-f8d714d43205"
      },
      "execution_count": null,
      "outputs": [
        {
          "output_type": "stream",
          "name": "stdout",
          "text": [
            "HELLO, WORLD!\n"
          ]
        }
      ]
    },
    {
      "cell_type": "code",
      "source": [
        "lowercase_string = string1.lower()\n",
        "print(lowercase_string)"
      ],
      "metadata": {
        "colab": {
          "base_uri": "https://localhost:8080/"
        },
        "id": "xuCBCq5KJ5cc",
        "outputId": "b697f980-7e90-41b6-8af6-dbc4de2521fc"
      },
      "execution_count": null,
      "outputs": [
        {
          "output_type": "stream",
          "name": "stdout",
          "text": [
            "hello, world!\n"
          ]
        }
      ]
    },
    {
      "cell_type": "code",
      "source": [
        "string = \"Today's session is quite fun\"\n",
        "titlecase_string = string.title()\n",
        "print(titlecase_string)"
      ],
      "metadata": {
        "colab": {
          "base_uri": "https://localhost:8080/"
        },
        "id": "HQVvj-TRJ-wN",
        "outputId": "8d2b9353-1b7a-4dd7-c098-b9d1ce5a9ee6"
      },
      "execution_count": null,
      "outputs": [
        {
          "output_type": "stream",
          "name": "stdout",
          "text": [
            "Today'S Session Is Quite Fun\n"
          ]
        }
      ]
    },
    {
      "cell_type": "code",
      "source": [
        "string = \"Today's session is quite fun\"\n",
        "capitalized_string = string.capitalize()\n",
        "print(capitalized_string)"
      ],
      "metadata": {
        "colab": {
          "base_uri": "https://localhost:8080/"
        },
        "id": "iW9FaGr7fcrG",
        "outputId": "fc9f0dec-68b2-4342-93e9-ca64403ca233"
      },
      "execution_count": null,
      "outputs": [
        {
          "output_type": "stream",
          "name": "stdout",
          "text": [
            "Today's session is quite fun\n"
          ]
        }
      ]
    },
    {
      "cell_type": "code",
      "source": [
        "str1 = \"Hello\"\n",
        "str2 = \"World\"\n",
        "# Concatenation Operation\n",
        "result = str1 + \" \" + str2\n",
        "print(result)"
      ],
      "metadata": {
        "colab": {
          "base_uri": "https://localhost:8080/"
        },
        "id": "SxpxUm7qKBQr",
        "outputId": "9e6e7e34-8ad0-4816-d7b2-dade04bf1598"
      },
      "execution_count": null,
      "outputs": [
        {
          "output_type": "stream",
          "name": "stdout",
          "text": [
            "Hello World\n"
          ]
        }
      ]
    },
    {
      "cell_type": "code",
      "source": [
        "result = str1 * 3\n",
        "print(result)"
      ],
      "metadata": {
        "colab": {
          "base_uri": "https://localhost:8080/"
        },
        "id": "BufqKFviKFOE",
        "outputId": "5958d523-3d94-42cc-8cc7-4b16276ebe61"
      },
      "execution_count": null,
      "outputs": [
        {
          "output_type": "stream",
          "name": "stdout",
          "text": [
            "HelloHelloHello\n"
          ]
        }
      ]
    },
    {
      "cell_type": "code",
      "source": [
        "print(string[1:8:2])"
      ],
      "metadata": {
        "colab": {
          "base_uri": "https://localhost:8080/"
        },
        "id": "33YNKYuQKICV",
        "outputId": "ee985064-f42d-4ac1-be73-33aecda5b7f3"
      },
      "execution_count": null,
      "outputs": [
        {
          "output_type": "stream",
          "name": "stdout",
          "text": [
            "oa' \n"
          ]
        }
      ]
    },
    {
      "cell_type": "code",
      "source": [
        "## expression\n",
        "string[1:8:2]"
      ],
      "metadata": {
        "colab": {
          "base_uri": "https://localhost:8080/",
          "height": 35
        },
        "id": "CxOiW69VKKMy",
        "outputId": "19185f6a-5784-4670-b0f5-2c0cc1310725"
      },
      "execution_count": null,
      "outputs": [
        {
          "output_type": "execute_result",
          "data": {
            "text/plain": [
              "\"oa' \""
            ],
            "application/vnd.google.colaboratory.intrinsic+json": {
              "type": "string"
            }
          },
          "metadata": {},
          "execution_count": 19
        }
      ]
    }
  ]
}