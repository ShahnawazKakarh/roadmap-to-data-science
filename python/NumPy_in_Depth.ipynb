{
  "nbformat": 4,
  "nbformat_minor": 0,
  "metadata": {
    "colab": {
      "provenance": [],
      "authorship_tag": "ABX9TyP/vwFZYWTFgiVPoaLohQ4s",
      "include_colab_link": true
    },
    "kernelspec": {
      "name": "python3",
      "display_name": "Python 3"
    },
    "language_info": {
      "name": "python"
    }
  },
  "cells": [
    {
      "cell_type": "markdown",
      "metadata": {
        "id": "view-in-github",
        "colab_type": "text"
      },
      "source": [
        "<a href=\"https://colab.research.google.com/github/ShahnawazKakarh/roadmap-to-data-science/blob/master/python/NumPy_in_Depth.ipynb\" target=\"_parent\"><img src=\"https://colab.research.google.com/assets/colab-badge.svg\" alt=\"Open In Colab\"/></a>"
      ]
    },
    {
      "cell_type": "code",
      "execution_count": null,
      "metadata": {
        "id": "HLR9cm6HkrB2"
      },
      "outputs": [],
      "source": [
        "import numpy as np"
      ]
    },
    {
      "cell_type": "markdown",
      "source": [
        "Creation of numpy arrays from list"
      ],
      "metadata": {
        "id": "LJkLhgHgF1mO"
      }
    },
    {
      "cell_type": "markdown",
      "source": [
        "1D Array"
      ],
      "metadata": {
        "id": "bljqTNr7F2Jw"
      }
    },
    {
      "cell_type": "code",
      "source": [
        "array_from_list = np.array([1, 2, 3, 4, 5])\n",
        "print(array_from_list)"
      ],
      "metadata": {
        "colab": {
          "base_uri": "https://localhost:8080/"
        },
        "id": "9DMI9Fv6F4HC",
        "outputId": "54ebb218-fd41-4f69-c8c3-147a9eebb874"
      },
      "execution_count": null,
      "outputs": [
        {
          "output_type": "stream",
          "name": "stdout",
          "text": [
            "[1 2 3 4 5]\n"
          ]
        }
      ]
    },
    {
      "cell_type": "code",
      "source": [
        "type(array_from_list)"
      ],
      "metadata": {
        "colab": {
          "base_uri": "https://localhost:8080/"
        },
        "id": "0HXvd7pWR0u7",
        "outputId": "06a0a024-b2e2-47e7-f3e8-aaff8c783e23"
      },
      "execution_count": null,
      "outputs": [
        {
          "output_type": "execute_result",
          "data": {
            "text/plain": [
              "numpy.ndarray"
            ]
          },
          "metadata": {},
          "execution_count": 4
        }
      ]
    },
    {
      "cell_type": "markdown",
      "source": [
        "Tuple to Numpy Array"
      ],
      "metadata": {
        "id": "_THlWcSwTzuy"
      }
    },
    {
      "cell_type": "code",
      "source": [
        "array_from_tuple = np.array(1, 2, 3, 4, 5) ## using one less paranthesis of tuple.\n",
        "print(array_from_tuple)"
      ],
      "metadata": {
        "colab": {
          "base_uri": "https://localhost:8080/",
          "height": 162
        },
        "id": "IXjs8mcXTy3S",
        "outputId": "23893395-f010-46c0-9211-3a496f4eeda0"
      },
      "execution_count": null,
      "outputs": [
        {
          "output_type": "error",
          "ename": "TypeError",
          "evalue": "array() takes from 1 to 2 positional arguments but 5 were given",
          "traceback": [
            "\u001b[0;31m---------------------------------------------------------------------------\u001b[0m",
            "\u001b[0;31mTypeError\u001b[0m                                 Traceback (most recent call last)",
            "\u001b[0;32m/tmp/ipython-input-1613380353.py\u001b[0m in \u001b[0;36m<cell line: 0>\u001b[0;34m()\u001b[0m\n\u001b[0;32m----> 1\u001b[0;31m \u001b[0marray_from_tuple\u001b[0m \u001b[0;34m=\u001b[0m \u001b[0mnp\u001b[0m\u001b[0;34m.\u001b[0m\u001b[0marray\u001b[0m\u001b[0;34m(\u001b[0m\u001b[0;36m1\u001b[0m\u001b[0;34m,\u001b[0m \u001b[0;36m2\u001b[0m\u001b[0;34m,\u001b[0m \u001b[0;36m3\u001b[0m\u001b[0;34m,\u001b[0m \u001b[0;36m4\u001b[0m\u001b[0;34m,\u001b[0m \u001b[0;36m5\u001b[0m\u001b[0;34m)\u001b[0m \u001b[0;31m## using one less paranthesis of tuple.\u001b[0m\u001b[0;34m\u001b[0m\u001b[0;34m\u001b[0m\u001b[0m\n\u001b[0m\u001b[1;32m      2\u001b[0m \u001b[0mprint\u001b[0m\u001b[0;34m(\u001b[0m\u001b[0marray_from_tuple\u001b[0m\u001b[0;34m)\u001b[0m\u001b[0;34m\u001b[0m\u001b[0;34m\u001b[0m\u001b[0m\n",
            "\u001b[0;31mTypeError\u001b[0m: array() takes from 1 to 2 positional arguments but 5 were given"
          ]
        }
      ]
    },
    {
      "cell_type": "code",
      "source": [
        "array_from_tuple = np.array((1, 2, 3, 4, 5))\n",
        "print(array_from_tuple)"
      ],
      "metadata": {
        "colab": {
          "base_uri": "https://localhost:8080/"
        },
        "id": "jcFCM-PwUAVV",
        "outputId": "8a788724-a695-46e9-ca36-744893c5b5eb"
      },
      "execution_count": null,
      "outputs": [
        {
          "output_type": "stream",
          "name": "stdout",
          "text": [
            "[1 2 3 4 5]\n"
          ]
        }
      ]
    },
    {
      "cell_type": "markdown",
      "source": [
        "2D Array in Numpy"
      ],
      "metadata": {
        "id": "Z4ChZz-dUXXC"
      }
    },
    {
      "cell_type": "code",
      "source": [
        "empty_array_2d = np.array([[]])\n",
        "print(empty_array_2d)"
      ],
      "metadata": {
        "colab": {
          "base_uri": "https://localhost:8080/"
        },
        "id": "G_4Oft2qUZFZ",
        "outputId": "71993e0d-2877-4b11-e601-af444437fb86"
      },
      "execution_count": null,
      "outputs": [
        {
          "output_type": "stream",
          "name": "stdout",
          "text": [
            "[]\n"
          ]
        }
      ]
    },
    {
      "cell_type": "code",
      "source": [
        "array_2d = np.array([[1, 2, 3],\n",
        "                     [4, 5, 6],\n",
        "                     [7, 8, 9]])\n",
        "\n",
        "print(array_2d)"
      ],
      "metadata": {
        "colab": {
          "base_uri": "https://localhost:8080/"
        },
        "id": "Y4tItfsgUn0P",
        "outputId": "a3109337-b84a-419a-a7a4-a78fb1601360"
      },
      "execution_count": null,
      "outputs": [
        {
          "output_type": "stream",
          "name": "stdout",
          "text": [
            "[[1 2 3]\n",
            " [4 5 6]\n",
            " [7 8 9]]\n"
          ]
        }
      ]
    },
    {
      "cell_type": "code",
      "source": [
        "type(array_2d)"
      ],
      "metadata": {
        "colab": {
          "base_uri": "https://localhost:8080/"
        },
        "id": "rz6L2gg9U6-i",
        "outputId": "5c389608-ef7f-426e-d7f3-5c82e36f2efc"
      },
      "execution_count": null,
      "outputs": [
        {
          "output_type": "execute_result",
          "data": {
            "text/plain": [
              "numpy.ndarray"
            ]
          },
          "metadata": {},
          "execution_count": 9
        }
      ]
    },
    {
      "cell_type": "markdown",
      "source": [
        "3d Array in Numpy"
      ],
      "metadata": {
        "id": "uQrLs0q2U9ct"
      }
    },
    {
      "cell_type": "code",
      "source": [
        "empty_array_3d = np.array([[[]]])\n",
        "print(empty_array_3d)"
      ],
      "metadata": {
        "colab": {
          "base_uri": "https://localhost:8080/"
        },
        "id": "WN3HjTrOU-63",
        "outputId": "a0d75244-0efe-4e18-abbb-9fb01a04e15f"
      },
      "execution_count": null,
      "outputs": [
        {
          "output_type": "stream",
          "name": "stdout",
          "text": [
            "[]\n"
          ]
        }
      ]
    },
    {
      "cell_type": "code",
      "source": [
        "array_3d = np.array([ [[1, 2], [3, 4]], [[5, 6], [7, 8]] ])\n",
        "print(array_3d)"
      ],
      "metadata": {
        "colab": {
          "base_uri": "https://localhost:8080/"
        },
        "id": "07BNGcEBVHIV",
        "outputId": "e365b175-af4c-497e-8ef7-0aab8a715773"
      },
      "execution_count": null,
      "outputs": [
        {
          "output_type": "stream",
          "name": "stdout",
          "text": [
            "[[[1 2]\n",
            "  [3 4]]\n",
            "\n",
            " [[5 6]\n",
            "  [7 8]]]\n"
          ]
        }
      ]
    },
    {
      "cell_type": "code",
      "source": [
        "type(array_3d)"
      ],
      "metadata": {
        "colab": {
          "base_uri": "https://localhost:8080/"
        },
        "id": "JjEhHmByWdoQ",
        "outputId": "009d388d-7e26-4cd7-8585-cc6345fcbcba"
      },
      "execution_count": null,
      "outputs": [
        {
          "output_type": "execute_result",
          "data": {
            "text/plain": [
              "numpy.ndarray"
            ]
          },
          "metadata": {},
          "execution_count": 12
        }
      ]
    },
    {
      "cell_type": "code",
      "source": [
        "array_from_tuple = np.array((1, 2, 3, 4, 5))\n",
        "print(array_from_tuple)"
      ],
      "metadata": {
        "colab": {
          "base_uri": "https://localhost:8080/"
        },
        "id": "ehZNZj_Ve3ct",
        "outputId": "e8f91d63-4786-435b-9cc2-10b77431467b"
      },
      "execution_count": null,
      "outputs": [
        {
          "output_type": "stream",
          "name": "stdout",
          "text": [
            "[1 2 3 4 5]\n"
          ]
        }
      ]
    },
    {
      "cell_type": "code",
      "source": [
        "array_from_list.ndim"
      ],
      "metadata": {
        "colab": {
          "base_uri": "https://localhost:8080/"
        },
        "id": "8r8N8BOJo3OZ",
        "outputId": "3636f4fb-ba6d-4397-852a-133b152223c6"
      },
      "execution_count": null,
      "outputs": [
        {
          "output_type": "execute_result",
          "data": {
            "text/plain": [
              "1"
            ]
          },
          "metadata": {},
          "execution_count": 14
        }
      ]
    },
    {
      "cell_type": "code",
      "source": [
        "array_from_list.shape"
      ],
      "metadata": {
        "colab": {
          "base_uri": "https://localhost:8080/"
        },
        "id": "GZ7NnykypIDQ",
        "outputId": "364d47f8-35b2-4dbc-ceb2-c52c6914d215"
      },
      "execution_count": null,
      "outputs": [
        {
          "output_type": "execute_result",
          "data": {
            "text/plain": [
              "(5,)"
            ]
          },
          "metadata": {},
          "execution_count": 15
        }
      ]
    },
    {
      "cell_type": "markdown",
      "source": [
        "# **2D Array**"
      ],
      "metadata": {
        "id": "GvBz_dAFpLjF"
      }
    },
    {
      "cell_type": "code",
      "source": [
        "array_2d = np.array([[1, 2, 3],\n",
        "                     [4, 5, 6],\n",
        "                     [7, 8, 9]])\n",
        "\n",
        "print(array_2d)"
      ],
      "metadata": {
        "colab": {
          "base_uri": "https://localhost:8080/"
        },
        "id": "pJira-h9pM3v",
        "outputId": "ba72d6e8-3bdf-4db8-c27e-dd2dc73974a1"
      },
      "execution_count": null,
      "outputs": [
        {
          "output_type": "stream",
          "name": "stdout",
          "text": [
            "[[1 2 3]\n",
            " [4 5 6]\n",
            " [7 8 9]]\n"
          ]
        }
      ]
    },
    {
      "cell_type": "code",
      "source": [
        "type(array_2d)"
      ],
      "metadata": {
        "colab": {
          "base_uri": "https://localhost:8080/"
        },
        "id": "IruTtyHqpR8U",
        "outputId": "584e7cd4-1118-4e1d-99d8-c862bb9e8cb0"
      },
      "execution_count": null,
      "outputs": [
        {
          "output_type": "execute_result",
          "data": {
            "text/plain": [
              "numpy.ndarray"
            ]
          },
          "metadata": {},
          "execution_count": 17
        }
      ]
    },
    {
      "cell_type": "code",
      "source": [
        "array_2d.ndim"
      ],
      "metadata": {
        "colab": {
          "base_uri": "https://localhost:8080/"
        },
        "id": "bJPW265IpUhS",
        "outputId": "621be980-cb09-4cf8-c72d-2d8a17de5a5b"
      },
      "execution_count": null,
      "outputs": [
        {
          "output_type": "execute_result",
          "data": {
            "text/plain": [
              "2"
            ]
          },
          "metadata": {},
          "execution_count": 18
        }
      ]
    },
    {
      "cell_type": "code",
      "source": [
        "array_2d.shape"
      ],
      "metadata": {
        "colab": {
          "base_uri": "https://localhost:8080/"
        },
        "id": "mOuO4xKepVRZ",
        "outputId": "3c974875-77f7-4f56-bffe-621c27903f17"
      },
      "execution_count": null,
      "outputs": [
        {
          "output_type": "execute_result",
          "data": {
            "text/plain": [
              "(3, 3)"
            ]
          },
          "metadata": {},
          "execution_count": 19
        }
      ]
    },
    {
      "cell_type": "code",
      "source": [],
      "metadata": {
        "id": "FjFpUseVpX4C"
      },
      "execution_count": null,
      "outputs": []
    },
    {
      "cell_type": "markdown",
      "source": [
        "# **3D Array**"
      ],
      "metadata": {
        "id": "cwRprSJ3peRy"
      }
    },
    {
      "cell_type": "code",
      "source": [
        "array_3d = np.array([[[1, 2],\n",
        "                      [3, 4]],\n",
        "\n",
        "                     [[5, 6],\n",
        "                     [7, 8]]])"
      ],
      "metadata": {
        "id": "A2m1ZSyhpfky"
      },
      "execution_count": null,
      "outputs": []
    },
    {
      "cell_type": "code",
      "source": [
        "array_3d"
      ],
      "metadata": {
        "colab": {
          "base_uri": "https://localhost:8080/"
        },
        "id": "865TsDausRMb",
        "outputId": "40959a19-5a5b-42c8-d145-63d3b9854e8f"
      },
      "execution_count": null,
      "outputs": [
        {
          "output_type": "execute_result",
          "data": {
            "text/plain": [
              "array([[[1, 2],\n",
              "        [3, 4]],\n",
              "\n",
              "       [[5, 6],\n",
              "        [7, 8]]])"
            ]
          },
          "metadata": {},
          "execution_count": 21
        }
      ]
    },
    {
      "cell_type": "code",
      "source": [
        "type(array_3d)"
      ],
      "metadata": {
        "colab": {
          "base_uri": "https://localhost:8080/"
        },
        "id": "As5XbX9-s-ng",
        "outputId": "03b3f69b-2f06-400e-947f-fe3d9029b2dc"
      },
      "execution_count": null,
      "outputs": [
        {
          "output_type": "execute_result",
          "data": {
            "text/plain": [
              "numpy.ndarray"
            ]
          },
          "metadata": {},
          "execution_count": 22
        }
      ]
    },
    {
      "cell_type": "code",
      "source": [
        "array_3d.ndim"
      ],
      "metadata": {
        "colab": {
          "base_uri": "https://localhost:8080/"
        },
        "id": "i2zfSEOLtA3r",
        "outputId": "1e0d9d93-e28f-4daa-edcb-62792d2a91f1"
      },
      "execution_count": null,
      "outputs": [
        {
          "output_type": "execute_result",
          "data": {
            "text/plain": [
              "3"
            ]
          },
          "metadata": {},
          "execution_count": 23
        }
      ]
    },
    {
      "cell_type": "code",
      "source": [
        "array_3d.shape"
      ],
      "metadata": {
        "colab": {
          "base_uri": "https://localhost:8080/"
        },
        "id": "-BLgvCXvtC5f",
        "outputId": "d6369eb7-b319-4bbf-85d8-e8877565457c"
      },
      "execution_count": null,
      "outputs": [
        {
          "output_type": "execute_result",
          "data": {
            "text/plain": [
              "(2, 2, 2)"
            ]
          },
          "metadata": {},
          "execution_count": 24
        }
      ]
    },
    {
      "cell_type": "code",
      "source": [
        "array_3d = np.array([[[1, 2],\n",
        "                      [3, 4]],\n",
        "\n",
        "                     [[5, 6],\n",
        "                     [7, 8]],\n",
        "\n",
        "                    [[9, 10],\n",
        "                     [11, 12]]])"
      ],
      "metadata": {
        "id": "eXKbwiL6tj8H"
      },
      "execution_count": null,
      "outputs": []
    },
    {
      "cell_type": "code",
      "source": [
        "array_3d.shape"
      ],
      "metadata": {
        "colab": {
          "base_uri": "https://localhost:8080/"
        },
        "id": "ypsK61Srt6Qx",
        "outputId": "53b665f2-d268-4d69-9d28-af42a9e59310"
      },
      "execution_count": null,
      "outputs": [
        {
          "output_type": "execute_result",
          "data": {
            "text/plain": [
              "(3, 2, 2)"
            ]
          },
          "metadata": {},
          "execution_count": 26
        }
      ]
    },
    {
      "cell_type": "code",
      "source": [
        "array_3d = np.array([[[1, 2, 3],\n",
        "                      [3, 4, 5]],\n",
        "\n",
        "                     [[5, 6, 7],\n",
        "                     [7, 8, 9]],\n",
        "\n",
        "                    [[9, 10, 11],\n",
        "                     [11, 12, 13]]])"
      ],
      "metadata": {
        "id": "BYz-T1mFt951"
      },
      "execution_count": null,
      "outputs": []
    },
    {
      "cell_type": "code",
      "source": [
        "array_3d.shape"
      ],
      "metadata": {
        "colab": {
          "base_uri": "https://localhost:8080/"
        },
        "id": "cCSHE0yWuIqc",
        "outputId": "1f9d3130-007e-4e16-afc4-f1806b66d730"
      },
      "execution_count": null,
      "outputs": [
        {
          "output_type": "execute_result",
          "data": {
            "text/plain": [
              "(3, 2, 3)"
            ]
          },
          "metadata": {},
          "execution_count": 28
        }
      ]
    },
    {
      "cell_type": "markdown",
      "source": [
        "# **Inhomogeneous shape of the internal submatrix**"
      ],
      "metadata": {
        "id": "x-Rw33SZu9Ij"
      }
    },
    {
      "cell_type": "code",
      "source": [
        "array_3d = np.array([[[1, 2],\n",
        "                      [3, 4]],\n",
        "\n",
        "                     [[5, 6, 7],\n",
        "                     [7, 8, 9]],\n",
        "\n",
        "                    [[9, 10, 11],\n",
        "                     [11, 12, 13]]])"
      ],
      "metadata": {
        "colab": {
          "base_uri": "https://localhost:8080/",
          "height": 216
        },
        "id": "smB9qbnNvw5W",
        "outputId": "973e0240-43f0-4b4c-df08-1eeb1a308254"
      },
      "execution_count": null,
      "outputs": [
        {
          "output_type": "error",
          "ename": "ValueError",
          "evalue": "setting an array element with a sequence. The requested array has an inhomogeneous shape after 2 dimensions. The detected shape was (3, 2) + inhomogeneous part.",
          "traceback": [
            "\u001b[0;31m---------------------------------------------------------------------------\u001b[0m",
            "\u001b[0;31mValueError\u001b[0m                                Traceback (most recent call last)",
            "\u001b[0;32m/tmp/ipython-input-149962074.py\u001b[0m in \u001b[0;36m<cell line: 0>\u001b[0;34m()\u001b[0m\n\u001b[0;32m----> 1\u001b[0;31m array_3d = np.array([[[1, 2],\n\u001b[0m\u001b[1;32m      2\u001b[0m                       [3, 4]],\n\u001b[1;32m      3\u001b[0m \u001b[0;34m\u001b[0m\u001b[0m\n\u001b[1;32m      4\u001b[0m                      [[5, 6, 7],\n\u001b[1;32m      5\u001b[0m                      [7, 8, 9]],\n",
            "\u001b[0;31mValueError\u001b[0m: setting an array element with a sequence. The requested array has an inhomogeneous shape after 2 dimensions. The detected shape was (3, 2) + inhomogeneous part."
          ]
        }
      ]
    },
    {
      "cell_type": "code",
      "source": [
        "array_3d.dtype"
      ],
      "metadata": {
        "colab": {
          "base_uri": "https://localhost:8080/"
        },
        "id": "KdQJlscSxWTy",
        "outputId": "aea4fa94-c860-40b4-f7a3-7ffc378c3c3a"
      },
      "execution_count": null,
      "outputs": [
        {
          "output_type": "execute_result",
          "data": {
            "text/plain": [
              "dtype('int64')"
            ]
          },
          "metadata": {},
          "execution_count": 30
        }
      ]
    },
    {
      "cell_type": "code",
      "source": [
        "array_ = np.array([5, -7.4, 'a', 7.2])\n",
        "array_"
      ],
      "metadata": {
        "colab": {
          "base_uri": "https://localhost:8080/"
        },
        "id": "YGKIlWVvxaIF",
        "outputId": "f26f3b66-8d4b-438e-fd5a-9c26416b8629"
      },
      "execution_count": null,
      "outputs": [
        {
          "output_type": "execute_result",
          "data": {
            "text/plain": [
              "array(['5', '-7.4', 'a', '7.2'], dtype='<U32')"
            ]
          },
          "metadata": {},
          "execution_count": 31
        }
      ]
    },
    {
      "cell_type": "code",
      "source": [
        "array_.dtype"
      ],
      "metadata": {
        "colab": {
          "base_uri": "https://localhost:8080/"
        },
        "id": "ul2pRuJ_xd9S",
        "outputId": "856f3d3d-7dcd-44dd-92d6-5668c773a1da"
      },
      "execution_count": null,
      "outputs": [
        {
          "output_type": "execute_result",
          "data": {
            "text/plain": [
              "dtype('<U32')"
            ]
          },
          "metadata": {},
          "execution_count": 32
        }
      ]
    },
    {
      "cell_type": "code",
      "source": [
        "array_ = np.array([5, -7.4, 7, 8.9])\n",
        "array_"
      ],
      "metadata": {
        "colab": {
          "base_uri": "https://localhost:8080/"
        },
        "id": "RlS_k9Ua26qE",
        "outputId": "bd4fca54-e6bc-48ee-c00d-bc334ffb4a74"
      },
      "execution_count": null,
      "outputs": [
        {
          "output_type": "execute_result",
          "data": {
            "text/plain": [
              "array([ 5. , -7.4,  7. ,  8.9])"
            ]
          },
          "metadata": {},
          "execution_count": 33
        }
      ]
    },
    {
      "cell_type": "code",
      "source": [
        "array_.dtype"
      ],
      "metadata": {
        "colab": {
          "base_uri": "https://localhost:8080/"
        },
        "id": "nLFLjHNX28y9",
        "outputId": "a26312d9-8869-4971-c442-46ee8653741e"
      },
      "execution_count": null,
      "outputs": [
        {
          "output_type": "execute_result",
          "data": {
            "text/plain": [
              "dtype('float64')"
            ]
          },
          "metadata": {},
          "execution_count": 34
        }
      ]
    },
    {
      "cell_type": "markdown",
      "source": [
        "Itemsize returns the size in bytes of each element in the array"
      ],
      "metadata": {
        "id": "CiYBrgaW2_PW"
      }
    },
    {
      "cell_type": "code",
      "source": [
        "print(\"Item size of arr_float: \", array_.itemsize, \"bytes\")"
      ],
      "metadata": {
        "colab": {
          "base_uri": "https://localhost:8080/"
        },
        "id": "gu6xDuoL3CvW",
        "outputId": "77a3fcbf-ac79-49bf-db2e-c3972a334ef4"
      },
      "execution_count": null,
      "outputs": [
        {
          "output_type": "stream",
          "name": "stdout",
          "text": [
            "Item size of arr_float:  8 bytes\n"
          ]
        }
      ]
    },
    {
      "cell_type": "markdown",
      "source": [
        "data provides a direct buffer to the memory location where the array's data is actually stored"
      ],
      "metadata": {
        "id": "QpvbH6m2l5X7"
      }
    },
    {
      "cell_type": "code",
      "source": [
        "print(\"Data buffer\", array_.data)"
      ],
      "metadata": {
        "colab": {
          "base_uri": "https://localhost:8080/"
        },
        "id": "AAUA5xQyl47c",
        "outputId": "20f4a4e7-9dd1-4059-c594-c301c77ca828"
      },
      "execution_count": null,
      "outputs": [
        {
          "output_type": "stream",
          "name": "stdout",
          "text": [
            "Data buffer <memory at 0x7ba891b1d3c0>\n"
          ]
        }
      ]
    },
    {
      "cell_type": "markdown",
      "source": [
        "# **Indexing and Slicing in NumPy**"
      ],
      "metadata": {
        "id": "fxgLiAbMnFgr"
      }
    },
    {
      "cell_type": "code",
      "source": [
        "array_from_list"
      ],
      "metadata": {
        "colab": {
          "base_uri": "https://localhost:8080/"
        },
        "id": "ylQTG4-InF4L",
        "outputId": "d52764ee-a714-4022-a8fe-b9a467fcd5ec"
      },
      "execution_count": null,
      "outputs": [
        {
          "output_type": "execute_result",
          "data": {
            "text/plain": [
              "array([1, 2, 3, 4, 5])"
            ]
          },
          "metadata": {},
          "execution_count": 37
        }
      ]
    },
    {
      "cell_type": "code",
      "source": [
        "print(array_from_list[2]) ## index"
      ],
      "metadata": {
        "colab": {
          "base_uri": "https://localhost:8080/"
        },
        "id": "AHADy8FonWRZ",
        "outputId": "3f348139-e06b-4734-923e-8ee70fd4b908"
      },
      "execution_count": null,
      "outputs": [
        {
          "output_type": "stream",
          "name": "stdout",
          "text": [
            "3\n"
          ]
        }
      ]
    },
    {
      "cell_type": "code",
      "source": [
        "array_from_list[1:4] ## slicing"
      ],
      "metadata": {
        "colab": {
          "base_uri": "https://localhost:8080/"
        },
        "id": "dUAnlv4ipFlJ",
        "outputId": "d91e7092-3379-4c84-ddfc-df45cd05f023"
      },
      "execution_count": null,
      "outputs": [
        {
          "output_type": "execute_result",
          "data": {
            "text/plain": [
              "array([2, 3, 4])"
            ]
          },
          "metadata": {},
          "execution_count": 50
        }
      ]
    },
    {
      "cell_type": "code",
      "source": [
        "array_2d"
      ],
      "metadata": {
        "colab": {
          "base_uri": "https://localhost:8080/"
        },
        "id": "DRm45b5dnOS-",
        "outputId": "b87738b4-5dec-4249-d09a-5ea7e8098c5e"
      },
      "execution_count": null,
      "outputs": [
        {
          "output_type": "execute_result",
          "data": {
            "text/plain": [
              "array([[1, 2, 3],\n",
              "       [4, 5, 6],\n",
              "       [7, 8, 9]])"
            ]
          },
          "metadata": {},
          "execution_count": 38
        }
      ]
    },
    {
      "cell_type": "code",
      "source": [
        "print(array_2d[2,2]) ## indexing"
      ],
      "metadata": {
        "colab": {
          "base_uri": "https://localhost:8080/"
        },
        "id": "pmy5qpS9nZiH",
        "outputId": "960a22c1-38d8-4ae1-82fa-0461745cefb3"
      },
      "execution_count": null,
      "outputs": [
        {
          "output_type": "stream",
          "name": "stdout",
          "text": [
            "9\n"
          ]
        }
      ]
    },
    {
      "cell_type": "code",
      "source": [
        "print(array_2d[2][2]) ## indexing"
      ],
      "metadata": {
        "colab": {
          "base_uri": "https://localhost:8080/"
        },
        "id": "2bzi-mRwnnan",
        "outputId": "630a9006-c9ba-43f8-91e6-fcb4b024d3c6"
      },
      "execution_count": null,
      "outputs": [
        {
          "output_type": "stream",
          "name": "stdout",
          "text": [
            "9\n"
          ]
        }
      ]
    },
    {
      "cell_type": "code",
      "source": [
        "array_2d[0:2, 1:] ## slicing"
      ],
      "metadata": {
        "colab": {
          "base_uri": "https://localhost:8080/"
        },
        "id": "9c_6Z4fbqco8",
        "outputId": "fada307b-c422-46b9-9472-d94cb3a6be71"
      },
      "execution_count": null,
      "outputs": [
        {
          "output_type": "execute_result",
          "data": {
            "text/plain": [
              "array([[2, 3],\n",
              "       [5, 6]])"
            ]
          },
          "metadata": {},
          "execution_count": 51
        }
      ]
    },
    {
      "cell_type": "code",
      "source": [
        "array_2d[1:, 1:] ## slicing"
      ],
      "metadata": {
        "colab": {
          "base_uri": "https://localhost:8080/"
        },
        "id": "_-qq1TU8qjyF",
        "outputId": "da9c5722-f891-4ad6-f0c6-3e9cce7d7ccf"
      },
      "execution_count": null,
      "outputs": [
        {
          "output_type": "execute_result",
          "data": {
            "text/plain": [
              "array([[5, 6],\n",
              "       [8, 9]])"
            ]
          },
          "metadata": {},
          "execution_count": 52
        }
      ]
    },
    {
      "cell_type": "code",
      "source": [
        "array_2d[1:, 0:2] ## slicing"
      ],
      "metadata": {
        "colab": {
          "base_uri": "https://localhost:8080/"
        },
        "id": "EOZMtM6At0na",
        "outputId": "6cd11d80-f05f-4364-a3d5-e5b6b0245395"
      },
      "execution_count": null,
      "outputs": [
        {
          "output_type": "execute_result",
          "data": {
            "text/plain": [
              "array([[4, 5],\n",
              "       [7, 8]])"
            ]
          },
          "metadata": {},
          "execution_count": 53
        }
      ]
    },
    {
      "cell_type": "code",
      "source": [
        "array_3d"
      ],
      "metadata": {
        "colab": {
          "base_uri": "https://localhost:8080/"
        },
        "id": "grfPzdU_nQW6",
        "outputId": "e9cc18e7-f66b-4e89-f758-8b528e46f592"
      },
      "execution_count": null,
      "outputs": [
        {
          "output_type": "execute_result",
          "data": {
            "text/plain": [
              "array([[[ 1,  2,  3],\n",
              "        [ 3,  4,  5]],\n",
              "\n",
              "       [[ 5,  6,  7],\n",
              "        [ 7,  8,  9]],\n",
              "\n",
              "       [[ 9, 10, 11],\n",
              "        [11, 12, 13]]])"
            ]
          },
          "metadata": {},
          "execution_count": 39
        }
      ]
    },
    {
      "cell_type": "code",
      "source": [
        "print(array_3d[0, 1, 1]) ## indexing"
      ],
      "metadata": {
        "colab": {
          "base_uri": "https://localhost:8080/"
        },
        "id": "lX1MTSq8ntKE",
        "outputId": "dd8226b4-d62a-4a10-9c50-7719795eaf28"
      },
      "execution_count": null,
      "outputs": [
        {
          "output_type": "stream",
          "name": "stdout",
          "text": [
            "4\n"
          ]
        }
      ]
    },
    {
      "cell_type": "code",
      "source": [
        "print(array_3d[2, 1, 2]) ## indexing"
      ],
      "metadata": {
        "colab": {
          "base_uri": "https://localhost:8080/"
        },
        "id": "JmFRq1V1oorp",
        "outputId": "edea3921-4525-4a95-c7af-fa7dd1e79cc3"
      },
      "execution_count": null,
      "outputs": [
        {
          "output_type": "stream",
          "name": "stdout",
          "text": [
            "13\n"
          ]
        }
      ]
    },
    {
      "cell_type": "code",
      "source": [
        "print(array_3d[1, 1, 1]) ## indexing"
      ],
      "metadata": {
        "colab": {
          "base_uri": "https://localhost:8080/"
        },
        "id": "cCBjt2D_o7ya",
        "outputId": "e91d0931-abf5-4c49-f999-b64914452f25"
      },
      "execution_count": null,
      "outputs": [
        {
          "output_type": "stream",
          "name": "stdout",
          "text": [
            "8\n"
          ]
        }
      ]
    },
    {
      "cell_type": "code",
      "source": [
        "print(array_3d[0, 1, 0]) ## indexing"
      ],
      "metadata": {
        "colab": {
          "base_uri": "https://localhost:8080/"
        },
        "id": "uCNK0Q8xo-nf",
        "outputId": "303b6dbc-981e-436d-8b50-f323b2873fc1"
      },
      "execution_count": null,
      "outputs": [
        {
          "output_type": "stream",
          "name": "stdout",
          "text": [
            "3\n"
          ]
        }
      ]
    },
    {
      "cell_type": "code",
      "source": [
        "array_3d[0:2, 1, 1:] ## slicing"
      ],
      "metadata": {
        "id": "ICh3TZYcpBK0"
      },
      "execution_count": null,
      "outputs": []
    },
    {
      "cell_type": "markdown",
      "source": [
        "Task: How slicing operation works internally in 3D array and check on all the arithmetic operations for the numpy array\n",
        "\n",
        "array_3d[start1:stop1, start2:stop2, start3:stop3]"
      ],
      "metadata": {
        "id": "DWufmYOKq1__"
      }
    },
    {
      "cell_type": "code",
      "source": [
        "array_3d[0:2, 1, 1:]\n",
        "## here 0:2 means 0,1 (as index takes one value less)\n",
        "## next is 1 which is our row taking size we are saying we want to take row 1 elements of 0,1\n",
        "## 1: it means takes 1st index to infinite elements\n",
        "## so, it will print [4,5], [8,9]"
      ],
      "metadata": {
        "colab": {
          "base_uri": "https://localhost:8080/"
        },
        "id": "_te1VcSOq3cv",
        "outputId": "1fb855ea-a454-4d2b-d8bf-0dadd2ebbcdb"
      },
      "execution_count": null,
      "outputs": [
        {
          "output_type": "execute_result",
          "data": {
            "text/plain": [
              "array([[4, 5],\n",
              "       [8, 9]])"
            ]
          },
          "metadata": {},
          "execution_count": 55
        }
      ]
    },
    {
      "cell_type": "markdown",
      "source": [
        "# **Methods in Numpy**"
      ],
      "metadata": {
        "id": "hEJVWgMYvIva"
      }
    },
    {
      "cell_type": "markdown",
      "source": [
        "# **Arithmetic Operations**"
      ],
      "metadata": {
        "id": "nxvOjJgzvPzi"
      }
    },
    {
      "cell_type": "code",
      "source": [
        "import numpy as np\n",
        "a = np.array([[1, 2], [3, 4]])\n",
        "b = np.array([[10, 20], [30, 40]])\n",
        "\n",
        "#print(a)\n",
        "#print(b)\n",
        "\n",
        "print(a + b)  # Addition\n",
        "print(a - b)  # Subtraction\n",
        "print(a * b)  # Element-wise multiplication\n",
        "print(a / b)  # Element-wise division\n",
        "print(a ** 2) # Power\n",
        "print(b // a)  # Floor division"
      ],
      "metadata": {
        "colab": {
          "base_uri": "https://localhost:8080/"
        },
        "id": "WqpJtOqOvRS2",
        "outputId": "37a5bdd2-0ba6-4425-dafc-aed11de52225"
      },
      "execution_count": null,
      "outputs": [
        {
          "output_type": "stream",
          "name": "stdout",
          "text": [
            "[[11 22]\n",
            " [33 44]]\n",
            "[[ -9 -18]\n",
            " [-27 -36]]\n",
            "[[ 10  40]\n",
            " [ 90 160]]\n",
            "[[0.1 0.1]\n",
            " [0.1 0.1]]\n",
            "[[ 1  4]\n",
            " [ 9 16]]\n",
            "[[10 10]\n",
            " [10 10]]\n"
          ]
        }
      ]
    },
    {
      "cell_type": "markdown",
      "source": [
        "Methods in NumPy"
      ],
      "metadata": {
        "id": "Crs2txE916m0"
      }
    },
    {
      "cell_type": "markdown",
      "source": [
        "Transpose"
      ],
      "metadata": {
        "id": "sq4ba1Ul2BuX"
      }
    },
    {
      "cell_type": "code",
      "source": [
        "arr = np.array([[1, 2, 3],\n",
        "                [4, 5, 6],\n",
        "                [7, 8, 9]])\n",
        "\n",
        "print(arr.transpose())"
      ],
      "metadata": {
        "colab": {
          "base_uri": "https://localhost:8080/"
        },
        "id": "WaePWGuK17Dd",
        "outputId": "82f604dc-9ed9-46f2-9dea-5583d3f24376"
      },
      "execution_count": null,
      "outputs": [
        {
          "output_type": "stream",
          "name": "stdout",
          "text": [
            "[[1 4 7]\n",
            " [2 5 8]\n",
            " [3 6 9]]\n"
          ]
        }
      ]
    },
    {
      "cell_type": "code",
      "source": [
        "print(arr.T)"
      ],
      "metadata": {
        "colab": {
          "base_uri": "https://localhost:8080/"
        },
        "id": "kjb0vPo747Sm",
        "outputId": "3e40baef-b5f7-4cf0-99f7-50cc9e6a67c2"
      },
      "execution_count": null,
      "outputs": [
        {
          "output_type": "stream",
          "name": "stdout",
          "text": [
            "[[1 4 7]\n",
            " [2 5 8]\n",
            " [3 6 9]]\n"
          ]
        }
      ]
    },
    {
      "cell_type": "markdown",
      "source": [
        "Sorting"
      ],
      "metadata": {
        "id": "2E5eO4gS4_4h"
      }
    },
    {
      "cell_type": "code",
      "source": [
        "import numpy as np\n",
        "arr_1D = np.array([2, 1, 3, 5, 4, 10, 7, 6])\n",
        "sorted_arr_1D = np.sort(arr_1D)\n",
        "print(sorted_arr_1D)"
      ],
      "metadata": {
        "colab": {
          "base_uri": "https://localhost:8080/"
        },
        "id": "Uxo2yeSy5AQW",
        "outputId": "201991ec-eaa5-4dc9-d395-44ab95fc7b63"
      },
      "execution_count": null,
      "outputs": [
        {
          "output_type": "stream",
          "name": "stdout",
          "text": [
            "[ 1  2  3  4  5  6  7 10]\n"
          ]
        }
      ]
    },
    {
      "cell_type": "code",
      "source": [
        "arr_2D = np.array([[3, 2, 1],\n",
        "                   [6, 5, 4]])\n",
        "sorted_arr_2D = np.sort(arr_2D)\n",
        "print(sorted_arr_2D)"
      ],
      "metadata": {
        "colab": {
          "base_uri": "https://localhost:8080/"
        },
        "id": "pmFb9Ev86SfH",
        "outputId": "ffb1e997-e1fb-43e1-fc76-a96c85c21ce1"
      },
      "execution_count": null,
      "outputs": [
        {
          "output_type": "stream",
          "name": "stdout",
          "text": [
            "[[1 2 3]\n",
            " [4 5 6]]\n"
          ]
        }
      ]
    },
    {
      "cell_type": "markdown",
      "source": [
        "By default sort function, will sort it row wise but if we mention axis is suppose 1 then it will sort in column wise."
      ],
      "metadata": {
        "id": "W9aYqj4BTcjZ"
      }
    },
    {
      "cell_type": "markdown",
      "source": [
        "axis=0 runs vertically down the columns\n",
        "\n",
        "axis=1 runs horizontally across the rows"
      ],
      "metadata": {
        "id": "-qwFMOLjT7Xm"
      }
    },
    {
      "cell_type": "code",
      "source": [
        "arr_2D = np.array([[3, 2, 1],\n",
        "                   [6, 5, 4]])\n",
        "sorted_arr_2D = np.sort(arr_2D, axis=0)\n",
        "print(sorted_arr_2D)"
      ],
      "metadata": {
        "colab": {
          "base_uri": "https://localhost:8080/"
        },
        "id": "trQ8uavw6ZfM",
        "outputId": "541203a7-6947-4f2f-9e83-e15beabb002f"
      },
      "execution_count": null,
      "outputs": [
        {
          "output_type": "stream",
          "name": "stdout",
          "text": [
            "[[3 2 1]\n",
            " [6 5 4]]\n"
          ]
        }
      ]
    },
    {
      "cell_type": "code",
      "source": [
        "arr_2D = np.array([[3, 2, 1],\n",
        "                   [6, 5, 4]])\n",
        "sorted_arr_2D = np.sort(arr_2D, axis=1)\n",
        "print(sorted_arr_2D)"
      ],
      "metadata": {
        "colab": {
          "base_uri": "https://localhost:8080/"
        },
        "id": "kIBm7Oi4TzhQ",
        "outputId": "c05a7903-a43a-49b3-af94-3a4d0d15cd97"
      },
      "execution_count": null,
      "outputs": [
        {
          "output_type": "stream",
          "name": "stdout",
          "text": [
            "[[1 2 3]\n",
            " [4 5 6]]\n"
          ]
        }
      ]
    },
    {
      "cell_type": "markdown",
      "source": [
        "Sort Descending wise"
      ],
      "metadata": {
        "id": "a9XAUYA5VnUH"
      }
    },
    {
      "cell_type": "code",
      "source": [
        "arr_1D = np.array([2, 1, 3, 5, 4, 10, 7, 6])\n",
        "arr_1D.sort"
      ],
      "metadata": {
        "colab": {
          "base_uri": "https://localhost:8080/"
        },
        "id": "FFivu_psVpJJ",
        "outputId": "c3a69ca0-c79a-4f78-b10d-bccc054ae680"
      },
      "execution_count": null,
      "outputs": [
        {
          "output_type": "execute_result",
          "data": {
            "text/plain": [
              "<function ndarray.sort>"
            ]
          },
          "metadata": {},
          "execution_count": 14
        }
      ]
    },
    {
      "cell_type": "markdown",
      "source": [
        "argsort() - index numbers position is changed wrt sort"
      ],
      "metadata": {
        "id": "ozn4331sW64h"
      }
    },
    {
      "cell_type": "code",
      "source": [
        "arr_1D_D = np.array([21, 11, 13, 52, 12, 56, 7, 6])\n",
        "sorted_indices = np.argsort(arr_1D_D)\n",
        "print(sorted_indices)"
      ],
      "metadata": {
        "colab": {
          "base_uri": "https://localhost:8080/"
        },
        "id": "5FP9rxoAW9zL",
        "outputId": "c466eeba-02a9-4f68-b415-c23bc3f616db"
      },
      "execution_count": null,
      "outputs": [
        {
          "output_type": "stream",
          "name": "stdout",
          "text": [
            "[7 6 1 4 2 0 3 5]\n"
          ]
        }
      ]
    },
    {
      "cell_type": "code",
      "source": [
        "arr_1D"
      ],
      "metadata": {
        "colab": {
          "base_uri": "https://localhost:8080/"
        },
        "id": "LmwY7Je4aB-t",
        "outputId": "451de2f0-f78a-48b2-e353-8ed9c9913c5f"
      },
      "execution_count": null,
      "outputs": [
        {
          "output_type": "execute_result",
          "data": {
            "text/plain": [
              "array([ 2,  1,  3,  5,  4, 10,  7,  6])"
            ]
          },
          "metadata": {},
          "execution_count": 17
        }
      ]
    },
    {
      "cell_type": "code",
      "source": [
        "sorted_indices = np.argsort(arr_1D)\n",
        "print(sorted_indices)"
      ],
      "metadata": {
        "colab": {
          "base_uri": "https://localhost:8080/"
        },
        "id": "KEGcnYbSaD_-",
        "outputId": "7984ce5a-6a38-421b-d2b8-cc12f92d2a40"
      },
      "execution_count": null,
      "outputs": [
        {
          "output_type": "stream",
          "name": "stdout",
          "text": [
            "[1 0 2 4 3 7 6 5]\n"
          ]
        }
      ]
    },
    {
      "cell_type": "markdown",
      "source": [
        "Ranking in Recommendation Systems"
      ],
      "metadata": {
        "id": "mrUz8D96d7BQ"
      }
    },
    {
      "cell_type": "code",
      "source": [
        "similarity_scores = np.array([0.23, 0.85, 0.11, 0.65, 0.91])\n",
        "sorted_indices = np.argsort(similarity_scores)\n",
        "print(sorted_indices)\n",
        "\n",
        "# top 3 recommendations of numbers\n",
        "# [-3:] will take values from -3 index [2 0 3 1 4] it will pick [3 1 4]\n",
        "# [::-1] will reverse the array i.e., from [3 1 4] to [4 1 3]\n",
        "top_3_items = sorted_indices[-3:][::-1]\n",
        "print(top_3_items)"
      ],
      "metadata": {
        "colab": {
          "base_uri": "https://localhost:8080/"
        },
        "id": "sOVkZLXWd7bT",
        "outputId": "10e4412f-61c5-4d90-9efc-80fe34fb7b00"
      },
      "execution_count": null,
      "outputs": [
        {
          "output_type": "stream",
          "name": "stdout",
          "text": [
            "[2 0 3 1 4]\n",
            "[4 1 3]\n"
          ]
        }
      ]
    },
    {
      "cell_type": "markdown",
      "source": [
        "Concatenation Arrays"
      ],
      "metadata": {
        "id": "lOPEJy-KfXId"
      }
    },
    {
      "cell_type": "code",
      "source": [
        "arr1 = np.array([1, 2, 3])\n",
        "arr2 = np.array([4, 5, 6])\n",
        "\n",
        "result = np.concatenate((arr1, arr2))\n",
        "print(result)"
      ],
      "metadata": {
        "colab": {
          "base_uri": "https://localhost:8080/"
        },
        "id": "DaySR_IWfXhI",
        "outputId": "fba90445-328f-43d8-ff12-bf2411c697d6"
      },
      "execution_count": null,
      "outputs": [
        {
          "output_type": "stream",
          "name": "stdout",
          "text": [
            "[1 2 3 4 5 6]\n"
          ]
        }
      ]
    },
    {
      "cell_type": "code",
      "source": [
        "arr1 = np.array([[1, 2, 3], [3, 4, 5]])\n",
        "arr2 = np.array([[4, 5, 6], [5, 6, 7]])\n",
        "\n",
        "result = np.concatenate((arr1, arr2), axis=0)\n",
        "print(result)"
      ],
      "metadata": {
        "colab": {
          "base_uri": "https://localhost:8080/"
        },
        "id": "kPBQql50f3ch",
        "outputId": "4ff0a5c2-5b96-4f30-e6c4-ae0f696f4ddb"
      },
      "execution_count": null,
      "outputs": [
        {
          "output_type": "stream",
          "name": "stdout",
          "text": [
            "[[1 2 3]\n",
            " [3 4 5]\n",
            " [4 5 6]\n",
            " [5 6 7]]\n"
          ]
        }
      ]
    },
    {
      "cell_type": "code",
      "source": [
        "arr1 = np.array([[1, 2, 3], [3, 4, 5]])\n",
        "arr2 = np.array([[4, 5, 6], [5, 6, 7]])\n",
        "\n",
        "result = np.concatenate((arr1, arr2), axis=1)\n",
        "print(result)"
      ],
      "metadata": {
        "colab": {
          "base_uri": "https://localhost:8080/"
        },
        "id": "Zqrzy20Tf47L",
        "outputId": "302c1f0d-a3cf-4524-ff10-18945446766d"
      },
      "execution_count": null,
      "outputs": [
        {
          "output_type": "stream",
          "name": "stdout",
          "text": [
            "[[1 2 3 4 5 6]\n",
            " [3 4 5 5 6 7]]\n"
          ]
        }
      ]
    },
    {
      "cell_type": "markdown",
      "source": [
        "Reshape (row, column)"
      ],
      "metadata": {
        "id": "AAW72yt9gYY8"
      }
    },
    {
      "cell_type": "code",
      "source": [
        "arr_1D"
      ],
      "metadata": {
        "colab": {
          "base_uri": "https://localhost:8080/"
        },
        "id": "zmLAQphYf7AX",
        "outputId": "62e9ed23-28ad-4061-ba15-e2686548e8b5"
      },
      "execution_count": null,
      "outputs": [
        {
          "output_type": "execute_result",
          "data": {
            "text/plain": [
              "array([ 2,  1,  3,  5,  4, 10,  7,  6])"
            ]
          },
          "metadata": {},
          "execution_count": 27
        }
      ]
    },
    {
      "cell_type": "code",
      "source": [
        "arr_2D = arr_1D.reshape(4, 2)\n",
        "arr_2D"
      ],
      "metadata": {
        "colab": {
          "base_uri": "https://localhost:8080/"
        },
        "id": "-5i8hMRngcRV",
        "outputId": "2b1ae8d5-30de-486b-aac8-c24745846216"
      },
      "execution_count": null,
      "outputs": [
        {
          "output_type": "execute_result",
          "data": {
            "text/plain": [
              "array([[ 2,  1],\n",
              "       [ 3,  5],\n",
              "       [ 4, 10],\n",
              "       [ 7,  6]])"
            ]
          },
          "metadata": {},
          "execution_count": 28
        }
      ]
    },
    {
      "cell_type": "code",
      "source": [
        "arr_2D = arr_1D.reshape(4, 3)\n",
        "arr_2D"
      ],
      "metadata": {
        "colab": {
          "base_uri": "https://localhost:8080/",
          "height": 162
        },
        "id": "yX-2Z4egl90Q",
        "outputId": "16d2628c-4e91-4aa6-9613-607c9b9810d4"
      },
      "execution_count": null,
      "outputs": [
        {
          "output_type": "error",
          "ename": "ValueError",
          "evalue": "cannot reshape array of size 8 into shape (4,3)",
          "traceback": [
            "\u001b[0;31m---------------------------------------------------------------------------\u001b[0m",
            "\u001b[0;31mValueError\u001b[0m                                Traceback (most recent call last)",
            "\u001b[0;32m/tmp/ipython-input-490517140.py\u001b[0m in \u001b[0;36m<cell line: 0>\u001b[0;34m()\u001b[0m\n\u001b[0;32m----> 1\u001b[0;31m \u001b[0marr_2D\u001b[0m \u001b[0;34m=\u001b[0m \u001b[0marr_1D\u001b[0m\u001b[0;34m.\u001b[0m\u001b[0mreshape\u001b[0m\u001b[0;34m(\u001b[0m\u001b[0;36m4\u001b[0m\u001b[0;34m,\u001b[0m \u001b[0;36m3\u001b[0m\u001b[0;34m)\u001b[0m\u001b[0;34m\u001b[0m\u001b[0;34m\u001b[0m\u001b[0m\n\u001b[0m\u001b[1;32m      2\u001b[0m \u001b[0marr_2D\u001b[0m\u001b[0;34m\u001b[0m\u001b[0;34m\u001b[0m\u001b[0m\n",
            "\u001b[0;31mValueError\u001b[0m: cannot reshape array of size 8 into shape (4,3)"
          ]
        }
      ]
    },
    {
      "cell_type": "code",
      "source": [
        "## Flatten the 2D array to 1D array\n",
        "arr_2D.reshape(-1)"
      ],
      "metadata": {
        "colab": {
          "base_uri": "https://localhost:8080/"
        },
        "id": "dDzDrc8InUeg",
        "outputId": "bb775a13-6844-49c2-e333-09e5175e9b12"
      },
      "execution_count": null,
      "outputs": [
        {
          "output_type": "execute_result",
          "data": {
            "text/plain": [
              "array([ 2,  1,  3,  5,  4, 10,  7,  6])"
            ]
          },
          "metadata": {},
          "execution_count": 30
        }
      ]
    },
    {
      "cell_type": "markdown",
      "source": [
        "Two methods\n",
        "\n",
        "concat -> pandas [deals with labeled-data]\n",
        "\n",
        "concatenate -> numpy [array-focused]"
      ],
      "metadata": {
        "id": "exjJCymPmA36"
      }
    },
    {
      "cell_type": "markdown",
      "source": [
        "Split()"
      ],
      "metadata": {
        "id": "apQTqFZVnXlc"
      }
    },
    {
      "cell_type": "code",
      "source": [
        "arr_1D"
      ],
      "metadata": {
        "colab": {
          "base_uri": "https://localhost:8080/"
        },
        "id": "nsBlbmLVmBfr",
        "outputId": "ce782b5d-7b52-469f-f842-f7cb5208f18d"
      },
      "execution_count": null,
      "outputs": [
        {
          "output_type": "execute_result",
          "data": {
            "text/plain": [
              "array([ 2,  1,  3,  5,  4, 10,  7,  6])"
            ]
          },
          "metadata": {},
          "execution_count": 33
        }
      ]
    },
    {
      "cell_type": "code",
      "source": [
        "split_arr = np.split(arr_1D, 4)\n",
        "print(split_arr)"
      ],
      "metadata": {
        "colab": {
          "base_uri": "https://localhost:8080/"
        },
        "id": "J0b4KplUnbBb",
        "outputId": "d1a25b55-41e6-4e4b-9ccf-731ba4f5a027"
      },
      "execution_count": null,
      "outputs": [
        {
          "output_type": "stream",
          "name": "stdout",
          "text": [
            "[array([2, 1]), array([3, 5]), array([ 4, 10]), array([7, 6])]\n"
          ]
        }
      ]
    },
    {
      "cell_type": "markdown",
      "source": [
        "Statistical Operations:\n",
        "\n",
        "Mean, Median and Mode, Standard Deviation, Min, Max, Sum"
      ],
      "metadata": {
        "id": "TG2HzzsensFk"
      }
    },
    {
      "cell_type": "markdown",
      "source": [
        "np.median => Median\n",
        "\n",
        "np.std => Standard Deviation\n",
        "\n",
        "np.min => Minimum Value\n",
        "\n",
        "np.max => Maximum Value\n",
        "\n",
        "np.sum => Sum"
      ],
      "metadata": {
        "id": "X85XPYhTqOXG"
      }
    },
    {
      "cell_type": "code",
      "source": [
        "arr = np.array([[1, 2, 3],\n",
        "                [4, 5, 6]])\n",
        "\n",
        "mean_all = np.mean(arr)\n",
        "print(mean_all)"
      ],
      "metadata": {
        "colab": {
          "base_uri": "https://localhost:8080/"
        },
        "id": "Ec3VmnwVnuE3",
        "outputId": "3ea80e09-a6bf-4de7-8b10-d52569934f9e"
      },
      "execution_count": null,
      "outputs": [
        {
          "output_type": "stream",
          "name": "stdout",
          "text": [
            "3.5\n"
          ]
        }
      ]
    },
    {
      "cell_type": "markdown",
      "source": [
        "Data Creation strategy/ways of NumPy Arrays while doing our works!! They are quite handy!"
      ],
      "metadata": {
        "id": "3Im-r_hjrUvv"
      }
    },
    {
      "cell_type": "code",
      "source": [
        "import numpy as np\n",
        "arr = np.zeros(5)\n",
        "print(arr)"
      ],
      "metadata": {
        "colab": {
          "base_uri": "https://localhost:8080/"
        },
        "id": "R2v6DNXLrZPX",
        "outputId": "32ba3fd0-7625-44b8-a0fe-af65bc5afd9a"
      },
      "execution_count": null,
      "outputs": [
        {
          "output_type": "stream",
          "name": "stdout",
          "text": [
            "[0. 0. 0. 0. 0.]\n"
          ]
        }
      ]
    },
    {
      "cell_type": "markdown",
      "source": [
        "Zeros, Ones method will create array as per mentioned values.\n",
        "\n",
        "zeros(2, 3, 4) - 2 arrays, 3 rows and 4 columns.\n",
        "\n",
        "dtype=(type)"
      ],
      "metadata": {
        "id": "YD7bnaPIpWYP"
      }
    },
    {
      "cell_type": "code",
      "source": [
        "arr = np.zeros((2, 3, 4))\n",
        "print(arr)"
      ],
      "metadata": {
        "colab": {
          "base_uri": "https://localhost:8080/"
        },
        "id": "2fpsCvAJotY7",
        "outputId": "5e7f540c-785e-4921-9731-11b69f7606f3"
      },
      "execution_count": null,
      "outputs": [
        {
          "output_type": "stream",
          "name": "stdout",
          "text": [
            "[[[0. 0. 0. 0.]\n",
            "  [0. 0. 0. 0.]\n",
            "  [0. 0. 0. 0.]]\n",
            "\n",
            " [[0. 0. 0. 0.]\n",
            "  [0. 0. 0. 0.]\n",
            "  [0. 0. 0. 0.]]]\n"
          ]
        }
      ]
    },
    {
      "cell_type": "code",
      "source": [
        "# showing empty sting because 0 is kind of empty sting\n",
        "arr = np.zeros((2, 3, 4), dtype=str)\n",
        "print(arr)"
      ],
      "metadata": {
        "colab": {
          "base_uri": "https://localhost:8080/"
        },
        "id": "5h-Xq6z4pJ4u",
        "outputId": "f4eaec7a-60b0-4681-91dd-45c7fa9d35c2"
      },
      "execution_count": null,
      "outputs": [
        {
          "output_type": "stream",
          "name": "stdout",
          "text": [
            "[[['' '' '' '']\n",
            "  ['' '' '' '']\n",
            "  ['' '' '' '']]\n",
            "\n",
            " [['' '' '' '']\n",
            "  ['' '' '' '']\n",
            "  ['' '' '' '']]]\n"
          ]
        }
      ]
    },
    {
      "cell_type": "code",
      "source": [
        "arr = np.zeros((2, 3, 4), dtype=int)\n",
        "print(arr)"
      ],
      "metadata": {
        "colab": {
          "base_uri": "https://localhost:8080/"
        },
        "id": "zEPVPqjLpULs",
        "outputId": "391d1e82-6ddd-4bc7-8617-ca2d01d14b28"
      },
      "execution_count": null,
      "outputs": [
        {
          "output_type": "stream",
          "name": "stdout",
          "text": [
            "[[[0 0 0 0]\n",
            "  [0 0 0 0]\n",
            "  [0 0 0 0]]\n",
            "\n",
            " [[0 0 0 0]\n",
            "  [0 0 0 0]\n",
            "  [0 0 0 0]]]\n"
          ]
        }
      ]
    },
    {
      "cell_type": "code",
      "source": [
        "arr = np.ones((5), dtype=int)\n",
        "print(arr)"
      ],
      "metadata": {
        "colab": {
          "base_uri": "https://localhost:8080/"
        },
        "id": "UR5M1O0ptTz_",
        "outputId": "9037b88c-204f-458c-ab42-956e2db7e93f"
      },
      "execution_count": null,
      "outputs": [
        {
          "output_type": "stream",
          "name": "stdout",
          "text": [
            "[1 1 1 1 1]\n"
          ]
        }
      ]
    },
    {
      "cell_type": "code",
      "source": [
        "arr = np.ones((3, 3, 4), dtype=int)\n",
        "print(arr)"
      ],
      "metadata": {
        "colab": {
          "base_uri": "https://localhost:8080/"
        },
        "id": "eMIak7SVtYeO",
        "outputId": "6cbadcc9-f47b-4c9d-9e21-f18993df688a"
      },
      "execution_count": null,
      "outputs": [
        {
          "output_type": "stream",
          "name": "stdout",
          "text": [
            "[[[1 1 1 1]\n",
            "  [1 1 1 1]\n",
            "  [1 1 1 1]]\n",
            "\n",
            " [[1 1 1 1]\n",
            "  [1 1 1 1]\n",
            "  [1 1 1 1]]\n",
            "\n",
            " [[1 1 1 1]\n",
            "  [1 1 1 1]\n",
            "  [1 1 1 1]]]\n"
          ]
        }
      ]
    },
    {
      "cell_type": "code",
      "source": [
        "arr_1 = np.ones((2, 3), dtype=str)\n",
        "print(arr_1)"
      ],
      "metadata": {
        "colab": {
          "base_uri": "https://localhost:8080/"
        },
        "id": "Pi6VRVHHtvH4",
        "outputId": "65dd0183-ef1b-4f54-fbb3-e3de0aefd92c"
      },
      "execution_count": null,
      "outputs": [
        {
          "output_type": "stream",
          "name": "stdout",
          "text": [
            "[['1' '1' '1']\n",
            " ['1' '1' '1']]\n"
          ]
        }
      ]
    },
    {
      "cell_type": "markdown",
      "source": [
        "full(size, value)"
      ],
      "metadata": {
        "id": "obw8zjYLt0ZH"
      }
    },
    {
      "cell_type": "code",
      "source": [
        "arr_1d = np.full(5, 7)\n",
        "print(arr_1d)"
      ],
      "metadata": {
        "colab": {
          "base_uri": "https://localhost:8080/"
        },
        "id": "2TbwBaAut1XT",
        "outputId": "f979cfce-3683-4029-ebc8-eb918326c98b"
      },
      "execution_count": null,
      "outputs": [
        {
          "output_type": "stream",
          "name": "stdout",
          "text": [
            "[7 7 7 7 7]\n"
          ]
        }
      ]
    },
    {
      "cell_type": "code",
      "source": [
        "import numpy as np\n",
        "\n",
        "arr_3d = np.full((2,3,4), 3.14)\n",
        "print(arr_3d)"
      ],
      "metadata": {
        "colab": {
          "base_uri": "https://localhost:8080/"
        },
        "id": "f2UqS3ybuynU",
        "outputId": "6aeff954-d564-4abb-87de-52aed87daf76"
      },
      "execution_count": 1,
      "outputs": [
        {
          "output_type": "stream",
          "name": "stdout",
          "text": [
            "[[[3.14 3.14 3.14 3.14]\n",
            "  [3.14 3.14 3.14 3.14]\n",
            "  [3.14 3.14 3.14 3.14]]\n",
            "\n",
            " [[3.14 3.14 3.14 3.14]\n",
            "  [3.14 3.14 3.14 3.14]\n",
            "  [3.14 3.14 3.14 3.14]]]\n"
          ]
        }
      ]
    },
    {
      "cell_type": "markdown",
      "source": [
        "# **dtype='<U1'**\n",
        "\n",
        "The dtype='<U1' specifies a NumPy data type for an array. This particular dtype indicates the following:\n",
        "\n",
        "<: This signifies little-endian byte order. This means that the least significant byte of a multi-byte data type is stored at the lowest memory address.\n",
        "\n",
        "U: This indicates that the data type is a Unicode string.\n",
        "\n",
        "1: This specifies the size of the string, in this case, a single Unicode character.\n",
        "\n",
        "Therefore, an array with dtype='<U1' will store each element as a 1-character Unicode string, with little-endian byte order."
      ],
      "metadata": {
        "id": "v0R9-Fys8uY1"
      }
    },
    {
      "cell_type": "code",
      "source": [
        "arr_full_md = np.full((2,3,4), 20, dtype=str)\n",
        "arr_full_md\n",
        "\n",
        "# dtype='<U1' ; Here means how much bits it is entertaining?"
      ],
      "metadata": {
        "colab": {
          "base_uri": "https://localhost:8080/"
        },
        "id": "j0Fkwcfl4W-7",
        "outputId": "8789ee17-486c-4362-ff1d-9bdf59efb5d6"
      },
      "execution_count": 9,
      "outputs": [
        {
          "output_type": "execute_result",
          "data": {
            "text/plain": [
              "array([[['2', '2', '2', '2'],\n",
              "        ['2', '2', '2', '2'],\n",
              "        ['2', '2', '2', '2']],\n",
              "\n",
              "       [['2', '2', '2', '2'],\n",
              "        ['2', '2', '2', '2'],\n",
              "        ['2', '2', '2', '2']]], dtype='<U1')"
            ]
          },
          "metadata": {},
          "execution_count": 9
        }
      ]
    },
    {
      "cell_type": "code",
      "source": [
        "arr_full_md = np.full((2,3,4), 20, dtype='U2')\n",
        "arr_full_md"
      ],
      "metadata": {
        "colab": {
          "base_uri": "https://localhost:8080/"
        },
        "id": "xlStcfQu4XrJ",
        "outputId": "e43c0aa9-1614-40bc-dca4-e6304220b2b5"
      },
      "execution_count": 10,
      "outputs": [
        {
          "output_type": "execute_result",
          "data": {
            "text/plain": [
              "array([[['20', '20', '20', '20'],\n",
              "        ['20', '20', '20', '20'],\n",
              "        ['20', '20', '20', '20']],\n",
              "\n",
              "       [['20', '20', '20', '20'],\n",
              "        ['20', '20', '20', '20'],\n",
              "        ['20', '20', '20', '20']]], dtype='<U2')"
            ]
          },
          "metadata": {},
          "execution_count": 10
        }
      ]
    },
    {
      "cell_type": "markdown",
      "source": [
        "np.eye() = It shows us identity matrix"
      ],
      "metadata": {
        "id": "9ykpNN2t4Zl5"
      }
    },
    {
      "cell_type": "code",
      "source": [
        "identity_3_cross_4 = np.eye(3, 4)\n",
        "print(identity_3_cross_4)"
      ],
      "metadata": {
        "colab": {
          "base_uri": "https://localhost:8080/"
        },
        "id": "_d3K03l_4fRx",
        "outputId": "1ec912d2-97b6-46d7-ec45-52e673118cca"
      },
      "execution_count": 2,
      "outputs": [
        {
          "output_type": "stream",
          "name": "stdout",
          "text": [
            "[[1. 0. 0. 0.]\n",
            " [0. 1. 0. 0.]\n",
            " [0. 0. 1. 0.]]\n"
          ]
        }
      ]
    },
    {
      "cell_type": "code",
      "source": [
        "identity_4_cross_4 = np.eye(4, 4)\n",
        "print(identity_4_cross_4)"
      ],
      "metadata": {
        "colab": {
          "base_uri": "https://localhost:8080/"
        },
        "id": "Gveu1dve4oYB",
        "outputId": "c5beee9a-60cd-4969-f58d-ea841581bb94"
      },
      "execution_count": 3,
      "outputs": [
        {
          "output_type": "stream",
          "name": "stdout",
          "text": [
            "[[1. 0. 0. 0.]\n",
            " [0. 1. 0. 0.]\n",
            " [0. 0. 1. 0.]\n",
            " [0. 0. 0. 1.]]\n"
          ]
        }
      ]
    },
    {
      "cell_type": "markdown",
      "source": [
        "np.arange(start, stop, step_size)"
      ],
      "metadata": {
        "id": "S8m9aUMS7FN8"
      }
    },
    {
      "cell_type": "code",
      "source": [
        "np.arange(10)"
      ],
      "metadata": {
        "colab": {
          "base_uri": "https://localhost:8080/"
        },
        "id": "VV4X_Fkn7Fyp",
        "outputId": "cec1341a-aa7a-4fab-b78a-749e17ae1e83"
      },
      "execution_count": 5,
      "outputs": [
        {
          "output_type": "execute_result",
          "data": {
            "text/plain": [
              "array([0, 1, 2, 3, 4, 5, 6, 7, 8, 9])"
            ]
          },
          "metadata": {},
          "execution_count": 5
        }
      ]
    },
    {
      "cell_type": "code",
      "source": [
        "# 2 elements step size and taking value from 3 to 13.\n",
        "np.arange(3, 13, 2)"
      ],
      "metadata": {
        "colab": {
          "base_uri": "https://localhost:8080/"
        },
        "id": "RyvnOQ1f7Xav",
        "outputId": "3d6c8ef7-2433-493c-bfb1-bbae49e32208"
      },
      "execution_count": 7,
      "outputs": [
        {
          "output_type": "execute_result",
          "data": {
            "text/plain": [
              "array([ 3,  5,  7,  9, 11])"
            ]
          },
          "metadata": {},
          "execution_count": 7
        }
      ]
    },
    {
      "cell_type": "markdown",
      "source": [
        "np.random()"
      ],
      "metadata": {
        "id": "v59P733X7qoM"
      }
    },
    {
      "cell_type": "code",
      "source": [
        "np.random.random(5)"
      ],
      "metadata": {
        "colab": {
          "base_uri": "https://localhost:8080/"
        },
        "id": "H7B2Vexw7s3i",
        "outputId": "e6e230a8-3a05-46c1-f1d9-d534a9314aa8"
      },
      "execution_count": 12,
      "outputs": [
        {
          "output_type": "execute_result",
          "data": {
            "text/plain": [
              "array([0.05808361, 0.86617615, 0.60111501, 0.70807258, 0.02058449])"
            ]
          },
          "metadata": {},
          "execution_count": 12
        }
      ]
    },
    {
      "cell_type": "code",
      "source": [
        "np.random.random((2, 3)) # It means 3 elements (columns) with 2 elements (rows)"
      ],
      "metadata": {
        "colab": {
          "base_uri": "https://localhost:8080/"
        },
        "id": "8JhYCe-_7zj8",
        "outputId": "a7655268-e498-4e7e-edf9-4dea0b7c9faf"
      },
      "execution_count": 14,
      "outputs": [
        {
          "output_type": "execute_result",
          "data": {
            "text/plain": [
              "array([[0.05808361, 0.86617615, 0.60111501],\n",
              "       [0.70807258, 0.02058449, 0.96990985]])"
            ]
          },
          "metadata": {},
          "execution_count": 14
        }
      ]
    },
    {
      "cell_type": "markdown",
      "source": [
        "np.seed()\n",
        "\n",
        "On each iteration, fixed set of elements are return"
      ],
      "metadata": {
        "id": "gMyt0UaU-LGW"
      }
    },
    {
      "cell_type": "code",
      "source": [
        "np.random.seed(42)\n",
        "np.random.random((2, 3))"
      ],
      "metadata": {
        "colab": {
          "base_uri": "https://localhost:8080/"
        },
        "id": "GZD1nSCR-R5T",
        "outputId": "0865758c-3945-49ed-a003-b0d5eda74411"
      },
      "execution_count": 17,
      "outputs": [
        {
          "output_type": "execute_result",
          "data": {
            "text/plain": [
              "array([[0.37454012, 0.95071431, 0.73199394],\n",
              "       [0.59865848, 0.15601864, 0.15599452]])"
            ]
          },
          "metadata": {},
          "execution_count": 17
        }
      ]
    },
    {
      "cell_type": "markdown",
      "source": [
        "np.linspace(start, stop, num, endpoint, retstep, dtype)"
      ],
      "metadata": {
        "id": "bzkyB64P-78a"
      }
    },
    {
      "cell_type": "markdown",
      "source": [
        "# Difference between np.arrange() and np.linspace()\n",
        "\n",
        "np.arrange => return consistent elements on the basis of step size\n",
        "\n",
        "np.linspace => it will return number of elements on the basis of \"num\" we will enter, it means it will divide the whole data in such number of elements and will return the elements.\n",
        "\n",
        "In linspace the stop element value, is inclusive while in np.arrange it is exclusive."
      ],
      "metadata": {
        "id": "P8qHp2gF_dRT"
      }
    },
    {
      "cell_type": "code",
      "source": [
        "np.linspace(0, 1, 5)"
      ],
      "metadata": {
        "colab": {
          "base_uri": "https://localhost:8080/"
        },
        "id": "23wB3uxb-93M",
        "outputId": "fd9eaa8c-90e9-4064-d391-1f3f91ec4ce6"
      },
      "execution_count": 18,
      "outputs": [
        {
          "output_type": "execute_result",
          "data": {
            "text/plain": [
              "array([0.  , 0.25, 0.5 , 0.75, 1.  ])"
            ]
          },
          "metadata": {},
          "execution_count": 18
        }
      ]
    },
    {
      "cell_type": "markdown",
      "source": [
        "Transpose: https://leetcode.com/problems/transpose-matrix/description/\n",
        "\n",
        "Matrix Multiplication: https://www.geeksforgeeks.org/problems/multiply-matrices/1\n",
        "\n",
        "OR https://leetcode.com/problems/construct-product-matrix/description/\n",
        "\n",
        "QuickSort\n",
        "\n",
        "MergeSort\n",
        "\n",
        "HeapSort"
      ],
      "metadata": {
        "id": "hwi5cjwgMgAD"
      }
    }
  ]
}