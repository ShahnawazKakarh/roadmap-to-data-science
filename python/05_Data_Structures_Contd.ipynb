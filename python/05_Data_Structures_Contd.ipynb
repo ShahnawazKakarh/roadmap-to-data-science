{
  "nbformat": 4,
  "nbformat_minor": 0,
  "metadata": {
    "colab": {
      "provenance": [],
      "authorship_tag": "ABX9TyNzhmAEVYVBJ6w3jjtOgXS8",
      "include_colab_link": true
    },
    "kernelspec": {
      "name": "python3",
      "display_name": "Python 3"
    },
    "language_info": {
      "name": "python"
    }
  },
  "cells": [
    {
      "cell_type": "markdown",
      "metadata": {
        "id": "view-in-github",
        "colab_type": "text"
      },
      "source": [
        "<a href=\"https://colab.research.google.com/github/ShahnawazKakarh/roadmap-to-data-science/blob/master/python/05_Data_Structures_Contd.ipynb\" target=\"_parent\"><img src=\"https://colab.research.google.com/assets/colab-badge.svg\" alt=\"Open In Colab\"/></a>"
      ]
    },
    {
      "cell_type": "markdown",
      "source": [
        "# **Initialization of Tuple**\n"
      ],
      "metadata": {
        "id": "a56MVwlt3o0J"
      }
    },
    {
      "cell_type": "code",
      "execution_count": null,
      "metadata": {
        "colab": {
          "base_uri": "https://localhost:8080/"
        },
        "id": "qtdBAhc33Qmv",
        "outputId": "a1edcef9-ab7b-44d4-8737-b0f2fddad77d"
      },
      "outputs": [
        {
          "output_type": "execute_result",
          "data": {
            "text/plain": [
              "tuple"
            ]
          },
          "metadata": {},
          "execution_count": 1
        }
      ],
      "source": [
        "my_tuple = (1, 2, 3)\n",
        "type(my_tuple)"
      ]
    },
    {
      "cell_type": "code",
      "source": [
        "my_tuple[1]"
      ],
      "metadata": {
        "colab": {
          "base_uri": "https://localhost:8080/"
        },
        "id": "VguCfDBJ7Nqo",
        "outputId": "bfef0865-be57-42f7-be7e-7c23053b3b25"
      },
      "execution_count": null,
      "outputs": [
        {
          "output_type": "execute_result",
          "data": {
            "text/plain": [
              "2"
            ]
          },
          "metadata": {},
          "execution_count": 2
        }
      ]
    },
    {
      "cell_type": "markdown",
      "source": [
        "Access the elements and Slicing Operations"
      ],
      "metadata": {
        "id": "u8WL6pVL8F-k"
      }
    },
    {
      "cell_type": "code",
      "source": [
        "tuple1 = ('apple', 123, True, 3.14, [1, 2, 3])\n",
        "print(tuple1[-1][1])"
      ],
      "metadata": {
        "colab": {
          "base_uri": "https://localhost:8080/"
        },
        "id": "d5mOdBVF8H0S",
        "outputId": "6b6617e2-6371-4ad3-8da7-318e9c56ab3e"
      },
      "execution_count": null,
      "outputs": [
        {
          "output_type": "stream",
          "name": "stdout",
          "text": [
            "2\n"
          ]
        }
      ]
    },
    {
      "cell_type": "code",
      "source": [
        "print(tuple1[-1][-2])"
      ],
      "metadata": {
        "colab": {
          "base_uri": "https://localhost:8080/"
        },
        "id": "pKO4js1JC04J",
        "outputId": "0196aa21-55ad-45ea-80d6-e7048c97772c"
      },
      "execution_count": null,
      "outputs": [
        {
          "output_type": "stream",
          "name": "stdout",
          "text": [
            "2\n"
          ]
        }
      ]
    },
    {
      "cell_type": "code",
      "source": [
        "print(tuple1[-3][2])"
      ],
      "metadata": {
        "colab": {
          "base_uri": "https://localhost:8080/",
          "height": 144
        },
        "id": "U56bvY_TGgEb",
        "outputId": "0d539646-912a-49c4-a61a-a4720bf54388"
      },
      "execution_count": null,
      "outputs": [
        {
          "output_type": "error",
          "ename": "TypeError",
          "evalue": "'bool' object is not subscriptable",
          "traceback": [
            "\u001b[0;31m---------------------------------------------------------------------------\u001b[0m",
            "\u001b[0;31mTypeError\u001b[0m                                 Traceback (most recent call last)",
            "\u001b[0;32m/tmp/ipython-input-2506700048.py\u001b[0m in \u001b[0;36m<cell line: 0>\u001b[0;34m()\u001b[0m\n\u001b[0;32m----> 1\u001b[0;31m \u001b[0mprint\u001b[0m\u001b[0;34m(\u001b[0m\u001b[0mtuple1\u001b[0m\u001b[0;34m[\u001b[0m\u001b[0;34m-\u001b[0m\u001b[0;36m3\u001b[0m\u001b[0;34m]\u001b[0m\u001b[0;34m[\u001b[0m\u001b[0;36m2\u001b[0m\u001b[0;34m]\u001b[0m\u001b[0;34m)\u001b[0m\u001b[0;34m\u001b[0m\u001b[0;34m\u001b[0m\u001b[0m\n\u001b[0m",
            "\u001b[0;31mTypeError\u001b[0m: 'bool' object is not subscriptable"
          ]
        }
      ]
    },
    {
      "cell_type": "code",
      "source": [
        "print(tuple1[-5][2])"
      ],
      "metadata": {
        "colab": {
          "base_uri": "https://localhost:8080/"
        },
        "id": "opLfihKJGkeA",
        "outputId": "6592f8c6-6230-4519-c1b3-b59f888095ac"
      },
      "execution_count": null,
      "outputs": [
        {
          "output_type": "stream",
          "name": "stdout",
          "text": [
            "p\n"
          ]
        }
      ]
    },
    {
      "cell_type": "code",
      "source": [
        "print(tuple1[0][-2])"
      ],
      "metadata": {
        "colab": {
          "base_uri": "https://localhost:8080/"
        },
        "id": "eMZjQ5qEGvpj",
        "outputId": "61fb7f7f-1ea0-4fe1-9abd-e077538939db"
      },
      "execution_count": null,
      "outputs": [
        {
          "output_type": "stream",
          "name": "stdout",
          "text": [
            "l\n"
          ]
        }
      ]
    },
    {
      "cell_type": "code",
      "source": [
        "print(tuple1[1:4])"
      ],
      "metadata": {
        "colab": {
          "base_uri": "https://localhost:8080/"
        },
        "id": "YsuPqy8xDdM0",
        "outputId": "52580645-8a93-4294-b4ec-070cd870abff"
      },
      "execution_count": null,
      "outputs": [
        {
          "output_type": "stream",
          "name": "stdout",
          "text": [
            "(123, True, 3.14)\n"
          ]
        }
      ]
    },
    {
      "cell_type": "code",
      "source": [
        "print(tuple1[:-1])"
      ],
      "metadata": {
        "colab": {
          "base_uri": "https://localhost:8080/"
        },
        "id": "LdyssvaMDiaE",
        "outputId": "830a3d7d-ace9-4bf5-9d75-62ce69383415"
      },
      "execution_count": null,
      "outputs": [
        {
          "output_type": "stream",
          "name": "stdout",
          "text": [
            "('apple', 123, True, 3.14)\n"
          ]
        }
      ]
    },
    {
      "cell_type": "code",
      "source": [
        "print(tuple1[1:])"
      ],
      "metadata": {
        "colab": {
          "base_uri": "https://localhost:8080/"
        },
        "id": "_t4TL6iLFqj-",
        "outputId": "a2e898b1-3616-47b1-fc6a-b8f2959e23c6"
      },
      "execution_count": null,
      "outputs": [
        {
          "output_type": "stream",
          "name": "stdout",
          "text": [
            "(123, True, 3.14, [1, 2, 3])\n"
          ]
        }
      ]
    },
    {
      "cell_type": "code",
      "source": [
        "print(tuple1[::-1]) ## reverse the string, no start/end index directly step size -1 is mentioned."
      ],
      "metadata": {
        "colab": {
          "base_uri": "https://localhost:8080/"
        },
        "id": "wLwrfwVoEV33",
        "outputId": "1d3651dc-4c68-4fb7-a08f-4cc157c06e70"
      },
      "execution_count": null,
      "outputs": [
        {
          "output_type": "stream",
          "name": "stdout",
          "text": [
            "([1, 2, 3], 3.14, True, 123, 'apple')\n"
          ]
        }
      ]
    },
    {
      "cell_type": "code",
      "source": [
        "min_element = min(my_tuple)\n",
        "max_element = max(my_tuple)\n",
        "print(min_element)\n",
        "print(max_element)"
      ],
      "metadata": {
        "colab": {
          "base_uri": "https://localhost:8080/"
        },
        "id": "m1fpOG5hFKQD",
        "outputId": "b4ad86a8-213f-4bc8-a838-7767a03556ea"
      },
      "execution_count": null,
      "outputs": [
        {
          "output_type": "stream",
          "name": "stdout",
          "text": [
            "1\n",
            "3\n"
          ]
        }
      ]
    },
    {
      "cell_type": "code",
      "source": [
        "my_tuple"
      ],
      "metadata": {
        "colab": {
          "base_uri": "https://localhost:8080/"
        },
        "id": "hxU0bgBNHHTm",
        "outputId": "14138760-8f4b-46be-dd57-c5dccaf9cd64"
      },
      "execution_count": null,
      "outputs": [
        {
          "output_type": "execute_result",
          "data": {
            "text/plain": [
              "(1, 2, 3)"
            ]
          },
          "metadata": {},
          "execution_count": 18
        }
      ]
    },
    {
      "cell_type": "code",
      "source": [
        "sum_elements = sum(my_tuple)\n",
        "print(sum_elements)"
      ],
      "metadata": {
        "colab": {
          "base_uri": "https://localhost:8080/"
        },
        "id": "x6bjZRZ9HAK2",
        "outputId": "85121d36-4a20-42ca-f61b-695a127da016"
      },
      "execution_count": null,
      "outputs": [
        {
          "output_type": "stream",
          "name": "stdout",
          "text": [
            "6\n"
          ]
        }
      ]
    },
    {
      "cell_type": "markdown",
      "source": [
        "Convert tuple into a list"
      ],
      "metadata": {
        "id": "Bu3nrVyhExRo"
      }
    },
    {
      "cell_type": "code",
      "source": [
        "tuple2 = ('Ghilman', 'Ali', 'Junaid', 'Ajmal', 'Shahnawaz')\n",
        "list1 = list(tuple2)\n",
        "print(list1)"
      ],
      "metadata": {
        "colab": {
          "base_uri": "https://localhost:8080/"
        },
        "id": "RfmHfmm6E4y8",
        "outputId": "70a47592-9bbc-4bf3-df4b-d344def714fa"
      },
      "execution_count": null,
      "outputs": [
        {
          "output_type": "stream",
          "name": "stdout",
          "text": [
            "['Ghilman', 'Ali', 'Junaid', 'Ajmal', 'Shahnawaz']\n"
          ]
        }
      ]
    },
    {
      "cell_type": "code",
      "source": [
        "list1.append(\"Sushil\", \"Jitender\", \"Priya\")\n",
        "print(list1)"
      ],
      "metadata": {
        "colab": {
          "base_uri": "https://localhost:8080/",
          "height": 162
        },
        "id": "FI9IJ6ddNSmR",
        "outputId": "5d849b7a-bc6f-44b8-9647-738dd35ca9e8"
      },
      "execution_count": null,
      "outputs": [
        {
          "output_type": "error",
          "ename": "TypeError",
          "evalue": "list.append() takes exactly one argument (3 given)",
          "traceback": [
            "\u001b[0;31m---------------------------------------------------------------------------\u001b[0m",
            "\u001b[0;31mTypeError\u001b[0m                                 Traceback (most recent call last)",
            "\u001b[0;32m/tmp/ipython-input-1235648273.py\u001b[0m in \u001b[0;36m<cell line: 0>\u001b[0;34m()\u001b[0m\n\u001b[0;32m----> 1\u001b[0;31m \u001b[0mlist1\u001b[0m\u001b[0;34m.\u001b[0m\u001b[0mappend\u001b[0m\u001b[0;34m(\u001b[0m\u001b[0;34m\"Sushil\"\u001b[0m\u001b[0;34m,\u001b[0m \u001b[0;34m\"Jitender\"\u001b[0m\u001b[0;34m,\u001b[0m \u001b[0;34m\"Priya\"\u001b[0m\u001b[0;34m)\u001b[0m\u001b[0;34m\u001b[0m\u001b[0;34m\u001b[0m\u001b[0m\n\u001b[0m\u001b[1;32m      2\u001b[0m \u001b[0mprint\u001b[0m\u001b[0;34m(\u001b[0m\u001b[0mlist1\u001b[0m\u001b[0;34m)\u001b[0m\u001b[0;34m\u001b[0m\u001b[0;34m\u001b[0m\u001b[0m\n",
            "\u001b[0;31mTypeError\u001b[0m: list.append() takes exactly one argument (3 given)"
          ]
        }
      ]
    },
    {
      "cell_type": "code",
      "source": [
        "list1.append([\"Sushil\", \"Jitender\", \"Priya\"])\n",
        "print(list1)"
      ],
      "metadata": {
        "colab": {
          "base_uri": "https://localhost:8080/"
        },
        "id": "hwrgxu3vNMYN",
        "outputId": "8268d181-fd53-4fb5-d998-2b7fb24ce2cd"
      },
      "execution_count": null,
      "outputs": [
        {
          "output_type": "stream",
          "name": "stdout",
          "text": [
            "['Ghilman', 'Ali', 'Junaid', 'Ajmal', 'Shahnawaz', ['Sushil', 'Jitender', 'Priya']]\n"
          ]
        }
      ]
    },
    {
      "cell_type": "code",
      "source": [
        "list1.extend([\"Sushil\", \"Jitender\", \"Priya\"])\n",
        "print(list1)"
      ],
      "metadata": {
        "colab": {
          "base_uri": "https://localhost:8080/"
        },
        "id": "vr-6FpeUNbPh",
        "outputId": "4a602ab9-1480-40c1-f2f6-eefb7e72cb03"
      },
      "execution_count": null,
      "outputs": [
        {
          "output_type": "stream",
          "name": "stdout",
          "text": [
            "['Ghilman', 'Ali', 'Junaid', 'Ajmal', 'Shahnawaz', ['Sushil', 'Jitender', 'Priya'], 'Sushil', 'Jitender', 'Priya']\n"
          ]
        }
      ]
    },
    {
      "cell_type": "code",
      "source": [
        "list1.pop(5)\n",
        "print(list1)"
      ],
      "metadata": {
        "colab": {
          "base_uri": "https://localhost:8080/"
        },
        "id": "hsy3xPOlNfBs",
        "outputId": "cdbc14f1-fa73-4c93-daa6-7ec3589de6e1"
      },
      "execution_count": null,
      "outputs": [
        {
          "output_type": "stream",
          "name": "stdout",
          "text": [
            "['Ghilman', 'Ali', 'Junaid', 'Ajmal', 'Shahnawaz', 'Sushil', 'Jitender', 'Priya']\n"
          ]
        }
      ]
    },
    {
      "cell_type": "code",
      "source": [
        "tuple2 = tuple(list1)\n",
        "print(tuple2)"
      ],
      "metadata": {
        "colab": {
          "base_uri": "https://localhost:8080/"
        },
        "id": "Ej7rhJVLNsDf",
        "outputId": "19035a0a-36c0-4c81-8016-1f08b8ebadbe"
      },
      "execution_count": null,
      "outputs": [
        {
          "output_type": "stream",
          "name": "stdout",
          "text": [
            "('Ghilman', 'Ali', 'Junaid', 'Ajmal', 'Shahnawaz', 'Sushil', 'Jitender', 'Priya')\n"
          ]
        }
      ]
    },
    {
      "cell_type": "markdown",
      "source": [
        "Built-in Functions"
      ],
      "metadata": {
        "id": "9WkTBHvnNyRO"
      }
    },
    {
      "cell_type": "code",
      "source": [
        "tuple3 = (1, 2, 3, 4, 5, 3, 7, 8, 11, 12, 9, 2)\n",
        "## frequency of any given element\n",
        "count_2 = tuple3.count(2)\n",
        "print(count_2)"
      ],
      "metadata": {
        "colab": {
          "base_uri": "https://localhost:8080/"
        },
        "id": "826jnjZpN1k1",
        "outputId": "57da743c-ead9-4bba-8fe0-d335fb48c7c8"
      },
      "execution_count": null,
      "outputs": [
        {
          "output_type": "stream",
          "name": "stdout",
          "text": [
            "2\n"
          ]
        }
      ]
    },
    {
      "cell_type": "code",
      "source": [
        "pos = tuple3.index(2)\n",
        "print(pos)"
      ],
      "metadata": {
        "colab": {
          "base_uri": "https://localhost:8080/"
        },
        "id": "ahB8OXZ9QzMT",
        "outputId": "b9a0c5ba-e254-4900-f55b-4104b5a302cd"
      },
      "execution_count": null,
      "outputs": [
        {
          "output_type": "stream",
          "name": "stdout",
          "text": [
            "1\n"
          ]
        }
      ]
    },
    {
      "cell_type": "code",
      "source": [
        "pos = tuple3.index(20)\n",
        "print(pos)"
      ],
      "metadata": {
        "colab": {
          "base_uri": "https://localhost:8080/",
          "height": 162
        },
        "id": "sFDlE_ZSQ1Vr",
        "outputId": "3889d0b0-d396-40e5-a6e6-19d8d962f874"
      },
      "execution_count": null,
      "outputs": [
        {
          "output_type": "error",
          "ename": "ValueError",
          "evalue": "tuple.index(x): x not in tuple",
          "traceback": [
            "\u001b[0;31m---------------------------------------------------------------------------\u001b[0m",
            "\u001b[0;31mValueError\u001b[0m                                Traceback (most recent call last)",
            "\u001b[0;32m/tmp/ipython-input-352619756.py\u001b[0m in \u001b[0;36m<cell line: 0>\u001b[0;34m()\u001b[0m\n\u001b[0;32m----> 1\u001b[0;31m \u001b[0mpos\u001b[0m \u001b[0;34m=\u001b[0m \u001b[0mtuple3\u001b[0m\u001b[0;34m.\u001b[0m\u001b[0mindex\u001b[0m\u001b[0;34m(\u001b[0m\u001b[0;36m20\u001b[0m\u001b[0;34m)\u001b[0m\u001b[0;34m\u001b[0m\u001b[0;34m\u001b[0m\u001b[0m\n\u001b[0m\u001b[1;32m      2\u001b[0m \u001b[0mprint\u001b[0m\u001b[0;34m(\u001b[0m\u001b[0mpos\u001b[0m\u001b[0;34m)\u001b[0m\u001b[0;34m\u001b[0m\u001b[0;34m\u001b[0m\u001b[0m\n",
            "\u001b[0;31mValueError\u001b[0m: tuple.index(x): x not in tuple"
          ]
        }
      ]
    },
    {
      "cell_type": "code",
      "source": [
        "pos = tuple3.index(9)\n",
        "print(pos)"
      ],
      "metadata": {
        "colab": {
          "base_uri": "https://localhost:8080/"
        },
        "id": "TSEheknti8kO",
        "outputId": "d9c1979b-d20f-4e6d-9f3c-a408f277b5af"
      },
      "execution_count": null,
      "outputs": [
        {
          "output_type": "stream",
          "name": "stdout",
          "text": [
            "10\n"
          ]
        }
      ]
    },
    {
      "cell_type": "code",
      "source": [
        "tuple4 = (2, ) ## tuple must contains one element segreggated with ','\n",
        "print(tuple4)\n",
        "type(tuple4)"
      ],
      "metadata": {
        "colab": {
          "base_uri": "https://localhost:8080/"
        },
        "id": "HIFXN4ZzjFSb",
        "outputId": "0fc09341-bbbb-4f0f-9b2c-458aef0f234f"
      },
      "execution_count": null,
      "outputs": [
        {
          "output_type": "stream",
          "name": "stdout",
          "text": [
            "(2,)\n"
          ]
        },
        {
          "output_type": "execute_result",
          "data": {
            "text/plain": [
              "tuple"
            ]
          },
          "metadata": {},
          "execution_count": 32
        }
      ]
    },
    {
      "cell_type": "code",
      "source": [
        "tup = (1)\n",
        "list1 = [1]\n",
        "type(tup)"
      ],
      "metadata": {
        "colab": {
          "base_uri": "https://localhost:8080/"
        },
        "id": "2zwIKaB-jXwE",
        "outputId": "746054e0-288c-486d-ab2e-671b362a0b0e"
      },
      "execution_count": null,
      "outputs": [
        {
          "output_type": "execute_result",
          "data": {
            "text/plain": [
              "int"
            ]
          },
          "metadata": {},
          "execution_count": 33
        }
      ]
    },
    {
      "cell_type": "code",
      "source": [
        "my_tuple"
      ],
      "metadata": {
        "colab": {
          "base_uri": "https://localhost:8080/"
        },
        "id": "k1AQWqXIjcGr",
        "outputId": "3d5ccc18-5007-4474-87af-be0539774d35"
      },
      "execution_count": null,
      "outputs": [
        {
          "output_type": "execute_result",
          "data": {
            "text/plain": [
              "(1, 2, 3)"
            ]
          },
          "metadata": {},
          "execution_count": 34
        }
      ]
    },
    {
      "cell_type": "markdown",
      "source": [
        "Unpacking in tuple"
      ],
      "metadata": {
        "id": "fhBUQFwljj-w"
      }
    },
    {
      "cell_type": "code",
      "source": [
        "a, b, c = my_tuple\n",
        "print(a)\n",
        "print(b)\n",
        "print(c)"
      ],
      "metadata": {
        "colab": {
          "base_uri": "https://localhost:8080/"
        },
        "id": "a9uIgZCIjlfg",
        "outputId": "a9d53ab7-ad16-4ccc-8b1e-3bf5eeedb8f1"
      },
      "execution_count": null,
      "outputs": [
        {
          "output_type": "stream",
          "name": "stdout",
          "text": [
            "1\n",
            "2\n",
            "3\n"
          ]
        }
      ]
    },
    {
      "cell_type": "code",
      "source": [
        "my_tuple1 = (1, 2, 3, 4, 5, 6, 7, 8)\n",
        "a, *b, c = my_tuple1\n",
        "print(a)\n",
        "print(b)\n",
        "print(c)"
      ],
      "metadata": {
        "colab": {
          "base_uri": "https://localhost:8080/"
        },
        "id": "UnUXPK9njw6K",
        "outputId": "bbf2d4ee-d5b8-4a1c-a32b-817699237d5a"
      },
      "execution_count": null,
      "outputs": [
        {
          "output_type": "stream",
          "name": "stdout",
          "text": [
            "1\n",
            "[2, 3, 4, 5, 6, 7]\n",
            "8\n"
          ]
        }
      ]
    },
    {
      "cell_type": "code",
      "source": [
        "my_tuple1 = (1, 2, 3, 4, 5, 6, 7, 8)\n",
        "a, b, c = my_tuple1\n",
        "print(a)\n",
        "print(b)\n",
        "print(c)"
      ],
      "metadata": {
        "colab": {
          "base_uri": "https://localhost:8080/",
          "height": 216
        },
        "id": "bLBsm_wLkbnA",
        "outputId": "cc15ab18-c0da-42ca-93d3-d6fc7c7ffd16"
      },
      "execution_count": null,
      "outputs": [
        {
          "output_type": "error",
          "ename": "ValueError",
          "evalue": "too many values to unpack (expected 3)",
          "traceback": [
            "\u001b[0;31m---------------------------------------------------------------------------\u001b[0m",
            "\u001b[0;31mValueError\u001b[0m                                Traceback (most recent call last)",
            "\u001b[0;32m/tmp/ipython-input-3888835183.py\u001b[0m in \u001b[0;36m<cell line: 0>\u001b[0;34m()\u001b[0m\n\u001b[1;32m      1\u001b[0m \u001b[0mmy_tuple1\u001b[0m \u001b[0;34m=\u001b[0m \u001b[0;34m(\u001b[0m\u001b[0;36m1\u001b[0m\u001b[0;34m,\u001b[0m \u001b[0;36m2\u001b[0m\u001b[0;34m,\u001b[0m \u001b[0;36m3\u001b[0m\u001b[0;34m,\u001b[0m \u001b[0;36m4\u001b[0m\u001b[0;34m,\u001b[0m \u001b[0;36m5\u001b[0m\u001b[0;34m,\u001b[0m \u001b[0;36m6\u001b[0m\u001b[0;34m,\u001b[0m \u001b[0;36m7\u001b[0m\u001b[0;34m,\u001b[0m \u001b[0;36m8\u001b[0m\u001b[0;34m)\u001b[0m\u001b[0;34m\u001b[0m\u001b[0;34m\u001b[0m\u001b[0m\n\u001b[0;32m----> 2\u001b[0;31m \u001b[0ma\u001b[0m\u001b[0;34m,\u001b[0m \u001b[0mb\u001b[0m\u001b[0;34m,\u001b[0m \u001b[0mc\u001b[0m \u001b[0;34m=\u001b[0m \u001b[0mmy_tuple1\u001b[0m\u001b[0;34m\u001b[0m\u001b[0;34m\u001b[0m\u001b[0m\n\u001b[0m\u001b[1;32m      3\u001b[0m \u001b[0mprint\u001b[0m\u001b[0;34m(\u001b[0m\u001b[0ma\u001b[0m\u001b[0;34m)\u001b[0m\u001b[0;34m\u001b[0m\u001b[0;34m\u001b[0m\u001b[0m\n\u001b[1;32m      4\u001b[0m \u001b[0mprint\u001b[0m\u001b[0;34m(\u001b[0m\u001b[0mb\u001b[0m\u001b[0;34m)\u001b[0m\u001b[0;34m\u001b[0m\u001b[0;34m\u001b[0m\u001b[0m\n\u001b[1;32m      5\u001b[0m \u001b[0mprint\u001b[0m\u001b[0;34m(\u001b[0m\u001b[0mc\u001b[0m\u001b[0;34m)\u001b[0m\u001b[0;34m\u001b[0m\u001b[0;34m\u001b[0m\u001b[0m\n",
            "\u001b[0;31mValueError\u001b[0m: too many values to unpack (expected 3)"
          ]
        }
      ]
    },
    {
      "cell_type": "code",
      "source": [
        "tuple1 = (1, 2, 3)\n",
        "tuple2 = ('a', 'b', 'c')\n",
        "\n",
        "combined_tuple = tuple1 + tuple2\n",
        "print(combined_tuple)"
      ],
      "metadata": {
        "colab": {
          "base_uri": "https://localhost:8080/"
        },
        "id": "7QaCKFrTkrxP",
        "outputId": "4b610463-68f0-4531-ad29-512e05fd1c07"
      },
      "execution_count": null,
      "outputs": [
        {
          "output_type": "stream",
          "name": "stdout",
          "text": [
            "(1, 2, 3, 'a', 'b', 'c')\n"
          ]
        }
      ]
    },
    {
      "cell_type": "code",
      "source": [
        "tuple1 = (1, 2, 3)\n",
        "tuple2 = (7, )\n",
        "\n",
        "combined_tuple = tuple1 + tuple2\n",
        "print(combined_tuple)"
      ],
      "metadata": {
        "colab": {
          "base_uri": "https://localhost:8080/"
        },
        "id": "rJMENExukuX2",
        "outputId": "17bcaa47-5af7-4cf9-dbee-85cf596f58be"
      },
      "execution_count": null,
      "outputs": [
        {
          "output_type": "stream",
          "name": "stdout",
          "text": [
            "(1, 2, 3, 7)\n"
          ]
        }
      ]
    },
    {
      "cell_type": "code",
      "source": [
        "tuple1 = (1, 2, 3)\n",
        "tuple2 = (7)\n",
        "\n",
        "combined_tuple = tuple1 + tuple2\n",
        "print(combined_tuple)"
      ],
      "metadata": {
        "colab": {
          "base_uri": "https://localhost:8080/",
          "height": 198
        },
        "id": "yB4Uc9nFlHo7",
        "outputId": "2449939a-2790-4ca6-c483-b36848c85ffe"
      },
      "execution_count": null,
      "outputs": [
        {
          "output_type": "error",
          "ename": "TypeError",
          "evalue": "can only concatenate tuple (not \"int\") to tuple",
          "traceback": [
            "\u001b[0;31m---------------------------------------------------------------------------\u001b[0m",
            "\u001b[0;31mTypeError\u001b[0m                                 Traceback (most recent call last)",
            "\u001b[0;32m/tmp/ipython-input-1531195264.py\u001b[0m in \u001b[0;36m<cell line: 0>\u001b[0;34m()\u001b[0m\n\u001b[1;32m      2\u001b[0m \u001b[0mtuple2\u001b[0m \u001b[0;34m=\u001b[0m \u001b[0;34m(\u001b[0m\u001b[0;36m7\u001b[0m\u001b[0;34m)\u001b[0m\u001b[0;34m\u001b[0m\u001b[0;34m\u001b[0m\u001b[0m\n\u001b[1;32m      3\u001b[0m \u001b[0;34m\u001b[0m\u001b[0m\n\u001b[0;32m----> 4\u001b[0;31m \u001b[0mcombined_tuple\u001b[0m \u001b[0;34m=\u001b[0m \u001b[0mtuple1\u001b[0m \u001b[0;34m+\u001b[0m \u001b[0mtuple2\u001b[0m\u001b[0;34m\u001b[0m\u001b[0;34m\u001b[0m\u001b[0m\n\u001b[0m\u001b[1;32m      5\u001b[0m \u001b[0mprint\u001b[0m\u001b[0;34m(\u001b[0m\u001b[0mcombined_tuple\u001b[0m\u001b[0;34m)\u001b[0m\u001b[0;34m\u001b[0m\u001b[0;34m\u001b[0m\u001b[0m\n",
            "\u001b[0;31mTypeError\u001b[0m: can only concatenate tuple (not \"int\") to tuple"
          ]
        }
      ]
    },
    {
      "cell_type": "code",
      "source": [
        "## this is not tuple\n",
        "tuple2 = (7)\n",
        "type(tuple2)"
      ],
      "metadata": {
        "colab": {
          "base_uri": "https://localhost:8080/"
        },
        "id": "p3xG2nHzmdDm",
        "outputId": "5635caae-ceb4-45ac-89ca-59f3fc31f57d"
      },
      "execution_count": null,
      "outputs": [
        {
          "output_type": "execute_result",
          "data": {
            "text/plain": [
              "int"
            ]
          },
          "metadata": {},
          "execution_count": 45
        }
      ]
    },
    {
      "cell_type": "code",
      "source": [
        "tuple2 = (7, )\n",
        "type(tuple2)"
      ],
      "metadata": {
        "colab": {
          "base_uri": "https://localhost:8080/"
        },
        "id": "ua0yU5Y9kxyj",
        "outputId": "6893177c-5c59-4407-a0af-f8ee5a64ea2d"
      },
      "execution_count": null,
      "outputs": [
        {
          "output_type": "execute_result",
          "data": {
            "text/plain": [
              "tuple"
            ]
          },
          "metadata": {},
          "execution_count": 44
        }
      ]
    },
    {
      "cell_type": "code",
      "source": [
        "list1 = [1]\n",
        "print(list1)\n",
        "type(list1)"
      ],
      "metadata": {
        "colab": {
          "base_uri": "https://localhost:8080/"
        },
        "id": "rehylihZk1ij",
        "outputId": "4105a9df-032b-4961-f3db-f0fd4dd7d1f9"
      },
      "execution_count": null,
      "outputs": [
        {
          "output_type": "stream",
          "name": "stdout",
          "text": [
            "[1]\n"
          ]
        },
        {
          "output_type": "execute_result",
          "data": {
            "text/plain": [
              "list"
            ]
          },
          "metadata": {},
          "execution_count": 42
        }
      ]
    },
    {
      "cell_type": "markdown",
      "source": [
        "# **Sets** -> Unordered, mutable, duplicates are not allowed, unindexed"
      ],
      "metadata": {
        "id": "OQjHPF-2k6ab"
      }
    },
    {
      "cell_type": "code",
      "source": [
        "set1 = set() ## Empty set\n",
        "set2 = {1, 2, 3}\n",
        "set3 = {1, \"One\", 3.4}"
      ],
      "metadata": {
        "id": "UW-1zAMMk8Gb"
      },
      "execution_count": null,
      "outputs": []
    },
    {
      "cell_type": "code",
      "source": [
        "print(set3)"
      ],
      "metadata": {
        "colab": {
          "base_uri": "https://localhost:8080/"
        },
        "id": "q6XEJ_7bs996",
        "outputId": "4af077b2-3fd6-4838-dd20-8f62f94fb0c4"
      },
      "execution_count": null,
      "outputs": [
        {
          "output_type": "stream",
          "name": "stdout",
          "text": [
            "{1, 3.4, 'One'}\n"
          ]
        }
      ]
    },
    {
      "cell_type": "code",
      "source": [
        "type(set3)"
      ],
      "metadata": {
        "colab": {
          "base_uri": "https://localhost:8080/"
        },
        "id": "OzOpm6tmuaAQ",
        "outputId": "a6fba1a1-829e-4ece-d49a-9ffa151835dd"
      },
      "execution_count": null,
      "outputs": [
        {
          "output_type": "execute_result",
          "data": {
            "text/plain": [
              "set"
            ]
          },
          "metadata": {},
          "execution_count": 48
        }
      ]
    },
    {
      "cell_type": "code",
      "source": [
        "set4 = {1, 2, 3, 4, 2, 3, 3, 2, 4, 4, 3, 2}\n",
        "print(set4)"
      ],
      "metadata": {
        "colab": {
          "base_uri": "https://localhost:8080/"
        },
        "id": "XtDI1iIuuc8E",
        "outputId": "75a26df7-ac51-4a6f-aea3-1fd53e2b0e65"
      },
      "execution_count": null,
      "outputs": [
        {
          "output_type": "stream",
          "name": "stdout",
          "text": [
            "{1, 2, 3, 4}\n"
          ]
        }
      ]
    },
    {
      "cell_type": "markdown",
      "source": [
        "Note: Sets in Python do not require a comma after a single element"
      ],
      "metadata": {
        "id": "o3LsFxq002Xt"
      }
    },
    {
      "cell_type": "code",
      "source": [
        "single_element_set = {42}\n",
        "print(single_element_set)"
      ],
      "metadata": {
        "colab": {
          "base_uri": "https://localhost:8080/"
        },
        "id": "7iHaAEsv03Fz",
        "outputId": "5a674189-93e6-4505-cfef-b337d3def73f"
      },
      "execution_count": null,
      "outputs": [
        {
          "output_type": "stream",
          "name": "stdout",
          "text": [
            "{42}\n"
          ]
        }
      ]
    },
    {
      "cell_type": "code",
      "source": [
        "type(single_element_set)"
      ],
      "metadata": {
        "colab": {
          "base_uri": "https://localhost:8080/"
        },
        "id": "54d3YRso09X1",
        "outputId": "b2edbe11-2741-4a46-8c96-a9e9abdbfef0"
      },
      "execution_count": null,
      "outputs": [
        {
          "output_type": "execute_result",
          "data": {
            "text/plain": [
              "set"
            ]
          },
          "metadata": {},
          "execution_count": 51
        }
      ]
    },
    {
      "cell_type": "code",
      "source": [
        "my_string = \"hello\"\n",
        "my_set = set(my_string)\n",
        "print(my_set)"
      ],
      "metadata": {
        "colab": {
          "base_uri": "https://localhost:8080/"
        },
        "id": "3W28eCot1D6o",
        "outputId": "866aff7f-1bef-4121-d591-9ff4b3245b47"
      },
      "execution_count": null,
      "outputs": [
        {
          "output_type": "stream",
          "name": "stdout",
          "text": [
            "{'o', 'h', 'l', 'e'}\n"
          ]
        }
      ]
    },
    {
      "cell_type": "code",
      "source": [
        "my_set"
      ],
      "metadata": {
        "colab": {
          "base_uri": "https://localhost:8080/"
        },
        "id": "uQ7JDUM68tjn",
        "outputId": "40d60fd5-e07e-4e36-d0e1-78e71d2bd270"
      },
      "execution_count": null,
      "outputs": [
        {
          "output_type": "execute_result",
          "data": {
            "text/plain": [
              "{'e', 'h', 'l', 'o'}"
            ]
          },
          "metadata": {},
          "execution_count": 53
        }
      ]
    },
    {
      "cell_type": "code",
      "source": [
        "my_set = {['a', 'b', 'c']}\n",
        "print(my_set)"
      ],
      "metadata": {
        "colab": {
          "base_uri": "https://localhost:8080/",
          "height": 162
        },
        "id": "T91qS4J49EEi",
        "outputId": "21988915-b84e-494e-df7e-98c9f400ca14"
      },
      "execution_count": null,
      "outputs": [
        {
          "output_type": "error",
          "ename": "TypeError",
          "evalue": "unhashable type: 'list'",
          "traceback": [
            "\u001b[0;31m---------------------------------------------------------------------------\u001b[0m",
            "\u001b[0;31mTypeError\u001b[0m                                 Traceback (most recent call last)",
            "\u001b[0;32m/tmp/ipython-input-2142255777.py\u001b[0m in \u001b[0;36m<cell line: 0>\u001b[0;34m()\u001b[0m\n\u001b[0;32m----> 1\u001b[0;31m \u001b[0mmy_set\u001b[0m \u001b[0;34m=\u001b[0m \u001b[0;34m{\u001b[0m\u001b[0;34m[\u001b[0m\u001b[0;34m'a'\u001b[0m\u001b[0;34m,\u001b[0m \u001b[0;34m'b'\u001b[0m\u001b[0;34m,\u001b[0m \u001b[0;34m'c'\u001b[0m\u001b[0;34m]\u001b[0m\u001b[0;34m}\u001b[0m\u001b[0;34m\u001b[0m\u001b[0;34m\u001b[0m\u001b[0m\n\u001b[0m\u001b[1;32m      2\u001b[0m \u001b[0mprint\u001b[0m\u001b[0;34m(\u001b[0m\u001b[0mmy_set\u001b[0m\u001b[0;34m)\u001b[0m\u001b[0;34m\u001b[0m\u001b[0;34m\u001b[0m\u001b[0m\n",
            "\u001b[0;31mTypeError\u001b[0m: unhashable type: 'list'"
          ]
        }
      ]
    },
    {
      "cell_type": "markdown",
      "source": [
        "Find any element in Set"
      ],
      "metadata": {
        "id": "-DEagj2j9rHD"
      }
    },
    {
      "cell_type": "code",
      "source": [
        "print('e' in my_set)"
      ],
      "metadata": {
        "colab": {
          "base_uri": "https://localhost:8080/"
        },
        "id": "WLZtiHjo8y-y",
        "outputId": "31b1d641-75e8-40ac-bdf2-816f17bdd701"
      },
      "execution_count": null,
      "outputs": [
        {
          "output_type": "stream",
          "name": "stdout",
          "text": [
            "True\n"
          ]
        }
      ]
    },
    {
      "cell_type": "code",
      "source": [
        "len(my_set)"
      ],
      "metadata": {
        "colab": {
          "base_uri": "https://localhost:8080/"
        },
        "id": "gWGvZwif93Ve",
        "outputId": "64e4d7b9-9144-486e-831f-a8cf839b64c4"
      },
      "execution_count": null,
      "outputs": [
        {
          "output_type": "execute_result",
          "data": {
            "text/plain": [
              "4"
            ]
          },
          "metadata": {},
          "execution_count": 57
        }
      ]
    },
    {
      "cell_type": "markdown",
      "source": [
        "Built in Functions:"
      ],
      "metadata": {
        "id": "YCUiMyoKAGtb"
      }
    },
    {
      "cell_type": "markdown",
      "source": [
        "min(), max(), sum"
      ],
      "metadata": {
        "id": "GgX_ZKguAD-5"
      }
    },
    {
      "cell_type": "code",
      "source": [
        "set1 = {1, 2, 3}\n",
        "set2 = {3, 4, 5}\n",
        "\n",
        "min_set1 = min(set1)\n",
        "min_set2 = min(set2)\n",
        "\n",
        "print(min_set1)\n",
        "print(min_set2)\n",
        "\n",
        "max_set1 = max(set1)\n",
        "max_set2 = max(set2)\n",
        "\n",
        "print(max_set1)\n",
        "print(max_set2)\n",
        "\n",
        "sum_set1 = sum(set1)\n",
        "sum_set2 = sum(set2)\n",
        "\n",
        "print(sum_set1)\n",
        "print(sum_set2)"
      ],
      "metadata": {
        "colab": {
          "base_uri": "https://localhost:8080/"
        },
        "id": "iHOhm6i59_Mc",
        "outputId": "f3d37483-7c4d-4869-cd01-e015514dce86"
      },
      "execution_count": null,
      "outputs": [
        {
          "output_type": "stream",
          "name": "stdout",
          "text": [
            "1\n",
            "3\n",
            "3\n",
            "5\n",
            "6\n",
            "12\n"
          ]
        }
      ]
    },
    {
      "cell_type": "code",
      "source": [
        "my_set = {1, 2, 3, 4, 5, 6, 7}"
      ],
      "metadata": {
        "id": "_HBdjBa4__pO"
      },
      "execution_count": null,
      "outputs": []
    },
    {
      "cell_type": "code",
      "source": [
        "my_set"
      ],
      "metadata": {
        "colab": {
          "base_uri": "https://localhost:8080/"
        },
        "id": "f2g8GytnAAs2",
        "outputId": "05ced183-2dde-4510-c209-f221c88768b2"
      },
      "execution_count": null,
      "outputs": [
        {
          "output_type": "execute_result",
          "data": {
            "text/plain": [
              "{1, 2, 3, 4, 5, 6, 7}"
            ]
          },
          "metadata": {},
          "execution_count": 65
        }
      ]
    },
    {
      "cell_type": "markdown",
      "source": [
        "ADD"
      ],
      "metadata": {
        "id": "qNqHR44oATS6"
      }
    },
    {
      "cell_type": "code",
      "source": [
        "my_set.add(9)\n",
        "print(my_set)"
      ],
      "metadata": {
        "colab": {
          "base_uri": "https://localhost:8080/"
        },
        "id": "XdO2IGLqAJ65",
        "outputId": "ee638807-a917-477a-e907-e8ac1a103873"
      },
      "execution_count": null,
      "outputs": [
        {
          "output_type": "stream",
          "name": "stdout",
          "text": [
            "{1, 2, 3, 4, 5, 6, 7, 9}\n"
          ]
        }
      ]
    },
    {
      "cell_type": "markdown",
      "source": [
        "If we want to add more than one integers we can use update()"
      ],
      "metadata": {
        "id": "KCxpb6JNAaaS"
      }
    },
    {
      "cell_type": "code",
      "source": [
        "my_set.update([9, 2, 5])\n",
        "print(my_set)"
      ],
      "metadata": {
        "colab": {
          "base_uri": "https://localhost:8080/"
        },
        "id": "U3-mNvo7AfDs",
        "outputId": "722102c6-3a8a-46e2-c6f5-2472946e2275"
      },
      "execution_count": null,
      "outputs": [
        {
          "output_type": "stream",
          "name": "stdout",
          "text": [
            "{1, 2, 3, 4, 5, 6, 7, 9}\n"
          ]
        }
      ]
    },
    {
      "cell_type": "code",
      "source": [
        "my_set.update(9, 2, 5) ## ([9, 2, 5]) ## [] are missing\n",
        "print(my_set)"
      ],
      "metadata": {
        "colab": {
          "base_uri": "https://localhost:8080/",
          "height": 162
        },
        "id": "lFZQNHAZAswA",
        "outputId": "db6703b6-8134-4650-9b3d-4fd3793df0fd"
      },
      "execution_count": null,
      "outputs": [
        {
          "output_type": "error",
          "ename": "TypeError",
          "evalue": "'int' object is not iterable",
          "traceback": [
            "\u001b[0;31m---------------------------------------------------------------------------\u001b[0m",
            "\u001b[0;31mTypeError\u001b[0m                                 Traceback (most recent call last)",
            "\u001b[0;32m/tmp/ipython-input-2967460467.py\u001b[0m in \u001b[0;36m<cell line: 0>\u001b[0;34m()\u001b[0m\n\u001b[0;32m----> 1\u001b[0;31m \u001b[0mmy_set\u001b[0m\u001b[0;34m.\u001b[0m\u001b[0mupdate\u001b[0m\u001b[0;34m(\u001b[0m\u001b[0;36m9\u001b[0m\u001b[0;34m,\u001b[0m \u001b[0;36m2\u001b[0m\u001b[0;34m,\u001b[0m \u001b[0;36m5\u001b[0m\u001b[0;34m)\u001b[0m\u001b[0;34m\u001b[0m\u001b[0;34m\u001b[0m\u001b[0m\n\u001b[0m\u001b[1;32m      2\u001b[0m \u001b[0mprint\u001b[0m\u001b[0;34m(\u001b[0m\u001b[0mmy_set\u001b[0m\u001b[0;34m)\u001b[0m\u001b[0;34m\u001b[0m\u001b[0;34m\u001b[0m\u001b[0m\n",
            "\u001b[0;31mTypeError\u001b[0m: 'int' object is not iterable"
          ]
        }
      ]
    },
    {
      "cell_type": "markdown",
      "source": [
        "pop(), del()"
      ],
      "metadata": {
        "id": "fFrqPc_eBo2K"
      }
    },
    {
      "cell_type": "code",
      "source": [
        "set5 = {1, 2, 4, 5}\n",
        "set5.pop()\n",
        "print(set5)"
      ],
      "metadata": {
        "colab": {
          "base_uri": "https://localhost:8080/"
        },
        "id": "ehDB--jGBrQ9",
        "outputId": "14028331-02cb-4d33-ce3e-b952cf219307"
      },
      "execution_count": null,
      "outputs": [
        {
          "output_type": "stream",
          "name": "stdout",
          "text": [
            "{2, 4, 5}\n"
          ]
        }
      ]
    },
    {
      "cell_type": "code",
      "source": [
        "set5.add(1)\n",
        "print(set5)"
      ],
      "metadata": {
        "colab": {
          "base_uri": "https://localhost:8080/"
        },
        "id": "OAEjowzGCEq7",
        "outputId": "6bdb1625-b88f-483d-cbfb-c02243c6cbf7"
      },
      "execution_count": null,
      "outputs": [
        {
          "output_type": "stream",
          "name": "stdout",
          "text": [
            "{1, 2, 4, 5}\n"
          ]
        }
      ]
    },
    {
      "cell_type": "markdown",
      "source": [
        "Join Sets"
      ],
      "metadata": {
        "id": "nj3ad-kMCVWx"
      }
    },
    {
      "cell_type": "markdown",
      "source": [
        "Union:"
      ],
      "metadata": {
        "id": "bzFTfSVNCWC9"
      }
    },
    {
      "cell_type": "code",
      "source": [
        "set1 = {1, 2, 3}\n",
        "set2 = {4, 5, 6}\n",
        "union_set = set1.union(set2)  ## set1|set2\n",
        "print(union_set)"
      ],
      "metadata": {
        "colab": {
          "base_uri": "https://localhost:8080/"
        },
        "id": "F0d2f9ajCXP3",
        "outputId": "acbc99e9-d20f-4bd9-ec2e-53fc9a13b4db"
      },
      "execution_count": null,
      "outputs": [
        {
          "output_type": "stream",
          "name": "stdout",
          "text": [
            "{1, 2, 3, 4, 5, 6}\n"
          ]
        }
      ]
    },
    {
      "cell_type": "markdown",
      "source": [
        "Intersection"
      ],
      "metadata": {
        "id": "PQn7NcYoCbBQ"
      }
    },
    {
      "cell_type": "code",
      "source": [
        "set1 = {1, 2, 3}\n",
        "set2 = {3, 5, 6}\n",
        "\n",
        "intersection_set = set1 & set2  ## set1.intersection(set2)\n",
        "print(intersection_set)"
      ],
      "metadata": {
        "colab": {
          "base_uri": "https://localhost:8080/"
        },
        "id": "kGddyEBnCbVj",
        "outputId": "64f51171-d7f3-4dc8-e80f-6e4a475da1f8"
      },
      "execution_count": null,
      "outputs": [
        {
          "output_type": "stream",
          "name": "stdout",
          "text": [
            "{3}\n"
          ]
        }
      ]
    },
    {
      "cell_type": "markdown",
      "source": [
        "Difference"
      ],
      "metadata": {
        "id": "_NCEa4zzCiKs"
      }
    },
    {
      "cell_type": "code",
      "source": [
        "set1 = {1, 2, 3}\n",
        "set2 = {3, 5, 6}\n",
        "\n",
        "difference_set = set1 - set2\n",
        "print(difference_set)"
      ],
      "metadata": {
        "colab": {
          "base_uri": "https://localhost:8080/"
        },
        "id": "auxCWwbkCilc",
        "outputId": "9492b6ac-1903-4897-a656-9c304beb18fc"
      },
      "execution_count": null,
      "outputs": [
        {
          "output_type": "stream",
          "name": "stdout",
          "text": [
            "{1, 2}\n"
          ]
        }
      ]
    },
    {
      "cell_type": "markdown",
      "source": [
        "Symmetric Difference"
      ],
      "metadata": {
        "id": "PAARRxHXCu7E"
      }
    },
    {
      "cell_type": "code",
      "source": [
        "set1 = {1, 2, 3}\n",
        "set2 = {3, 5, 6}\n",
        "\n",
        "symmetric_difference = set1.symmetric_difference(set2)  ## set1 ^ set2\n",
        "## common value is taken out and rest is printed\n",
        "print(symmetric_difference)"
      ],
      "metadata": {
        "colab": {
          "base_uri": "https://localhost:8080/"
        },
        "id": "CXo3HuIeCvtV",
        "outputId": "179055a2-07f6-41d4-fcce-93164944fb49"
      },
      "execution_count": null,
      "outputs": [
        {
          "output_type": "stream",
          "name": "stdout",
          "text": [
            "{1, 2, 5, 6}\n"
          ]
        }
      ]
    },
    {
      "cell_type": "markdown",
      "source": [
        "Task: to explore and give me the difference between the above methods vs the _update() methods in the set.\n",
        "\n",
        "difference_update()\n",
        "\n",
        "intersection_update() and so on\n",
        "\n",
        "Task: Merge the below two tuples and then remove the duplicate values and return the final output as a tuple.\n",
        "\n",
        "tup1 = (1, 2, 3)\n",
        "\n",
        "tup2 = (3, 4, 5)"
      ],
      "metadata": {
        "id": "davySkyFDEOp"
      }
    },
    {
      "cell_type": "code",
      "source": [
        "## function definition\n",
        "def merge_and_remove_duplicates(tup1, tup2):\n",
        "  return tuple(set(tup1).union(tup2))\n",
        "\n",
        "## driver code\n",
        "tup1 = (1, 2, 3)\n",
        "tup2 = (3, 4, 5)\n",
        "\n",
        "## function calling\n",
        "print(merge_and_remove_duplicates(tup1, tup2))"
      ],
      "metadata": {
        "colab": {
          "base_uri": "https://localhost:8080/"
        },
        "id": "gButfS5ADFBS",
        "outputId": "c9ddb51d-a4bb-486e-ffcb-a77858554182"
      },
      "execution_count": null,
      "outputs": [
        {
          "output_type": "stream",
          "name": "stdout",
          "text": [
            "(1, 2, 3, 4, 5)\n"
          ]
        }
      ]
    },
    {
      "cell_type": "code",
      "source": [
        "# Step 1: Merge tuples\n",
        "merged = tup1 + tup2     # (1, 2, 3, 3, 4, 5)\n",
        "\n",
        "# Step 2: Convert to set to remove duplicates\n",
        "unique = set(merged)     # {1, 2, 3, 4, 5}\n",
        "\n",
        "# Step 3: Convert back to tuple\n",
        "final_tuple = tuple(unique)\n",
        "print(final_tuple)       # (1, 2, 3, 4, 5)"
      ],
      "metadata": {
        "colab": {
          "base_uri": "https://localhost:8080/"
        },
        "id": "Im_0CbjCGpQc",
        "outputId": "593b425e-3a2b-4ec4-ae1d-c641f56af936"
      },
      "execution_count": null,
      "outputs": [
        {
          "output_type": "stream",
          "name": "stdout",
          "text": [
            "(1, 2, 3, 4, 5)\n"
          ]
        }
      ]
    },
    {
      "cell_type": "markdown",
      "source": [
        "# **Dictionaries in Python**"
      ],
      "metadata": {
        "id": "0_pCVOqwJQqB"
      }
    },
    {
      "cell_type": "code",
      "source": [
        "my_dict = {\"name\": \"Shahnawaz Khan\", \"age\": 27, \"salary\": 40000, \"city\": \"Lahore\", \"location\": \"Gulberg 3\"}\n",
        "print(my_dict)"
      ],
      "metadata": {
        "colab": {
          "base_uri": "https://localhost:8080/"
        },
        "id": "-z5ahv0tJSEt",
        "outputId": "f737990a-eb76-4e39-b3aa-b2d4aa7a76c4"
      },
      "execution_count": null,
      "outputs": [
        {
          "output_type": "stream",
          "name": "stdout",
          "text": [
            "{'name': 'Shahnawaz Khan', 'age': 27, 'salary': 40000, 'city': 'Lahore', 'location': 'Gulberg 3'}\n"
          ]
        }
      ]
    },
    {
      "cell_type": "code",
      "source": [
        "my_dict['salary']"
      ],
      "metadata": {
        "colab": {
          "base_uri": "https://localhost:8080/"
        },
        "id": "cobD69UmK4NX",
        "outputId": "f0761c3c-270b-40fa-dc6f-e0c6b12bc1f4"
      },
      "execution_count": null,
      "outputs": [
        {
          "output_type": "execute_result",
          "data": {
            "text/plain": [
              "40000"
            ]
          },
          "metadata": {},
          "execution_count": 83
        }
      ]
    },
    {
      "cell_type": "code",
      "source": [
        "scores = {'Alice':85, \"Bob\":76, \"Charlie\":56, \"David\":78, \"Eve\":90}\n",
        "print(scores)"
      ],
      "metadata": {
        "colab": {
          "base_uri": "https://localhost:8080/"
        },
        "id": "wZh9t09VK6ee",
        "outputId": "53454d3c-3338-4a4e-a7bd-f7677041f5bc"
      },
      "execution_count": null,
      "outputs": [
        {
          "output_type": "stream",
          "name": "stdout",
          "text": [
            "{'Alice': 85, 'Bob': 76, 'Charlie': 56, 'David': 78, 'Eve': 90}\n"
          ]
        }
      ]
    },
    {
      "cell_type": "code",
      "source": [
        "scores['Charlie']"
      ],
      "metadata": {
        "colab": {
          "base_uri": "https://localhost:8080/"
        },
        "id": "el3v2Z5iLl58",
        "outputId": "7fc617e2-62d0-4f8a-e111-42a1006d9998"
      },
      "execution_count": null,
      "outputs": [
        {
          "output_type": "execute_result",
          "data": {
            "text/plain": [
              "56"
            ]
          },
          "metadata": {},
          "execution_count": 85
        }
      ]
    },
    {
      "cell_type": "code",
      "source": [
        "min_score = min(scores.values())\n",
        "print(min_score)"
      ],
      "metadata": {
        "colab": {
          "base_uri": "https://localhost:8080/"
        },
        "id": "vDVFN-2hLoQy",
        "outputId": "04cadaf6-e2d8-4d78-afa9-3471f60423bf"
      },
      "execution_count": null,
      "outputs": [
        {
          "output_type": "stream",
          "name": "stdout",
          "text": [
            "56\n"
          ]
        }
      ]
    },
    {
      "cell_type": "code",
      "source": [
        "max_score = max(scores.values())\n",
        "print(max_score)"
      ],
      "metadata": {
        "colab": {
          "base_uri": "https://localhost:8080/"
        },
        "id": "pukp3Y_rLpL6",
        "outputId": "c8dee681-8899-40c4-d308-344c1b3c138a"
      },
      "execution_count": null,
      "outputs": [
        {
          "output_type": "stream",
          "name": "stdout",
          "text": [
            "90\n"
          ]
        }
      ]
    },
    {
      "cell_type": "markdown",
      "source": [
        "Built-in methods"
      ],
      "metadata": {
        "id": "Mm8DTMCxLtgw"
      }
    },
    {
      "cell_type": "code",
      "source": [
        "print(my_dict.keys())"
      ],
      "metadata": {
        "colab": {
          "base_uri": "https://localhost:8080/"
        },
        "id": "QltfX4wcLt-O",
        "outputId": "88507d0a-fce6-45ec-f1a4-4082030436a1"
      },
      "execution_count": null,
      "outputs": [
        {
          "output_type": "stream",
          "name": "stdout",
          "text": [
            "dict_keys(['name', 'age', 'salary', 'city', 'location'])\n"
          ]
        }
      ]
    },
    {
      "cell_type": "code",
      "source": [
        "print(my_dict.values())"
      ],
      "metadata": {
        "colab": {
          "base_uri": "https://localhost:8080/"
        },
        "id": "Hh-CQQS7Lv-_",
        "outputId": "ce463ac4-943e-4e31-eea1-f493bcc380d8"
      },
      "execution_count": null,
      "outputs": [
        {
          "output_type": "stream",
          "name": "stdout",
          "text": [
            "dict_values(['Shahnawaz Khan', 27, 40000, 'Lahore', 'Gulberg 3'])\n"
          ]
        }
      ]
    },
    {
      "cell_type": "code",
      "source": [
        "print(my_dict.items())"
      ],
      "metadata": {
        "colab": {
          "base_uri": "https://localhost:8080/"
        },
        "id": "GfBBCef4L0x3",
        "outputId": "fb62f078-bbb2-4cd0-cc58-54a942ec5dfa"
      },
      "execution_count": null,
      "outputs": [
        {
          "output_type": "stream",
          "name": "stdout",
          "text": [
            "dict_items([('name', 'Shahnawaz Khan'), ('age', 27), ('salary', 40000), ('city', 'Lahore'), ('location', 'Gulberg 3')])\n"
          ]
        }
      ]
    },
    {
      "cell_type": "markdown",
      "source": [
        "Add new \"key:value\" pairs in the dictionary"
      ],
      "metadata": {
        "id": "fOM-2xOwL4lf"
      }
    },
    {
      "cell_type": "code",
      "source": [
        "my_dict"
      ],
      "metadata": {
        "colab": {
          "base_uri": "https://localhost:8080/"
        },
        "id": "eh8k-twHL5UC",
        "outputId": "0c56bce2-90c0-47b1-8229-732efc490699"
      },
      "execution_count": null,
      "outputs": [
        {
          "output_type": "execute_result",
          "data": {
            "text/plain": [
              "{'name': 'Shahnawaz Khan',\n",
              " 'age': 27,\n",
              " 'salary': 40000,\n",
              " 'city': 'Lahore',\n",
              " 'location': 'Gulberg 3'}"
            ]
          },
          "metadata": {},
          "execution_count": 91
        }
      ]
    },
    {
      "cell_type": "code",
      "source": [
        "my_dict['position'] = 'Data Scientist'\n",
        "my_dict['company'] = 'KAKS LTD'\n",
        "print(my_dict)"
      ],
      "metadata": {
        "colab": {
          "base_uri": "https://localhost:8080/"
        },
        "id": "jXklIjD9L9XP",
        "outputId": "d2a8396b-d662-47c1-f4dd-f4f5a54bb1a1"
      },
      "execution_count": null,
      "outputs": [
        {
          "output_type": "stream",
          "name": "stdout",
          "text": [
            "{'name': 'Shahnawaz Khan', 'age': 27, 'salary': 40000, 'city': 'Lahore', 'location': 'Gulberg 3', 'position': 'Data Scientist', 'company': 'KAKS LTD'}\n"
          ]
        }
      ]
    },
    {
      "cell_type": "markdown",
      "source": [
        "Update salary and city"
      ],
      "metadata": {
        "id": "4eSRCq8FVsLC"
      }
    },
    {
      "cell_type": "code",
      "source": [
        "my_dict.update({'salary':50000, 'city':'Karachi'})\n",
        "print(my_dict)"
      ],
      "metadata": {
        "colab": {
          "base_uri": "https://localhost:8080/"
        },
        "id": "VQV5EwDRVteg",
        "outputId": "d56a1521-1693-44fe-afeb-d12a78cf2c0b"
      },
      "execution_count": null,
      "outputs": [
        {
          "output_type": "stream",
          "name": "stdout",
          "text": [
            "{'name': 'Shahnawaz Khan', 'age': 27, 'salary': 50000, 'city': 'Karachi', 'location': 'Gulberg 3', 'position': 'Data Scientist', 'company': 'KAKS LTD'}\n"
          ]
        }
      ]
    },
    {
      "cell_type": "markdown",
      "source": [
        "Delete the location key: value pair"
      ],
      "metadata": {
        "id": "1s2Vks3oVzng"
      }
    },
    {
      "cell_type": "code",
      "source": [
        "del my_dict['location']\n",
        "print(my_dict)"
      ],
      "metadata": {
        "colab": {
          "base_uri": "https://localhost:8080/"
        },
        "id": "I_oO7vthV3Pk",
        "outputId": "f8639bc1-9708-4ad6-e9da-abf7b5d694e6"
      },
      "execution_count": null,
      "outputs": [
        {
          "output_type": "stream",
          "name": "stdout",
          "text": [
            "{'name': 'Shahnawaz Khan', 'age': 27, 'salary': 50000, 'city': 'Karachi', 'position': 'Data Scientist', 'company': 'KAKS LTD'}\n"
          ]
        }
      ]
    },
    {
      "cell_type": "markdown",
      "source": [
        "Task: Check if all the elements in the list are unique or not?\n",
        "\n",
        "list1 = [1, 2, 3, 4, 2]\n",
        "\n",
        "Output: False"
      ],
      "metadata": {
        "id": "RoZqoFryV93f"
      }
    },
    {
      "cell_type": "code",
      "source": [
        "def all_unique(lst):\n",
        "    return len(lst) == len(set(lst))\n",
        "\n",
        "# Example\n",
        "list1 = [1, 2, 3, 4, 2]\n",
        "print(all_unique(list1))   # False\n",
        "\n",
        "list2 = [1, 2, 3, 4, 5]\n",
        "print(all_unique(list2))"
      ],
      "metadata": {
        "colab": {
          "base_uri": "https://localhost:8080/"
        },
        "id": "4RHfdbYfV_Tc",
        "outputId": "4293eca1-a89f-488a-f851-bbedfbbd6a54"
      },
      "execution_count": null,
      "outputs": [
        {
          "output_type": "stream",
          "name": "stdout",
          "text": [
            "False\n",
            "True\n"
          ]
        }
      ]
    },
    {
      "cell_type": "markdown",
      "source": [
        "Task: Count of occurence of each element in a list.\n",
        "\n",
        "lst = ['a', 'b', 'a', 'b', 'c', 'a']\n",
        "\n",
        "Output: {'a':3, 'b':2, 'c':1}"
      ],
      "metadata": {
        "id": "1xEKfQFoWS27"
      }
    },
    {
      "cell_type": "code",
      "source": [
        "lst = ['a', 'b', 'a', 'b', 'c', 'a']\n",
        "count_dict = {}\n",
        "\n",
        "for item in lst:\n",
        "    count_dict[item] = count_dict.get(item, 0) + 1\n",
        "\n",
        "print(count_dict)   # {'a': 3, 'b': 2, 'c': 1}\n",
        "\n",
        "## ## ## ## ## ## OR ## ## ## ## ## ##\n",
        "lst = ['a', 'b', 'a', 'b', 'c', 'a']\n",
        "output = {}\n",
        "\n",
        "for item in lst:\n",
        "    if item in output:\n",
        "       ## increment of the count value\n",
        "        output[item] += 1\n",
        "    else:\n",
        "        output[item] = 1\n",
        "\n",
        "print(output)"
      ],
      "metadata": {
        "colab": {
          "base_uri": "https://localhost:8080/"
        },
        "id": "CiOr8KbKWTbE",
        "outputId": "3bccf0df-1ee4-4eaa-9936-e3cbf2b2b92f"
      },
      "execution_count": null,
      "outputs": [
        {
          "output_type": "stream",
          "name": "stdout",
          "text": [
            "{'a': 3, 'b': 2, 'c': 1}\n",
            "{'a': 3, 'b': 2, 'c': 1}\n"
          ]
        }
      ]
    },
    {
      "cell_type": "markdown",
      "source": [
        "Swap key and values in a dictionary\n",
        "\n",
        "dict1 = {'a':1, 'b':2, 'c':3}\n",
        "\n",
        "Output: {1: 'a', 2:'b', 3:'c'}"
      ],
      "metadata": {
        "id": "kCncpBhCWo3D"
      }
    },
    {
      "cell_type": "code",
      "source": [
        "dict1 = {'a': 1, 'b': 2, 'c': 3}\n",
        "\n",
        "## Dictionary comprehensions\n",
        "swapped = {value: key for key, value in dict1.items()}\n",
        "\n",
        "print(swapped)"
      ],
      "metadata": {
        "id": "U9GyikIBWpT6",
        "outputId": "84ed8d1e-e4b9-4d74-f03b-0580009a241f",
        "colab": {
          "base_uri": "https://localhost:8080/"
        }
      },
      "execution_count": null,
      "outputs": [
        {
          "output_type": "stream",
          "name": "stdout",
          "text": [
            "{1: 'a', 2: 'b', 3: 'c'}\n"
          ]
        }
      ]
    }
  ]
}