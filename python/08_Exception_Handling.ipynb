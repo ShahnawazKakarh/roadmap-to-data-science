{
  "nbformat": 4,
  "nbformat_minor": 0,
  "metadata": {
    "colab": {
      "provenance": [],
      "authorship_tag": "ABX9TyMZcs3GBhZa88s5tGAfd8t+",
      "include_colab_link": true
    },
    "kernelspec": {
      "name": "python3",
      "display_name": "Python 3"
    },
    "language_info": {
      "name": "python"
    }
  },
  "cells": [
    {
      "cell_type": "markdown",
      "metadata": {
        "id": "view-in-github",
        "colab_type": "text"
      },
      "source": [
        "<a href=\"https://colab.research.google.com/github/ShahnawazKakarh/roadmap-to-data-science/blob/master/python/Exception_Handling.ipynb\" target=\"_parent\"><img src=\"https://colab.research.google.com/assets/colab-badge.svg\" alt=\"Open In Colab\"/></a>"
      ]
    },
    {
      "cell_type": "markdown",
      "source": [
        "Logical Error"
      ],
      "metadata": {
        "id": "xfNh-ixwdrxc"
      }
    },
    {
      "cell_type": "code",
      "source": [
        "## Area of rectangle\n",
        "length = 10\n",
        "width = 5\n",
        "\n",
        "## Formula of area\n",
        "area_of_rectangle = length * width\n",
        "print(area_of_rectangle)"
      ],
      "metadata": {
        "id": "6bo5DDNdgKXE"
      },
      "execution_count": null,
      "outputs": []
    },
    {
      "cell_type": "code",
      "execution_count": 1,
      "metadata": {
        "id": "KRkboxZqNeHU",
        "colab": {
          "base_uri": "https://localhost:8080/"
        },
        "outputId": "9afe8610-1c4d-4542-e19e-848d7f71394e"
      },
      "outputs": [
        {
          "output_type": "stream",
          "name": "stdout",
          "text": [
            "15\n"
          ]
        }
      ],
      "source": [
        "length = 10\n",
        "width = 5\n",
        "\n",
        "## logical error => should be a multiplication instead of addition\n",
        "area_of_rectangle = length + width\n",
        "print(area_of_rectangle)"
      ]
    },
    {
      "cell_type": "markdown",
      "source": [
        "Runtime Error in Python"
      ],
      "metadata": {
        "id": "tE9qJA9Kd5Id"
      }
    },
    {
      "cell_type": "code",
      "source": [
        "num = 0\n",
        "\n",
        "division = 10 / num\n",
        "print(division)"
      ],
      "metadata": {
        "colab": {
          "base_uri": "https://localhost:8080/",
          "height": 198
        },
        "id": "hYr4D0qxd0wD",
        "outputId": "8598b2c5-6ad8-4fcb-9670-7094200282a0"
      },
      "execution_count": 2,
      "outputs": [
        {
          "output_type": "error",
          "ename": "ZeroDivisionError",
          "evalue": "division by zero",
          "traceback": [
            "\u001b[0;31m---------------------------------------------------------------------------\u001b[0m",
            "\u001b[0;31mZeroDivisionError\u001b[0m                         Traceback (most recent call last)",
            "\u001b[0;32m/tmp/ipython-input-1539240006.py\u001b[0m in \u001b[0;36m<cell line: 0>\u001b[0;34m()\u001b[0m\n\u001b[1;32m      1\u001b[0m \u001b[0mnum\u001b[0m \u001b[0;34m=\u001b[0m \u001b[0;36m0\u001b[0m\u001b[0;34m\u001b[0m\u001b[0;34m\u001b[0m\u001b[0m\n\u001b[1;32m      2\u001b[0m \u001b[0;34m\u001b[0m\u001b[0m\n\u001b[0;32m----> 3\u001b[0;31m \u001b[0mdivision\u001b[0m \u001b[0;34m=\u001b[0m \u001b[0;36m10\u001b[0m \u001b[0;34m/\u001b[0m \u001b[0mnum\u001b[0m\u001b[0;34m\u001b[0m\u001b[0;34m\u001b[0m\u001b[0m\n\u001b[0m\u001b[1;32m      4\u001b[0m \u001b[0mprint\u001b[0m\u001b[0;34m(\u001b[0m\u001b[0mdivision\u001b[0m\u001b[0;34m)\u001b[0m\u001b[0;34m\u001b[0m\u001b[0;34m\u001b[0m\u001b[0m\n",
            "\u001b[0;31mZeroDivisionError\u001b[0m: division by zero"
          ]
        }
      ]
    },
    {
      "cell_type": "code",
      "source": [
        "try:\n",
        "  ## critical code\n",
        "  num = int(input(\"Enter a number: \"))\n",
        "  result = 10/num\n",
        "except ValueError:\n",
        "  print(\"You must enter a valid integer\")\n",
        "except ZeroDivisionError:\n",
        "  ## handle the errors/exceptions\n",
        "  print(\"Cannot divide by 0\")\n",
        "except:\n",
        "  print(\"An exception occured\")\n",
        "else:\n",
        "  ## will be executed only if try block will run properly\n",
        "  print(f\"Result is: {result}\")\n",
        "finally:\n",
        "  ## will be executed independent of whether try or except block will run\n",
        "  ## typically used for cleanup actions, like closing files or releasing resources.\n",
        "  print(\"Execution completed\")"
      ],
      "metadata": {
        "colab": {
          "base_uri": "https://localhost:8080/"
        },
        "id": "fEziyv6CeQNu",
        "outputId": "b4ed461d-53d8-4b04-ef08-c287f9cbb0aa"
      },
      "execution_count": 1,
      "outputs": [
        {
          "output_type": "stream",
          "name": "stdout",
          "text": [
            "Enter a number: 5\n",
            "Result is: 2.0\n",
            "Execution completed\n"
          ]
        }
      ]
    },
    {
      "cell_type": "code",
      "source": [
        "my_list = [1, 2, 3, 4, 5, 6, 7, 8, 9, 10]\n",
        "\n",
        "try:\n",
        "  print(my_list[3])\n",
        "except IndexError:\n",
        "  print(\"IndexError: Index out of range\")\n",
        "else:\n",
        "  print(\"No IndexError occured\")\n",
        "finally:\n",
        "  print(\"Thank you for completing this program\")"
      ],
      "metadata": {
        "colab": {
          "base_uri": "https://localhost:8080/"
        },
        "id": "D_DfktKOaEU8",
        "outputId": "510fd35c-76c3-475d-e082-fe54ccca1ee4"
      },
      "execution_count": 1,
      "outputs": [
        {
          "output_type": "stream",
          "name": "stdout",
          "text": [
            "4\n",
            "No IndexError occured\n",
            "Thank you for completing this program\n"
          ]
        }
      ]
    },
    {
      "cell_type": "code",
      "source": [
        "my_dict = {\"name\":\"Shahnawaz\", \"age\":26}\n",
        "\n",
        "executed_try = False\n",
        "try:\n",
        "  print(my_dict[\"name\"])\n",
        "  executed_try = True\n",
        "except KeyError:\n",
        "  print(\"KeyError: Key not found\")\n",
        "else:\n",
        "  print(\"No keyerror occured\")\n",
        "finally:\n",
        "  if executed_try:\n",
        "    print(\"Try block executed successfully\")\n",
        "  else:\n",
        "    print(\"Except block was executed\")"
      ],
      "metadata": {
        "colab": {
          "base_uri": "https://localhost:8080/"
        },
        "id": "FMfgXZbGaGog",
        "outputId": "f59c8815-5878-41d0-b54b-a20d82269067"
      },
      "execution_count": 2,
      "outputs": [
        {
          "output_type": "stream",
          "name": "stdout",
          "text": [
            "Shahnawaz\n",
            "No keyerror occured\n",
            "Try block executed successfully\n"
          ]
        }
      ]
    },
    {
      "cell_type": "code",
      "source": [
        "myDict = {\n",
        "    \"name\": \"Shahnawaz\",\n",
        "    \"age\": 25\n",
        "}\n",
        "try:\n",
        "    print(myDict[\"hey\"])\n",
        "\n",
        "    ## e is keyerror('hey')\n",
        "except Exception as e:\n",
        "    print(e)"
      ],
      "metadata": {
        "colab": {
          "base_uri": "https://localhost:8080/"
        },
        "id": "CyiMS6vYaKUH",
        "outputId": "042f1d3d-4007-4f7f-de14-ab33e3c25166"
      },
      "execution_count": 4,
      "outputs": [
        {
          "output_type": "stream",
          "name": "stdout",
          "text": [
            "'hey'\n"
          ]
        }
      ]
    },
    {
      "cell_type": "markdown",
      "source": [
        "raise keyword: generate an exception intentionally."
      ],
      "metadata": {
        "id": "Gfw_Hh6KaORB"
      }
    },
    {
      "cell_type": "code",
      "source": [
        "x = 10\n",
        "if x > 5:\n",
        "  raise ValueError(\"Value is too high\")"
      ],
      "metadata": {
        "colab": {
          "base_uri": "https://localhost:8080/",
          "height": 180
        },
        "id": "u39m2HgHaO3x",
        "outputId": "be99b9b3-6ec9-432d-b2f8-336f9a8a8c98"
      },
      "execution_count": 5,
      "outputs": [
        {
          "output_type": "error",
          "ename": "ValueError",
          "evalue": "Value is too high",
          "traceback": [
            "\u001b[0;31m---------------------------------------------------------------------------\u001b[0m",
            "\u001b[0;31mValueError\u001b[0m                                Traceback (most recent call last)",
            "\u001b[0;32m/tmp/ipython-input-3620614182.py\u001b[0m in \u001b[0;36m<cell line: 0>\u001b[0;34m()\u001b[0m\n\u001b[1;32m      1\u001b[0m \u001b[0mx\u001b[0m \u001b[0;34m=\u001b[0m \u001b[0;36m10\u001b[0m\u001b[0;34m\u001b[0m\u001b[0;34m\u001b[0m\u001b[0m\n\u001b[1;32m      2\u001b[0m \u001b[0;32mif\u001b[0m \u001b[0mx\u001b[0m \u001b[0;34m>\u001b[0m \u001b[0;36m5\u001b[0m\u001b[0;34m:\u001b[0m\u001b[0;34m\u001b[0m\u001b[0;34m\u001b[0m\u001b[0m\n\u001b[0;32m----> 3\u001b[0;31m   \u001b[0;32mraise\u001b[0m \u001b[0mValueError\u001b[0m\u001b[0;34m(\u001b[0m\u001b[0;34m\"Value is too high\"\u001b[0m\u001b[0;34m)\u001b[0m\u001b[0;34m\u001b[0m\u001b[0;34m\u001b[0m\u001b[0m\n\u001b[0m",
            "\u001b[0;31mValueError\u001b[0m: Value is too high"
          ]
        }
      ]
    }
  ]
}
