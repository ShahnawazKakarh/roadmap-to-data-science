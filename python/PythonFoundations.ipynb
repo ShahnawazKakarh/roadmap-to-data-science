{
  "nbformat": 4,
  "nbformat_minor": 0,
  "metadata": {
    "colab": {
      "provenance": [],
      "authorship_tag": "ABX9TyNMdGioF7XUgdoR6YpB/xAw",
      "include_colab_link": true
    },
    "kernelspec": {
      "name": "python3",
      "display_name": "Python 3"
    },
    "language_info": {
      "name": "python"
    }
  },
  "cells": [
    {
      "cell_type": "markdown",
      "metadata": {
        "id": "view-in-github",
        "colab_type": "text"
      },
      "source": [
        "<a href=\"https://colab.research.google.com/github/ShahnawazKakarh/roadmap-to-data-science/blob/master/python/PythonFoundations.ipynb\" target=\"_parent\"><img src=\"https://colab.research.google.com/assets/colab-badge.svg\" alt=\"Open In Colab\"/></a>"
      ]
    },
    {
      "cell_type": "markdown",
      "source": [
        "# **Python Foundations:**"
      ],
      "metadata": {
        "id": "uN0cPxXc2LQs"
      }
    },
    {
      "cell_type": "markdown",
      "source": [
        "# **print() function > display the output of function**"
      ],
      "metadata": {
        "id": "H5N4lscx1jor"
      }
    },
    {
      "cell_type": "code",
      "source": [
        "print(\"Hello World\")"
      ],
      "metadata": {
        "colab": {
          "base_uri": "https://localhost:8080/"
        },
        "id": "IoGJWTUK1jBA",
        "outputId": "0dfe2069-9942-4eaf-d875-86b17a4dc33c"
      },
      "execution_count": null,
      "outputs": [
        {
          "output_type": "stream",
          "name": "stdout",
          "text": [
            "Hello World\n"
          ]
        }
      ]
    },
    {
      "cell_type": "code",
      "source": [
        "print(\"Hello\")\n",
        "print(\"World\")"
      ],
      "metadata": {
        "colab": {
          "base_uri": "https://localhost:8080/"
        },
        "id": "QZaVPGPV1uqL",
        "outputId": "6ca41c21-8294-4917-aba6-3fd071698943"
      },
      "execution_count": null,
      "outputs": [
        {
          "output_type": "stream",
          "name": "stdout",
          "text": [
            "Hello\n",
            "World\n"
          ]
        }
      ]
    },
    {
      "cell_type": "markdown",
      "source": [
        "By default, the print function uses \"end\" parameter with a new line"
      ],
      "metadata": {
        "id": "kSCzGfB63D3N"
      }
    },
    {
      "cell_type": "code",
      "source": [
        "print(\"Hello\", end=\" \")\n",
        "print(\"World\")"
      ],
      "metadata": {
        "colab": {
          "base_uri": "https://localhost:8080/"
        },
        "id": "tgDdlCww2bF-",
        "outputId": "7f292dc7-0e08-4fcf-c0af-3a78fd99d8e8"
      },
      "execution_count": null,
      "outputs": [
        {
          "output_type": "stream",
          "name": "stdout",
          "text": [
            "Hello World\n"
          ]
        }
      ]
    },
    {
      "cell_type": "code",
      "source": [
        "print(\"Python\", end=\"-\")\n",
        "print(\"Programming\")"
      ],
      "metadata": {
        "colab": {
          "base_uri": "https://localhost:8080/"
        },
        "id": "djcIV_ly2q5W",
        "outputId": "5c49d59f-4691-476b-9be8-f0a54c81c6c3"
      },
      "execution_count": null,
      "outputs": [
        {
          "output_type": "stream",
          "name": "stdout",
          "text": [
            "Python-Programming\n"
          ]
        }
      ]
    },
    {
      "cell_type": "code",
      "source": [
        "print(\"Muhammad\", \"Shahnawaz\", \"khan\")"
      ],
      "metadata": {
        "colab": {
          "base_uri": "https://localhost:8080/"
        },
        "id": "qxPJCULj4LiI",
        "outputId": "b3829008-6cdb-45e3-f7aa-415f8a2bd9ca"
      },
      "execution_count": null,
      "outputs": [
        {
          "output_type": "stream",
          "name": "stdout",
          "text": [
            "Muhammad Shahnawaz khan\n"
          ]
        }
      ]
    },
    {
      "cell_type": "code",
      "source": [
        "print(\"Muhammad\", \"Shahnawaz\", \"khan\", sep=\",\")"
      ],
      "metadata": {
        "colab": {
          "base_uri": "https://localhost:8080/"
        },
        "id": "rmuEZ8jH4fWM",
        "outputId": "07dea1b0-24a1-407e-9406-6531bf9039eb"
      },
      "execution_count": null,
      "outputs": [
        {
          "output_type": "stream",
          "name": "stdout",
          "text": [
            "Muhammad,Shahnawaz,khan\n"
          ]
        }
      ]
    },
    {
      "cell_type": "markdown",
      "source": [
        "# **Inout Function - input()**"
      ],
      "metadata": {
        "id": "EprrmIavco5c"
      }
    },
    {
      "cell_type": "code",
      "source": [
        "user_input = input(\"Enter your name: \")\n",
        "print(user_input)\n",
        "print(\"My name is : \" + user_input)"
      ],
      "metadata": {
        "colab": {
          "base_uri": "https://localhost:8080/"
        },
        "id": "nLiFxrFtctLh",
        "outputId": "29b3ef85-f50f-4533-8a8a-56601e57ceaf"
      },
      "execution_count": null,
      "outputs": [
        {
          "output_type": "stream",
          "name": "stdout",
          "text": [
            "Enter your name: Shahnawaz\n",
            "Shahnawaz\n",
            "My name is :Shahnawaz\n"
          ]
        }
      ]
    },
    {
      "cell_type": "code",
      "source": [
        "user_input = \" Shahnawaz Ji\"\n",
        "print(user_input)"
      ],
      "metadata": {
        "colab": {
          "base_uri": "https://localhost:8080/"
        },
        "id": "L2VnihYDeUrG",
        "outputId": "d551e366-cb25-47ed-d127-81d337702d68"
      },
      "execution_count": null,
      "outputs": [
        {
          "output_type": "stream",
          "name": "stdout",
          "text": [
            " Shahnawaz Ji\n"
          ]
        }
      ]
    },
    {
      "cell_type": "code",
      "source": [
        "num = 10\n",
        "print(num)"
      ],
      "metadata": {
        "colab": {
          "base_uri": "https://localhost:8080/"
        },
        "id": "JLxOb5lNecYu",
        "outputId": "2e515b4f-a103-4336-f468-b9ca9e75cd48"
      },
      "execution_count": null,
      "outputs": [
        {
          "output_type": "stream",
          "name": "stdout",
          "text": [
            "10\n"
          ]
        }
      ]
    },
    {
      "cell_type": "code",
      "source": [
        "num = 15\n",
        "print(num)"
      ],
      "metadata": {
        "colab": {
          "base_uri": "https://localhost:8080/"
        },
        "id": "hSCeaYS6egE1",
        "outputId": "0d3c2c7a-aa0d-4774-da8b-18951a0d2d56"
      },
      "execution_count": null,
      "outputs": [
        {
          "output_type": "stream",
          "name": "stdout",
          "text": [
            "15\n"
          ]
        }
      ]
    },
    {
      "cell_type": "markdown",
      "source": [
        "# **Comments - Discussions**"
      ],
      "metadata": {
        "id": "E5o5XUSkf6G5"
      }
    },
    {
      "cell_type": "code",
      "source": [
        "# Comment\n",
        "# Print\n",
        "print(\"Always do comment\")"
      ],
      "metadata": {
        "colab": {
          "base_uri": "https://localhost:8080/"
        },
        "id": "CSZQaUjaf_dV",
        "outputId": "a3f999d6-2686-4750-e3cf-7901e80ce80d"
      },
      "execution_count": null,
      "outputs": [
        {
          "output_type": "stream",
          "name": "stdout",
          "text": [
            "Always do comment\n"
          ]
        }
      ]
    },
    {
      "cell_type": "code",
      "source": [
        "'''\n",
        "Multi Line Comment style\n",
        "'''\n",
        "print(\"Hello Pakistan\")"
      ],
      "metadata": {
        "colab": {
          "base_uri": "https://localhost:8080/"
        },
        "id": "60geUWCChECN",
        "outputId": "059b2018-1776-4215-b668-148aa55f151c"
      },
      "execution_count": null,
      "outputs": [
        {
          "output_type": "stream",
          "name": "stdout",
          "text": [
            "Hello Pakistan\n"
          ]
        }
      ]
    },
    {
      "cell_type": "markdown",
      "source": [
        "# **Indentation: Structure of the code block**"
      ],
      "metadata": {
        "id": "qjMFqPOAhU3O"
      }
    },
    {
      "cell_type": "code",
      "source": [
        "x = 5\n",
        "if x > 3:\n",
        "  pri;nt(\"x is greater than 3\")"
      ],
      "metadata": {
        "colab": {
          "base_uri": "https://localhost:8080/",
          "height": 180
        },
        "id": "j1CN9dqzhabh",
        "outputId": "b0433a94-44e2-4728-ed9a-09c501b678bd"
      },
      "execution_count": null,
      "outputs": [
        {
          "output_type": "error",
          "ename": "NameError",
          "evalue": "name 'pri' is not defined",
          "traceback": [
            "\u001b[0;31m---------------------------------------------------------------------------\u001b[0m",
            "\u001b[0;31mNameError\u001b[0m                                 Traceback (most recent call last)",
            "\u001b[0;32m/tmp/ipython-input-1169446156.py\u001b[0m in \u001b[0;36m<cell line: 0>\u001b[0;34m()\u001b[0m\n\u001b[1;32m      1\u001b[0m \u001b[0mx\u001b[0m \u001b[0;34m=\u001b[0m \u001b[0;36m5\u001b[0m\u001b[0;34m\u001b[0m\u001b[0;34m\u001b[0m\u001b[0m\n\u001b[1;32m      2\u001b[0m \u001b[0;32mif\u001b[0m \u001b[0mx\u001b[0m \u001b[0;34m>\u001b[0m \u001b[0;36m3\u001b[0m\u001b[0;34m:\u001b[0m\u001b[0;34m\u001b[0m\u001b[0;34m\u001b[0m\u001b[0m\n\u001b[0;32m----> 3\u001b[0;31m   \u001b[0mpri\u001b[0m\u001b[0;34m;\u001b[0m\u001b[0mnt\u001b[0m\u001b[0;34m(\u001b[0m\u001b[0;34m\"x is greater than 3\"\u001b[0m\u001b[0;34m)\u001b[0m\u001b[0;34m\u001b[0m\u001b[0;34m\u001b[0m\u001b[0m\n\u001b[0m",
            "\u001b[0;31mNameError\u001b[0m: name 'pri' is not defined"
          ]
        }
      ]
    },
    {
      "cell_type": "code",
      "source": [
        "# Correct version\n",
        "x = 5\n",
        "if x > 3:\n",
        "  print(\"x is greater than 3\")"
      ],
      "metadata": {
        "colab": {
          "base_uri": "https://localhost:8080/"
        },
        "id": "vRKmZKi4h_Mf",
        "outputId": "4244e041-091d-4223-d040-839c38288810"
      },
      "execution_count": null,
      "outputs": [
        {
          "output_type": "stream",
          "name": "stdout",
          "text": [
            "x is greater than 3\n"
          ]
        }
      ]
    },
    {
      "cell_type": "markdown",
      "source": [
        "# **Variable Naming Convention**"
      ],
      "metadata": {
        "id": "SV4VtoO_iEWj"
      }
    },
    {
      "cell_type": "markdown",
      "source": [
        "- Don't use Case Senstive - My_Name = Shahnawaz\n",
        "- Start with letters\n",
        "- Don't use numbers alone.\n",
        "- Use Alphanumeric\n",
        "- Dont use reserved keywords as variables like for, print, loop, etc\n",
        "-"
      ],
      "metadata": {
        "id": "RFY69CYoovu0"
      }
    },
    {
      "cell_type": "code",
      "source": [
        "weight = 10\n",
        "print(\"Weight is: \", + weight)\n",
        "\n",
        "x, y, z = 10, 20, 30\n",
        "print(x, y, z)"
      ],
      "metadata": {
        "colab": {
          "base_uri": "https://localhost:8080/"
        },
        "id": "0aheHBnOiHlm",
        "outputId": "07a34717-469e-4efb-caf4-f1981977b5ae"
      },
      "execution_count": null,
      "outputs": [
        {
          "output_type": "stream",
          "name": "stdout",
          "text": [
            "Weight is:  10\n",
            "10 20 30\n"
          ]
        }
      ]
    },
    {
      "cell_type": "code",
      "source": [],
      "metadata": {
        "id": "UhxaLam7xj3l"
      },
      "execution_count": null,
      "outputs": []
    },
    {
      "cell_type": "markdown",
      "source": [
        "# **Data Type**\n",
        "- Nature of the data that any variable can hold"
      ],
      "metadata": {
        "id": "vcRQ2DdqxOCb"
      }
    },
    {
      "cell_type": "markdown",
      "source": [
        "Data Type: Number"
      ],
      "metadata": {
        "id": "mhcXt5SHxmG2"
      }
    },
    {
      "cell_type": "code",
      "source": [
        "x = 10 # int\n",
        "y = 3.14 # Float\n",
        "z = 2 + 3j # Complex"
      ],
      "metadata": {
        "id": "PYbN5zVuxRsG"
      },
      "execution_count": null,
      "outputs": []
    },
    {
      "cell_type": "code",
      "source": [
        "type(z)"
      ],
      "metadata": {
        "colab": {
          "base_uri": "https://localhost:8080/"
        },
        "id": "_zuWiWgoxqy4",
        "outputId": "696ca12e-cf4e-4a90-c474-76a06c92adc2"
      },
      "execution_count": null,
      "outputs": [
        {
          "output_type": "execute_result",
          "data": {
            "text/plain": [
              "complex"
            ]
          },
          "metadata": {},
          "execution_count": 20
        }
      ]
    },
    {
      "cell_type": "code",
      "source": [
        "type(y)"
      ],
      "metadata": {
        "colab": {
          "base_uri": "https://localhost:8080/"
        },
        "id": "2PJ-qBOfx_fq",
        "outputId": "b127f7d7-a05f-4d77-ca2a-0b6fef05aae0"
      },
      "execution_count": null,
      "outputs": [
        {
          "output_type": "execute_result",
          "data": {
            "text/plain": [
              "float"
            ]
          },
          "metadata": {},
          "execution_count": 21
        }
      ]
    },
    {
      "cell_type": "code",
      "source": [
        "type(z)"
      ],
      "metadata": {
        "colab": {
          "base_uri": "https://localhost:8080/"
        },
        "id": "H3zRuHs8yBsL",
        "outputId": "3ca912d5-10bb-4bd0-ab33-80ad66aa50fb"
      },
      "execution_count": null,
      "outputs": [
        {
          "output_type": "execute_result",
          "data": {
            "text/plain": [
              "complex"
            ]
          },
          "metadata": {},
          "execution_count": 22
        }
      ]
    },
    {
      "cell_type": "code",
      "source": [
        "z.real"
      ],
      "metadata": {
        "colab": {
          "base_uri": "https://localhost:8080/"
        },
        "id": "Wvc9wF5MyVTq",
        "outputId": "8f442556-385a-463a-eb2b-5fa80351e980"
      },
      "execution_count": null,
      "outputs": [
        {
          "output_type": "execute_result",
          "data": {
            "text/plain": [
              "2.0"
            ]
          },
          "metadata": {},
          "execution_count": 23
        }
      ]
    },
    {
      "cell_type": "code",
      "source": [
        "z.imag"
      ],
      "metadata": {
        "colab": {
          "base_uri": "https://localhost:8080/"
        },
        "id": "aH7DDNY0yW-h",
        "outputId": "95623cd0-8dbc-42b0-9226-3dc001bd11f8"
      },
      "execution_count": null,
      "outputs": [
        {
          "output_type": "execute_result",
          "data": {
            "text/plain": [
              "3.0"
            ]
          },
          "metadata": {},
          "execution_count": 25
        }
      ]
    },
    {
      "cell_type": "code",
      "source": [
        "name = \"John\"\n",
        "print(name)"
      ],
      "metadata": {
        "colab": {
          "base_uri": "https://localhost:8080/"
        },
        "id": "KK0SZIIZ1OmL",
        "outputId": "c39209fa-4883-48ff-f979-3175f9498613"
      },
      "execution_count": null,
      "outputs": [
        {
          "output_type": "stream",
          "name": "stdout",
          "text": [
            "John\n"
          ]
        }
      ]
    },
    {
      "cell_type": "code",
      "source": [
        "m = 2 + 3j # Complex\n",
        "print(type(m))"
      ],
      "metadata": {
        "colab": {
          "base_uri": "https://localhost:8080/"
        },
        "id": "2JuFtoyO1R5H",
        "outputId": "2619f2af-4690-4df7-82d9-55a529da5da3"
      },
      "execution_count": null,
      "outputs": [
        {
          "output_type": "stream",
          "name": "stdout",
          "text": [
            "<class 'complex'>\n"
          ]
        }
      ]
    }
  ]
}