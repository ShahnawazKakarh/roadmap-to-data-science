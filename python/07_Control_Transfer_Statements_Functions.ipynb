{
  "nbformat": 4,
  "nbformat_minor": 0,
  "metadata": {
    "colab": {
      "provenance": [],
      "authorship_tag": "ABX9TyObIvjS0tdr/4P4G8aln0k4",
      "include_colab_link": true
    },
    "kernelspec": {
      "name": "python3",
      "display_name": "Python 3"
    },
    "language_info": {
      "name": "python"
    }
  },
  "cells": [
    {
      "cell_type": "markdown",
      "metadata": {
        "id": "view-in-github",
        "colab_type": "text"
      },
      "source": [
        "<a href=\"https://colab.research.google.com/github/ShahnawazKakarh/roadmap-to-data-science/blob/master/python/07_Control_Transfer_Statements_Functions.ipynb\" target=\"_parent\"><img src=\"https://colab.research.google.com/assets/colab-badge.svg\" alt=\"Open In Colab\"/></a>"
      ]
    },
    {
      "cell_type": "markdown",
      "source": [
        "break"
      ],
      "metadata": {
        "id": "p776Bw1yTvaJ"
      }
    },
    {
      "cell_type": "code",
      "execution_count": null,
      "metadata": {
        "colab": {
          "base_uri": "https://localhost:8080/"
        },
        "id": "H_AP0RM1TprY",
        "outputId": "ccc253be-f784-4558-8432-d52c43df18df"
      },
      "outputs": [
        {
          "output_type": "stream",
          "name": "stdout",
          "text": [
            "0\n",
            "1\n",
            "2\n"
          ]
        }
      ],
      "source": [
        "for i in range(5):\n",
        "  print(i)\n",
        "  if i == 2:\n",
        "    break"
      ]
    },
    {
      "cell_type": "code",
      "source": [
        "count = 0\n",
        "while True:\n",
        "  print(\"Inside the while loop\")\n",
        "  count += 1\n",
        "  if count == 5:\n",
        "    break"
      ],
      "metadata": {
        "colab": {
          "base_uri": "https://localhost:8080/"
        },
        "id": "famQaZyYYFo8",
        "outputId": "70b0668f-5ab5-42ea-e8e8-a5f8d5605da4"
      },
      "execution_count": null,
      "outputs": [
        {
          "output_type": "stream",
          "name": "stdout",
          "text": [
            "Inside the while loop\n",
            "Inside the while loop\n",
            "Inside the while loop\n",
            "Inside the while loop\n",
            "Inside the while loop\n"
          ]
        }
      ]
    },
    {
      "cell_type": "code",
      "source": [
        "count = 0\n",
        "while True:\n",
        "  count += 1\n",
        "  if count > 5:\n",
        "    break\n",
        "  print(count)"
      ],
      "metadata": {
        "colab": {
          "base_uri": "https://localhost:8080/"
        },
        "id": "6EmtL2YxX41w",
        "outputId": "ef5b8b8a-f022-431b-c551-9bda86b0f2a1"
      },
      "execution_count": null,
      "outputs": [
        {
          "output_type": "stream",
          "name": "stdout",
          "text": [
            "1\n",
            "2\n",
            "3\n",
            "4\n",
            "5\n"
          ]
        }
      ]
    },
    {
      "cell_type": "markdown",
      "source": [
        "continue"
      ],
      "metadata": {
        "id": "aU3vLJUAql30"
      }
    },
    {
      "cell_type": "code",
      "source": [
        "numbers = [1, 2, 3, 4, 5, 6, 7, 8, 9, 10]\n",
        "for number in numbers:\n",
        "  ## it will skip number which is divisble by 2\n",
        "  if number % 2 == 0:\n",
        "    continue\n",
        "  print(number)"
      ],
      "metadata": {
        "colab": {
          "base_uri": "https://localhost:8080/"
        },
        "id": "FRAei20zqmPF",
        "outputId": "21fa8193-8083-4869-d70e-ef890c74a077"
      },
      "execution_count": null,
      "outputs": [
        {
          "output_type": "stream",
          "name": "stdout",
          "text": [
            "1\n",
            "3\n",
            "5\n",
            "7\n",
            "9\n"
          ]
        }
      ]
    },
    {
      "cell_type": "code",
      "source": [
        "i = 1\n",
        "while i < 3:\n",
        "  j = 0\n",
        "  while j < 5:\n",
        "    j = j + 1\n",
        "    if j == 3:\n",
        "      continue\n",
        "    print(j)\n",
        "  i = i + 1"
      ],
      "metadata": {
        "colab": {
          "base_uri": "https://localhost:8080/"
        },
        "id": "pWlX6TkXtje7",
        "outputId": "fb152c1a-93c3-4472-d918-7ae82b41be54"
      },
      "execution_count": null,
      "outputs": [
        {
          "output_type": "stream",
          "name": "stdout",
          "text": [
            "1\n",
            "2\n",
            "4\n",
            "5\n",
            "1\n",
            "2\n",
            "4\n",
            "5\n"
          ]
        }
      ]
    },
    {
      "cell_type": "code",
      "source": [
        "i = 1\n",
        "while i < 4:\n",
        "  j = 0\n",
        "  while j < 5:\n",
        "    j = j + 1\n",
        "    if j == 3:\n",
        "      continue\n",
        "    print(j, end = \" \")\n",
        "  i = i + 1"
      ],
      "metadata": {
        "colab": {
          "base_uri": "https://localhost:8080/"
        },
        "id": "ldDikg8hra43",
        "outputId": "47619962-6b2c-4782-e793-85834e30959f"
      },
      "execution_count": null,
      "outputs": [
        {
          "output_type": "stream",
          "name": "stdout",
          "text": [
            "1 2 4 5 1 2 4 5 1 2 4 5 "
          ]
        }
      ]
    },
    {
      "cell_type": "markdown",
      "source": [
        "pass"
      ],
      "metadata": {
        "id": "sa4srj7wu0ab"
      }
    },
    {
      "cell_type": "code",
      "source": [
        "count = 0\n",
        "while count < 5:\n",
        "  ## placeholder for writing the future code\n",
        "  pass\n",
        "\n",
        "  print(count)\n",
        "  count = count + 1"
      ],
      "metadata": {
        "colab": {
          "base_uri": "https://localhost:8080/"
        },
        "id": "0PYsKjTJu1Bq",
        "outputId": "7a31a85f-b8e2-490b-9b46-1554205b256e"
      },
      "execution_count": null,
      "outputs": [
        {
          "output_type": "stream",
          "name": "stdout",
          "text": [
            "0\n",
            "1\n",
            "2\n",
            "3\n",
            "4\n"
          ]
        }
      ]
    },
    {
      "cell_type": "markdown",
      "source": [
        "Functions"
      ],
      "metadata": {
        "id": "YN4MSDZZ4tZu"
      }
    },
    {
      "cell_type": "code",
      "source": [
        "## function definition\n",
        "def greet(name):\n",
        "  print(f\"Hello, {name}\")\n",
        "\n",
        "## function calling\n",
        "greet(\"Shahnawaz\")"
      ],
      "metadata": {
        "colab": {
          "base_uri": "https://localhost:8080/"
        },
        "id": "z_fZULDb4tx3",
        "outputId": "a3a600a2-a6f5-45b2-bb2c-b281315264c4"
      },
      "execution_count": null,
      "outputs": [
        {
          "output_type": "stream",
          "name": "stdout",
          "text": [
            "Hello, Shahnawaz\n"
          ]
        }
      ]
    },
    {
      "cell_type": "code",
      "source": [
        "def myfunction(*learners):\n",
        "  print(\"One of the learner in full stack data science course is \"+learners[5])\n",
        "\n",
        "## learners name\n",
        "myfunction(\"Shahnawaz\", \"Ali\", \"Ahmad\", \"Sumaira\", \"Kainat\", \"Usman\")"
      ],
      "metadata": {
        "id": "qQMI7Cf75-3o"
      },
      "execution_count": null,
      "outputs": []
    },
    {
      "cell_type": "code",
      "source": [
        "def my_function(country=\"Pakistan\"):\n",
        "  print(\"I am from \"+ country)\n",
        "\n",
        "my_function(\"Sweden\")\n",
        "my_function() ## default country = \"Pakistan\"\n",
        "my_function(\"Brazil\")\n",
        "my_function(\"Norway\")"
      ],
      "metadata": {
        "colab": {
          "base_uri": "https://localhost:8080/"
        },
        "id": "7Cp9RxBXBOaV",
        "outputId": "7a7639f7-1aae-4a8c-b1d7-4d701dab26e8"
      },
      "execution_count": null,
      "outputs": [
        {
          "output_type": "stream",
          "name": "stdout",
          "text": [
            "I am from Sweden\n",
            "I am from Pakistan\n",
            "I am from Brazil\n",
            "I am from Norway\n"
          ]
        }
      ]
    },
    {
      "cell_type": "code",
      "source": [
        "def function(a, b=10, c):\n",
        "  return a + b - c\n",
        "\n",
        "result = function(10, 12)\n",
        "print(result)"
      ],
      "metadata": {
        "colab": {
          "base_uri": "https://localhost:8080/",
          "height": 108
        },
        "id": "XSJVR5RxHDQ_",
        "outputId": "16d6e957-1fd3-4357-b4de-920c6fb5a2ca"
      },
      "execution_count": null,
      "outputs": [
        {
          "output_type": "error",
          "ename": "SyntaxError",
          "evalue": "parameter without a default follows parameter with a default (ipython-input-4133844547.py, line 1)",
          "traceback": [
            "\u001b[0;36m  File \u001b[0;32m\"/tmp/ipython-input-4133844547.py\"\u001b[0;36m, line \u001b[0;32m1\u001b[0m\n\u001b[0;31m    def function(a, b=10, c):\u001b[0m\n\u001b[0m                          ^\u001b[0m\n\u001b[0;31mSyntaxError\u001b[0m\u001b[0;31m:\u001b[0m parameter without a default follows parameter with a default\n"
          ]
        }
      ]
    },
    {
      "cell_type": "code",
      "source": [
        "def function(a, b, c=10):\n",
        "  return a + b - c\n",
        "\n",
        "result = function(10, 12)\n",
        "print(result)"
      ],
      "metadata": {
        "colab": {
          "base_uri": "https://localhost:8080/"
        },
        "id": "zytv1qVYJR3w",
        "outputId": "42f079b8-1ea6-4b73-a359-ca223c33c3cb"
      },
      "execution_count": null,
      "outputs": [
        {
          "output_type": "stream",
          "name": "stdout",
          "text": [
            "12\n"
          ]
        }
      ]
    },
    {
      "cell_type": "code",
      "source": [
        "def calculate_result(x , y, w = 1, z = 5):\n",
        "  return x + y + w + z\n",
        "\n",
        "result = calculate_result(1, 2, 4)\n",
        "print(result)"
      ],
      "metadata": {
        "colab": {
          "base_uri": "https://localhost:8080/"
        },
        "id": "rJLXi7IyJaha",
        "outputId": "46046b1e-f17e-4f35-86a1-36ef02e6311f"
      },
      "execution_count": null,
      "outputs": [
        {
          "output_type": "stream",
          "name": "stdout",
          "text": [
            "12\n"
          ]
        }
      ]
    },
    {
      "cell_type": "code",
      "source": [
        "def calculate_result(x , y, w = 1, z = 5):\n",
        "  return x + y + w + z\n",
        "\n",
        "result = calculate_result(1, 2, z=4)\n",
        "print(result)"
      ],
      "metadata": {
        "colab": {
          "base_uri": "https://localhost:8080/"
        },
        "id": "9F6zxZGgKACC",
        "outputId": "278969ce-2dff-4e66-8f9a-884fb3943350"
      },
      "execution_count": null,
      "outputs": [
        {
          "output_type": "stream",
          "name": "stdout",
          "text": [
            "8\n"
          ]
        }
      ]
    },
    {
      "cell_type": "code",
      "source": [
        "def my_functions(lst):\n",
        "  for num in lst:\n",
        "    print(num)\n",
        "\n",
        "\n",
        "lst = [2, 3, 4, 5, 6, 1, 8]\n",
        "my_functions(lst)"
      ],
      "metadata": {
        "colab": {
          "base_uri": "https://localhost:8080/"
        },
        "id": "sXBrg7fNKFx0",
        "outputId": "9200a167-47cc-4d31-c2a3-2b2040bfcea3"
      },
      "execution_count": null,
      "outputs": [
        {
          "output_type": "stream",
          "name": "stdout",
          "text": [
            "2\n",
            "3\n",
            "4\n",
            "5\n",
            "6\n",
            "1\n",
            "8\n"
          ]
        }
      ]
    },
    {
      "cell_type": "markdown",
      "source": [
        "Create a function \"calculate\" in which it is having add functionality, subtraction functionality, multiplication and division functionality of two numbers."
      ],
      "metadata": {
        "id": "Fv9yUl1KKnBQ"
      }
    },
    {
      "cell_type": "code",
      "source": [
        "def calculate(num1, num2, operation=\"\"):\n",
        "  if operation == \"add\":\n",
        "    return num1 + num2\n",
        "  elif operation == \"subtract\":\n",
        "    return num1 - num2\n",
        "  elif operation == \"muliply\":\n",
        "    return num1 * num2\n",
        "  elif operation == \"division\":\n",
        "    return num1 / num2\n",
        "  else:\n",
        "    print(\"Wrong Operater\")\n",
        "\n",
        "num1 = int(input(\"Enter first number: \"))\n",
        "num2 = int(input(\"Enter second number: \"))\n",
        "operation = input(\"Enter operation: \")\n",
        "\n",
        "result = calculate(num1=num1, num2=num2, operation=operation)\n",
        "print(result)"
      ],
      "metadata": {
        "colab": {
          "base_uri": "https://localhost:8080/"
        },
        "id": "ZS4Ns1NiKnnO",
        "outputId": "4d648df7-d7c2-4363-e917-0be8c26bd034"
      },
      "execution_count": null,
      "outputs": [
        {
          "output_type": "stream",
          "name": "stdout",
          "text": [
            "Enter first number: 1\n",
            "Enter second number: 2\n",
            "Enter operation: add\n",
            "3\n"
          ]
        }
      ]
    },
    {
      "cell_type": "markdown",
      "source": [
        "print() and return"
      ],
      "metadata": {
        "id": "rXUhOGrqNBZu"
      }
    },
    {
      "cell_type": "code",
      "source": [
        "def add_with_print(a, b):\n",
        "  print(\"The sum of two numbers is \", a + b)\n",
        "\n",
        "\n",
        "def add_with_return(a, b):\n",
        "  return a + b\n",
        "\n",
        "add_with_print(2, 3)\n",
        "result = add_with_return(2, 3)\n",
        "print(\"The sum of two numbers is \", result)"
      ],
      "metadata": {
        "colab": {
          "base_uri": "https://localhost:8080/"
        },
        "id": "p8_OIb35NB1o",
        "outputId": "6ea35b09-5cec-466c-8af7-c82e5c48948e"
      },
      "execution_count": null,
      "outputs": [
        {
          "output_type": "stream",
          "name": "stdout",
          "text": [
            "The sum of two numbers is  5\n",
            "The sum of two numbers is  5\n"
          ]
        }
      ]
    },
    {
      "cell_type": "code",
      "source": [
        "## function definition\n",
        "def is_armstrong(num):\n",
        "  str_num = str(num)\n",
        "  num_digits = len(str_num)\n",
        "\n",
        "  sum_of_powers = sum(int(digit)**num_digits for digit in str_num)\n",
        "  return sum_of_powers == num\n",
        "\n",
        "## function calling\n",
        "result = is_armstrong(150)\n",
        "print(result)"
      ],
      "metadata": {
        "colab": {
          "base_uri": "https://localhost:8080/"
        },
        "id": "hfZLCnNFNHCE",
        "outputId": "513c3501-1ce5-459d-aa89-881579c8f0a3"
      },
      "execution_count": null,
      "outputs": [
        {
          "output_type": "stream",
          "name": "stdout",
          "text": [
            "False\n"
          ]
        }
      ]
    },
    {
      "cell_type": "code",
      "source": [
        "## function definition\n",
        "def sum_and_product(num1, num2):\n",
        "  sum_result = num1 + num2\n",
        "  product_result = num1 * num2\n",
        "  return sum_result, product_result\n",
        "\n",
        "num1 = 6\n",
        "num2 = 10\n",
        "sum_result, product_result = sum_and_product(num1, num2)\n",
        "print(sum_result)\n",
        "print(product_result)"
      ],
      "metadata": {
        "id": "g4TjiHhPNHtl"
      },
      "execution_count": null,
      "outputs": []
    },
    {
      "cell_type": "markdown",
      "source": [
        "Nested Functions"
      ],
      "metadata": {
        "id": "yi4JuB1jNJ84"
      }
    },
    {
      "cell_type": "code",
      "source": [
        "def calculator(x, y):\n",
        "  def add(a, b):\n",
        "    return a + b\n",
        "\n",
        "  def multiply(a, b):\n",
        "    return a * b\n",
        "\n",
        "  def calc(op, a, b):\n",
        "    if op == 'add':\n",
        "      return add(a, b)\n",
        "\n",
        "    else:\n",
        "      return multiply(a, b)\n",
        "\n",
        "  return calc('add', x, y), calc('multiply', x, y)\n",
        "\n",
        "result = calculator(2, 3)\n",
        "print(result)"
      ],
      "metadata": {
        "colab": {
          "base_uri": "https://localhost:8080/"
        },
        "id": "O5nN1zcRNLZg",
        "outputId": "e5ca2509-8aad-48f5-d268-e97fb38b1225"
      },
      "execution_count": null,
      "outputs": [
        {
          "output_type": "stream",
          "name": "stdout",
          "text": [
            "(5, 6)\n"
          ]
        }
      ]
    },
    {
      "cell_type": "markdown",
      "source": [
        "Task: **kwargs and *args"
      ],
      "metadata": {
        "id": "UXIfIFnkNQgc"
      }
    },
    {
      "cell_type": "code",
      "source": [
        "def print_args(*args):\n",
        "  for arg in args:\n",
        "    print(arg)\n",
        "print_args(10, 20, 30)"
      ],
      "metadata": {
        "id": "o14bRgJTP-v7",
        "colab": {
          "base_uri": "https://localhost:8080/"
        },
        "outputId": "e968007e-d9e9-4453-d95e-553cf2b24d94"
      },
      "execution_count": null,
      "outputs": [
        {
          "output_type": "stream",
          "name": "stdout",
          "text": [
            "10\n",
            "20\n",
            "30\n"
          ]
        }
      ]
    },
    {
      "cell_type": "code",
      "source": [
        "## function definition\n",
        "def function_args(**kwargs):\n",
        "  for key, value in kwargs.items():\n",
        "    print(f\"{key}: {value}\")\n",
        "\n",
        "## function calling\n",
        "function_args(name='Shahnawaz', age=26, salary=30000, city=\"Lahore\")"
      ],
      "metadata": {
        "id": "Cwr05B5sJxef",
        "outputId": "c2f2edf7-26ee-41c2-f0e5-df6b6f53e083",
        "colab": {
          "base_uri": "https://localhost:8080/"
        }
      },
      "execution_count": null,
      "outputs": [
        {
          "output_type": "stream",
          "name": "stdout",
          "text": [
            "name: Shahnawaz\n",
            "age: 26\n",
            "salary: 30000\n",
            "city: Lahore\n"
          ]
        }
      ]
    },
    {
      "cell_type": "markdown",
      "source": [
        "Recursive Functions"
      ],
      "metadata": {
        "id": "S0BrPzYsRYjT"
      }
    },
    {
      "cell_type": "code",
      "source": [
        "## function definition\n",
        "def factorial(num):\n",
        "  ## base case condition\n",
        "  if num == 0 or num == 1:\n",
        "    return 1\n",
        "\n",
        "  else:\n",
        "    ## recursive portion\n",
        "    return num * factorial(num-1)\n",
        "\n",
        "\n",
        "## function calling\n",
        "print(factorial(10))"
      ],
      "metadata": {
        "colab": {
          "base_uri": "https://localhost:8080/"
        },
        "id": "lJ3sAy3-RY9H",
        "outputId": "0557afb7-79a1-46cd-ca5e-a253074bb8e9"
      },
      "execution_count": 4,
      "outputs": [
        {
          "output_type": "stream",
          "name": "stdout",
          "text": [
            "3628800\n"
          ]
        }
      ]
    },
    {
      "cell_type": "markdown",
      "source": [
        "Lambda Functions: It is an anonymous function, a concise way of defining small, one-line function."
      ],
      "metadata": {
        "id": "u3nCOgNdZTvt"
      }
    },
    {
      "cell_type": "code",
      "source": [
        "## lambda arguments : expression\n",
        "add = lambda x, y : x + y\n",
        "print(add(2, 3))"
      ],
      "metadata": {
        "colab": {
          "base_uri": "https://localhost:8080/"
        },
        "id": "g_9E6_2YZULy",
        "outputId": "4085044e-ece8-43b1-ef01-cbde135ff0c7"
      },
      "execution_count": 5,
      "outputs": [
        {
          "output_type": "stream",
          "name": "stdout",
          "text": [
            "5\n"
          ]
        }
      ]
    },
    {
      "cell_type": "markdown",
      "source": [
        "Square of the given num using lamda functions"
      ],
      "metadata": {
        "id": "HhP_xHIkbZ2J"
      }
    },
    {
      "cell_type": "code",
      "source": [
        "## lambda arguments : expression\n",
        "square = lambda num : num ** 2\n",
        "print(square(2))"
      ],
      "metadata": {
        "colab": {
          "base_uri": "https://localhost:8080/"
        },
        "id": "c_odE4lubanl",
        "outputId": "56ef6817-d33e-4241-9e32-332204b0e573"
      },
      "execution_count": 7,
      "outputs": [
        {
          "output_type": "stream",
          "name": "stdout",
          "text": [
            "4\n"
          ]
        }
      ]
    },
    {
      "cell_type": "code",
      "source": [
        "learner_scores = {\n",
        "    'Shahnawaz': 88,\n",
        "    'Usman': 89,\n",
        "    'Ali':93,\n",
        "    'Akbar':90\n",
        "}\n",
        "\n",
        "## Sort the above dictionary in the ascending order\n",
        "sorted_values = dict(sorted(learner_scores.items(), key = lambda item : item[1]))\n",
        "print(sorted_values)"
      ],
      "metadata": {
        "colab": {
          "base_uri": "https://localhost:8080/"
        },
        "id": "9_kVjmlucDGH",
        "outputId": "0f4a02d1-7d4c-4f78-b512-82c5a87aec1c"
      },
      "execution_count": 8,
      "outputs": [
        {
          "output_type": "stream",
          "name": "stdout",
          "text": [
            "{'Shahnawaz': 88, 'Usman': 89, 'Akbar': 90, 'Ali': 93}\n"
          ]
        }
      ]
    },
    {
      "cell_type": "code",
      "source": [
        "## Sort the above dictionary in the descending order\n",
        "sorted_values = dict(sorted(learner_scores.items(), key = lambda item : item[1], reverse=True))\n",
        "print(sorted_values)"
      ],
      "metadata": {
        "colab": {
          "base_uri": "https://localhost:8080/"
        },
        "id": "60R_lM5VcJ_y",
        "outputId": "7429a4a3-698d-43ce-eb9f-b4807dc35b89"
      },
      "execution_count": 9,
      "outputs": [
        {
          "output_type": "stream",
          "name": "stdout",
          "text": [
            "{'Ali': 93, 'Akbar': 90, 'Usman': 89, 'Shahnawaz': 88}\n"
          ]
        }
      ]
    }
  ]
}