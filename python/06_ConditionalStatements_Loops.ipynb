{
  "nbformat": 4,
  "nbformat_minor": 0,
  "metadata": {
    "colab": {
      "provenance": [],
      "authorship_tag": "ABX9TyOG133B2SYnVEAVEW5SfhmC",
      "include_colab_link": true
    },
    "kernelspec": {
      "name": "python3",
      "display_name": "Python 3"
    },
    "language_info": {
      "name": "python"
    }
  },
  "cells": [
    {
      "cell_type": "markdown",
      "metadata": {
        "id": "view-in-github",
        "colab_type": "text"
      },
      "source": [
        "<a href=\"https://colab.research.google.com/github/ShahnawazKakarh/roadmap-to-data-science/blob/master/python/06_ConditionalStatements_Loops.ipynb\" target=\"_parent\"><img src=\"https://colab.research.google.com/assets/colab-badge.svg\" alt=\"Open In Colab\"/></a>"
      ]
    },
    {
      "cell_type": "markdown",
      "source": [
        "# **Conditional Statements**"
      ],
      "metadata": {
        "id": "P9vZ7j_0cDwZ"
      }
    },
    {
      "cell_type": "code",
      "execution_count": null,
      "metadata": {
        "colab": {
          "base_uri": "https://localhost:8080/"
        },
        "id": "48vv4MGobpzE",
        "outputId": "c08f5abb-6212-4ebc-da36-3265ebd7298e"
      },
      "outputs": [
        {
          "output_type": "stream",
          "name": "stdout",
          "text": [
            "x is positive\n"
          ]
        }
      ],
      "source": [
        "x = 100\n",
        "\n",
        "if x > 0: ## Greater than\n",
        "  print(\"x is positive\")\n",
        "else:\n",
        "  print(\"x is not positive\")"
      ]
    },
    {
      "cell_type": "code",
      "source": [
        "x = -10\n",
        "\n",
        "if x > 0: ## Greater than\n",
        "  print(\"x is positive\")\n",
        "else:\n",
        "  print(\"x is not positive\")"
      ],
      "metadata": {
        "colab": {
          "base_uri": "https://localhost:8080/"
        },
        "id": "uMRYBEoOJqId",
        "outputId": "33cc8397-fe45-4e73-8b6e-7fe7bbf42ac5"
      },
      "execution_count": null,
      "outputs": [
        {
          "output_type": "stream",
          "name": "stdout",
          "text": [
            "x is not positive\n"
          ]
        }
      ]
    },
    {
      "cell_type": "code",
      "source": [
        "x = 100\n",
        "\n",
        "if x > 0:\n",
        "  print(\"x is positive\")\n",
        "\n",
        "print(\"This is outside the if block\")"
      ],
      "metadata": {
        "colab": {
          "base_uri": "https://localhost:8080/"
        },
        "id": "qKhn07wtH7Qq",
        "outputId": "13dacf6f-95b7-4ebd-b8e5-1afae055cc42"
      },
      "execution_count": null,
      "outputs": [
        {
          "output_type": "stream",
          "name": "stdout",
          "text": [
            "x is positive\n",
            "This is outside the if block\n"
          ]
        }
      ]
    },
    {
      "cell_type": "code",
      "source": [
        "x = -10\n",
        "\n",
        "if x > 0:\n",
        "  print(\"x is positive\")\n",
        "\n",
        "print(\"This is outside the if block\")"
      ],
      "metadata": {
        "colab": {
          "base_uri": "https://localhost:8080/"
        },
        "id": "g1-9Pjp_J0Fa",
        "outputId": "2591bb7e-1c3b-4b22-9d26-e11cfe8942ed"
      },
      "execution_count": null,
      "outputs": [
        {
          "output_type": "stream",
          "name": "stdout",
          "text": [
            "This is outside the if block\n"
          ]
        }
      ]
    },
    {
      "cell_type": "code",
      "source": [
        "def multiple_of_2(num):\n",
        "  if(num%2 == 0):\n",
        "     print(\"Multiple of two\")\n",
        "  else:\n",
        "    print(\"Not a multiple of 2\")\n",
        "\n",
        "num = int(input(\"Enter a number: \"))\n",
        "multiple_of_2(num)"
      ],
      "metadata": {
        "colab": {
          "base_uri": "https://localhost:8080/"
        },
        "id": "coxaSgV8IAIi",
        "outputId": "fadb580f-e0f3-4f28-8b29-e2ee9d7288b0"
      },
      "execution_count": null,
      "outputs": [
        {
          "output_type": "stream",
          "name": "stdout",
          "text": [
            "Enter a number: 23\n",
            "Not a multiple of 2\n"
          ]
        }
      ]
    },
    {
      "cell_type": "markdown",
      "source": [
        "**Given a number, verify that the number is a multiple of 2 or not?**"
      ],
      "metadata": {
        "id": "mLUZ_koQLQie"
      }
    },
    {
      "cell_type": "code",
      "source": [
        "user_input = int(input(\"Enter a number: \"))\n",
        "\n",
        "## condition to check whether a number is a multiple of 2 or not\n",
        "if user_input % 2 == 0:\n",
        "  print(\"The number is a multiple of 2\")\n",
        "else:\n",
        "  print(\"The number is not a multiple of 2\")"
      ],
      "metadata": {
        "colab": {
          "base_uri": "https://localhost:8080/"
        },
        "id": "RgpR4nUDLSi2",
        "outputId": "73776273-95ce-4f3c-9160-7136c7505aad"
      },
      "execution_count": null,
      "outputs": [
        {
          "output_type": "stream",
          "name": "stdout",
          "text": [
            "Enter a number: 2\n",
            "The number is a multiple of 2\n"
          ]
        }
      ]
    },
    {
      "cell_type": "markdown",
      "source": [
        "KEY is present in the dict or not"
      ],
      "metadata": {
        "id": "-PI17sC0LlXS"
      }
    },
    {
      "cell_type": "code",
      "source": [
        "my_dict = {'a':1, 'b':2, 'c':3}\n",
        "\n",
        "## key to check\n",
        "key_to_check = 'd'\n",
        "\n",
        "if key_to_check in my_dict:\n",
        "  print(\"Key is present in the dictionary\")\n",
        "else:\n",
        "  print(\"Key is not present in the dictionary\")"
      ],
      "metadata": {
        "colab": {
          "base_uri": "https://localhost:8080/"
        },
        "id": "9vKdX727LoSH",
        "outputId": "d77afb9a-ec53-40b1-a185-144c6d0cfe09"
      },
      "execution_count": null,
      "outputs": [
        {
          "output_type": "stream",
          "name": "stdout",
          "text": [
            "Key is not present in the dictionary\n"
          ]
        }
      ]
    },
    {
      "cell_type": "code",
      "source": [
        "a = 80\n",
        "b = 60\n",
        "c = 40\n",
        "\n",
        "if a > b and a > c:\n",
        "  print('a is greater than b and c')\n",
        "\n",
        "elif b > a and b > c:\n",
        "  print('b is greater than a and c')\n",
        "\n",
        "elif c > a and c > b:\n",
        "  print('c is greater than a and b')\n",
        "\n",
        "else:\n",
        "  print('None of the above conditions are met')"
      ],
      "metadata": {
        "colab": {
          "base_uri": "https://localhost:8080/"
        },
        "id": "BwXdeuQGLrqV",
        "outputId": "81a62711-5eb9-4a80-da25-d903f1aba929"
      },
      "execution_count": null,
      "outputs": [
        {
          "output_type": "stream",
          "name": "stdout",
          "text": [
            "a is greater than b and c\n"
          ]
        }
      ]
    },
    {
      "cell_type": "markdown",
      "source": [
        "**Nested Conditional Statements**"
      ],
      "metadata": {
        "id": "pySKo78GL5xq"
      }
    },
    {
      "cell_type": "code",
      "source": [
        "x = 10\n",
        "y = 5\n",
        "\n",
        "## Nested if\n",
        "if x > 0:\n",
        "  print('x is positive')\n",
        "\n",
        "  if y > 0:\n",
        "    print('y is positive')"
      ],
      "metadata": {
        "id": "SLcK3CF4Zy20",
        "colab": {
          "base_uri": "https://localhost:8080/"
        },
        "outputId": "b1a54acf-1d63-4544-af45-ec9ca7410c13"
      },
      "execution_count": null,
      "outputs": [
        {
          "output_type": "stream",
          "name": "stdout",
          "text": [
            "x is positive\n",
            "y is positive\n"
          ]
        }
      ]
    },
    {
      "cell_type": "code",
      "source": [
        "x = 10\n",
        "y = 5\n",
        "\n",
        "## Nested if with independent blocks\n",
        "## Conditions are independent to each other\n",
        "if x > 0:\n",
        "  print('x is positive')\n",
        "if y > 0:\n",
        "  print('y is positive')\n",
        "else:\n",
        "  print(\"none is positive\")"
      ],
      "metadata": {
        "colab": {
          "base_uri": "https://localhost:8080/"
        },
        "id": "PkL_arkSL7aO",
        "outputId": "8ef418c0-3505-49a8-f919-ea984fa31ee7"
      },
      "execution_count": null,
      "outputs": [
        {
          "output_type": "stream",
          "name": "stdout",
          "text": [
            "x is positive\n",
            "y is positive\n"
          ]
        }
      ]
    },
    {
      "cell_type": "code",
      "source": [
        "age = 15\n",
        "income = 5000\n",
        "\n",
        "if age >= 18:\n",
        "  print(\"You are eligible to vote.\")\n",
        "  if income >= 30000:\n",
        "    print(\"You are eligible to apply for a credit card\")\n",
        "  elif income >= 20000:\n",
        "    print(\"You are eligible to apply for a personal loan\")\n",
        "  else:\n",
        "    print(\"You are eligible to open a savings account\")\n",
        "\n",
        "else:\n",
        "  print(\"You are not eligible to vote.\")"
      ],
      "metadata": {
        "colab": {
          "base_uri": "https://localhost:8080/"
        },
        "id": "s2I-bAiKbq5D",
        "outputId": "680b4f1b-a249-4d5b-876e-22335e895e7d"
      },
      "execution_count": null,
      "outputs": [
        {
          "output_type": "stream",
          "name": "stdout",
          "text": [
            "You are not eligible to vote.\n"
          ]
        }
      ]
    },
    {
      "cell_type": "markdown",
      "source": [
        "Shorthand if statement"
      ],
      "metadata": {
        "id": "YyZz-1J8ej7c"
      }
    },
    {
      "cell_type": "code",
      "source": [
        "age = 25\n",
        "\n",
        "if age >= 18: print(\"You are eligible for vote\")"
      ],
      "metadata": {
        "colab": {
          "base_uri": "https://localhost:8080/"
        },
        "id": "J2Ry1DDCeklM",
        "outputId": "d9dd2fc0-c61d-463e-cd7d-25440e25095e"
      },
      "execution_count": null,
      "outputs": [
        {
          "output_type": "stream",
          "name": "stdout",
          "text": [
            "You are eligible for vote\n"
          ]
        }
      ]
    },
    {
      "cell_type": "code",
      "source": [
        "text = \"Hello Python\"\n",
        "contains_word = True if \"Python\" in text else False\n",
        "print(contains_word)"
      ],
      "metadata": {
        "colab": {
          "base_uri": "https://localhost:8080/"
        },
        "id": "UwA5lv9fesPM",
        "outputId": "63b2fe1b-933c-4b27-fd70-99861dc54a1c"
      },
      "execution_count": null,
      "outputs": [
        {
          "output_type": "stream",
          "name": "stdout",
          "text": [
            "True\n"
          ]
        }
      ]
    },
    {
      "cell_type": "code",
      "source": [
        "def multiple_of_2(num):\n",
        "  if(num%2 == 0):\n",
        "     return \"Multiple of two\"\n",
        "  else:\n",
        "    return \"Not a multiple of 2\"\n",
        "\n",
        "num = int(input(\"Enter a number: \"))\n",
        "print(multiple_of_2(num))"
      ],
      "metadata": {
        "id": "HpGCholMrsJr",
        "outputId": "6d0be982-9d4f-44ba-b89c-342729f5d2fc",
        "colab": {
          "base_uri": "https://localhost:8080/"
        }
      },
      "execution_count": null,
      "outputs": [
        {
          "output_type": "stream",
          "name": "stdout",
          "text": [
            "Enter a number: 6\n",
            "Multiple of two\n"
          ]
        }
      ]
    },
    {
      "cell_type": "code",
      "source": [
        "score = 65\n",
        "\n",
        "grade = 'A' if score >= 90 else ('B' if score >= 80 else ('C' if score >= 70 else 'D'))\n",
        "print(grade)"
      ],
      "metadata": {
        "colab": {
          "base_uri": "https://localhost:8080/"
        },
        "id": "x4dCSkWMsocW",
        "outputId": "0c6c780b-3c79-40d0-96a1-4ea03c0a69c7"
      },
      "execution_count": null,
      "outputs": [
        {
          "output_type": "stream",
          "name": "stdout",
          "text": [
            "D\n"
          ]
        }
      ]
    },
    {
      "cell_type": "markdown",
      "source": [
        "Write a program to take three side lengths and  prints whether the triangle is equilateral, isosceles, or scalene\n",
        "\n",
        "equilateral means if all three sides are same\n",
        "isosceles means if two sides are same\n",
        "scalene means if one side is same"
      ],
      "metadata": {
        "id": "JCIfzfXVtvWR"
      }
    },
    {
      "cell_type": "code",
      "source": [
        "side1 = int(input(\"Enter the length of Side one: \"))\n",
        "side2 = int(input(\"Enter the length of Side two: \"))\n",
        "side3 = int(input(\"Enter the length of Side three: \"))\n",
        "\n",
        "if side1 == side2 == side3:\n",
        "  print(\"Equilateral Triangle\")\n",
        "elif side1 == side2 or side1 == side3 or side2 == side3:\n",
        "  print(\"Isosceles Triangle\")\n",
        "else:\n",
        "  print(\"Scalene Triangle\")"
      ],
      "metadata": {
        "colab": {
          "base_uri": "https://localhost:8080/"
        },
        "id": "itKIP5Njtv1V",
        "outputId": "00a5bc1d-4e1a-4211-8a04-9f29a1d57f02"
      },
      "execution_count": null,
      "outputs": [
        {
          "output_type": "stream",
          "name": "stdout",
          "text": [
            "Enter the length of Side one: 2\n",
            "Enter the length of Side two: 3\n",
            "Enter the length of Side three: 2\n",
            "Isosceles Triangle\n"
          ]
        }
      ]
    },
    {
      "cell_type": "markdown",
      "source": [
        "Write a program that prints \"Fizz\" if a number is divisible by 3, \"Buzz\" if divisible by 5, \"FizzBuzz\" if divisible by both, or the number itself otherwise."
      ],
      "metadata": {
        "id": "5fVY-18KvVn9"
      }
    },
    {
      "cell_type": "code",
      "source": [
        "number = int(input(\"Enter the length of Side one: \"))\n",
        "if number %3 == 0 and number %5 == 0:\n",
        "  print(\"FizzBuzz\")\n",
        "elif number %3 == 0:\n",
        "  print(\"Fizz\")\n",
        "elif number %5 == 0:\n",
        "  print(\"Buzz\")\n",
        "else:\n",
        "  print(number)"
      ],
      "metadata": {
        "colab": {
          "base_uri": "https://localhost:8080/"
        },
        "id": "E8fzL0MCvUyM",
        "outputId": "d99e476a-cf3b-425e-914b-c8508d42ef33"
      },
      "execution_count": null,
      "outputs": [
        {
          "output_type": "stream",
          "name": "stdout",
          "text": [
            "Enter the length of Side one: 3\n",
            "Fizz\n"
          ]
        }
      ]
    },
    {
      "cell_type": "markdown",
      "source": [
        "Write a program that checks if a given string is a palindrome (reads the same backward). -> such as madam or racecar, the date \"02/02/2020\""
      ],
      "metadata": {
        "id": "ULl_O51gvtPF"
      }
    },
    {
      "cell_type": "code",
      "source": [
        "string = input(\"Enter a string: \")\n",
        "if string == string[::-1]:\n",
        "  print(\"Palindrome\")\n",
        "else:\n",
        "  print(\"Not a Palindrome\")"
      ],
      "metadata": {
        "colab": {
          "base_uri": "https://localhost:8080/"
        },
        "id": "GgmIDqhcvtw3",
        "outputId": "c76867e0-b676-49a8-f74c-cc920784e0ab"
      },
      "execution_count": null,
      "outputs": [
        {
          "output_type": "stream",
          "name": "stdout",
          "text": [
            "Enter a string: cool\n",
            "Not a Palindrome\n"
          ]
        }
      ]
    },
    {
      "cell_type": "code",
      "source": [
        "x = \"Hello World\"\n",
        "print(x)\n",
        "print(x)\n",
        "print(x)\n",
        "print(x)\n",
        "print(x)\n",
        "print(x)\n",
        "print(x)\n",
        "print(x)\n",
        "print(x)\n",
        "print(x)\n",
        "print(x)\n",
        "print(x)\n",
        "print(x)\n",
        "print(x)\n",
        "print(x)\n",
        "print(x)\n",
        "print(x)\n",
        "print(x)\n",
        "print(x)\n",
        "print(x)"
      ],
      "metadata": {
        "colab": {
          "base_uri": "https://localhost:8080/"
        },
        "id": "QQRue12VxArs",
        "outputId": "5ebae485-6e96-4b51-cee5-96cbfec815de"
      },
      "execution_count": null,
      "outputs": [
        {
          "output_type": "stream",
          "name": "stdout",
          "text": [
            "Hello World\n",
            "Hello World\n",
            "Hello World\n",
            "Hello World\n",
            "Hello World\n",
            "Hello World\n",
            "Hello World\n",
            "Hello World\n",
            "Hello World\n",
            "Hello World\n",
            "Hello World\n",
            "Hello World\n",
            "Hello World\n",
            "Hello World\n",
            "Hello World\n",
            "Hello World\n",
            "Hello World\n",
            "Hello World\n",
            "Hello World\n",
            "Hello World\n"
          ]
        }
      ]
    },
    {
      "cell_type": "code",
      "source": [
        "fruits = ['apple', 'banana', 'cherry']\n",
        "for fruit in fruits:\n",
        "  print(fruit)"
      ],
      "metadata": {
        "colab": {
          "base_uri": "https://localhost:8080/"
        },
        "id": "2LQKwtK8BBJs",
        "outputId": "5d5159ab-49ff-442b-c464-5261b5b47799"
      },
      "execution_count": null,
      "outputs": [
        {
          "output_type": "stream",
          "name": "stdout",
          "text": [
            "apple\n",
            "banana\n",
            "cherry\n"
          ]
        }
      ]
    },
    {
      "cell_type": "code",
      "source": [
        "number = [1, 2, 3, 4, 5, 6, 7, 8, 9, 10]\n",
        "\n",
        "for num in number:\n",
        "  if num % 2 == 0:\n",
        "    print(f\"{num} is even\")\n",
        "  else:\n",
        "    print(f\"{num} is odd\")"
      ],
      "metadata": {
        "colab": {
          "base_uri": "https://localhost:8080/"
        },
        "id": "IA7RohcCBDx1",
        "outputId": "8bf5745e-553b-44c6-a5c7-55d3070e49cd"
      },
      "execution_count": null,
      "outputs": [
        {
          "output_type": "stream",
          "name": "stdout",
          "text": [
            "1 is odd\n",
            "2 is even\n",
            "3 is odd\n",
            "4 is even\n",
            "5 is odd\n",
            "6 is even\n",
            "7 is odd\n",
            "8 is even\n",
            "9 is odd\n",
            "10 is even\n"
          ]
        }
      ]
    },
    {
      "cell_type": "code",
      "source": [
        "numbers = [10, 50, 40, 30, 5, 15]\n",
        "\n",
        "## maximum element\n",
        "max_element = numbers[0]\n",
        "\n",
        "for num in numbers:\n",
        "  if num > max_element:\n",
        "    max_element = num\n",
        "\n",
        "print(\"Maximum element in a given list is\", max_element)"
      ],
      "metadata": {
        "colab": {
          "base_uri": "https://localhost:8080/"
        },
        "id": "DL5YnlwnHMAz",
        "outputId": "ab753957-9879-45f6-e5b3-24a1725f0e6b"
      },
      "execution_count": null,
      "outputs": [
        {
          "output_type": "stream",
          "name": "stdout",
          "text": [
            "Maximum element in a given list is 50\n"
          ]
        }
      ]
    },
    {
      "cell_type": "markdown",
      "source": [
        "range() in dict"
      ],
      "metadata": {
        "id": "MqpZO0nBHO2X"
      }
    },
    {
      "cell_type": "code",
      "source": [
        "for i in range(6):\n",
        "  print(i)\n",
        "\n",
        "else:\n",
        "  print(\"Finally finished\")"
      ],
      "metadata": {
        "colab": {
          "base_uri": "https://localhost:8080/"
        },
        "id": "kRBYOXH4HQfd",
        "outputId": "66d6fd69-d851-4201-8244-34b597141931"
      },
      "execution_count": null,
      "outputs": [
        {
          "output_type": "stream",
          "name": "stdout",
          "text": [
            "0\n",
            "1\n",
            "2\n",
            "3\n",
            "4\n",
            "5\n",
            "Finally finished\n"
          ]
        }
      ]
    },
    {
      "cell_type": "markdown",
      "source": [
        "List Comprehension"
      ],
      "metadata": {
        "id": "lSJHiX2vHTt_"
      }
    },
    {
      "cell_type": "code",
      "source": [
        "## new_list = [expression for item in iterable]\n",
        "squares = [x ** 2 for x in range(1, 11)]\n",
        "print(squares)"
      ],
      "metadata": {
        "colab": {
          "base_uri": "https://localhost:8080/"
        },
        "id": "95plLHQgHUPx",
        "outputId": "c0e1e681-eb12-4f7b-b911-8547e893937a"
      },
      "execution_count": null,
      "outputs": [
        {
          "output_type": "stream",
          "name": "stdout",
          "text": [
            "[1, 4, 9, 16, 25, 36, 49, 64, 81, 100]\n"
          ]
        }
      ]
    },
    {
      "cell_type": "markdown",
      "source": [
        "Generator Expression"
      ],
      "metadata": {
        "id": "ruCvt2sIIjlw"
      }
    },
    {
      "cell_type": "code",
      "source": [
        "## new_list = [expression for item in iterable]\n",
        "squares = (x ** 2 for x in range(1, 11))\n",
        "print(squares)\n",
        "\n",
        "for square in squares:\n",
        "  print(square)"
      ],
      "metadata": {
        "colab": {
          "base_uri": "https://localhost:8080/"
        },
        "id": "TaAPv0WiIkCW",
        "outputId": "443eefed-342e-4cce-e4a8-b0c2a3679528"
      },
      "execution_count": null,
      "outputs": [
        {
          "output_type": "stream",
          "name": "stdout",
          "text": [
            "<generator object <genexpr> at 0x78b7697c2260>\n",
            "1\n",
            "4\n",
            "9\n",
            "16\n",
            "25\n",
            "36\n",
            "49\n",
            "64\n",
            "81\n",
            "100\n"
          ]
        }
      ]
    },
    {
      "cell_type": "markdown",
      "source": [
        "Nested for loop"
      ],
      "metadata": {
        "id": "VrGbOjF6IvNo"
      }
    },
    {
      "cell_type": "code",
      "source": [
        "for i in range(1, 6):\n",
        "  for j in range(1, 11):\n",
        "    print(i*j, end='\\t')\n",
        "\n",
        "  print()"
      ],
      "metadata": {
        "colab": {
          "base_uri": "https://localhost:8080/"
        },
        "id": "yt29gsymIvpe",
        "outputId": "7bfaf81b-b792-4046-95e6-9868e93c22e6"
      },
      "execution_count": null,
      "outputs": [
        {
          "output_type": "stream",
          "name": "stdout",
          "text": [
            "1\t2\t3\t4\t5\t6\t7\t8\t9\t10\t\n",
            "2\t4\t6\t8\t10\t12\t14\t16\t18\t20\t\n",
            "3\t6\t9\t12\t15\t18\t21\t24\t27\t30\t\n",
            "4\t8\t12\t16\t20\t24\t28\t32\t36\t40\t\n",
            "5\t10\t15\t20\t25\t30\t35\t40\t45\t50\t\n"
          ]
        }
      ]
    },
    {
      "cell_type": "markdown",
      "source": [
        "While Loop in Python"
      ],
      "metadata": {
        "id": "c_wJV3VbKGzt"
      }
    },
    {
      "cell_type": "code",
      "source": [
        "n = int(input())\n",
        "\n",
        "sum = 0\n",
        "i = 2\n",
        "\n",
        "while i <= n:\n",
        "  sum += i\n",
        "  i += 2\n",
        "\n",
        "## 2 + 4 + 6 + 8 + 10 + 12 + 14 + 16\n",
        "print(sum)"
      ],
      "metadata": {
        "colab": {
          "base_uri": "https://localhost:8080/"
        },
        "id": "LlbLts6bJdLD",
        "outputId": "09e614ba-d6b9-4da8-97f1-ad2c682e8ae7"
      },
      "execution_count": null,
      "outputs": [
        {
          "output_type": "stream",
          "name": "stdout",
          "text": [
            "2\n",
            "2\n"
          ]
        }
      ]
    },
    {
      "cell_type": "markdown",
      "source": [
        "Nested while loop"
      ],
      "metadata": {
        "id": "KJXQ0SmJKOkg"
      }
    },
    {
      "cell_type": "code",
      "source": [
        "outer_count = 0\n",
        "\n",
        "while outer_count < 3:\n",
        "  print(\"Outer loop iteration\", outer_count)\n",
        "\n",
        "  inner_count = 0\n",
        "  while inner_count < 2:\n",
        "    print(\"Inner loop iteration\", inner_count)\n",
        "    inner_count += 1\n",
        "\n",
        "  outer_count += 1"
      ],
      "metadata": {
        "colab": {
          "base_uri": "https://localhost:8080/"
        },
        "id": "lJzoLVIFKPBl",
        "outputId": "bd83bea4-4d6b-4700-b9a5-c6916ae9fca0"
      },
      "execution_count": null,
      "outputs": [
        {
          "output_type": "stream",
          "name": "stdout",
          "text": [
            "Outer loop iteration 0\n",
            "Inner loop iteration 0\n",
            "Inner loop iteration 1\n",
            "Outer loop iteration 1\n",
            "Inner loop iteration 0\n",
            "Inner loop iteration 1\n",
            "Outer loop iteration 2\n",
            "Inner loop iteration 0\n",
            "Inner loop iteration 1\n"
          ]
        }
      ]
    },
    {
      "cell_type": "markdown",
      "source": [
        "Find the sum of all even numbers from 1 to 100 using a for loop.\n"
      ],
      "metadata": {
        "id": "IgXjZtsmKUBn"
      }
    },
    {
      "cell_type": "code",
      "source": [
        "num = int(input())\n",
        "even = num%2 == 0\n",
        "sum = 0\n",
        "for num in range(1, 101):\n",
        "  if even:\n",
        "    sum += num\n",
        "  else:\n",
        "    print(\"Numbers are not input in range\")\n",
        "\n",
        "print(sum)"
      ],
      "metadata": {
        "colab": {
          "base_uri": "https://localhost:8080/"
        },
        "id": "acf3pLz7KUd8",
        "outputId": "33e6344a-ab86-4074-d1f8-d528b12ac966"
      },
      "execution_count": null,
      "outputs": [
        {
          "output_type": "stream",
          "name": "stdout",
          "text": [
            "6\n",
            "5050\n"
          ]
        }
      ]
    },
    {
      "cell_type": "markdown",
      "source": [
        "Write a program to calculate the factorial of a number using a while loop."
      ],
      "metadata": {
        "id": "QmFR4e2lKVEB"
      }
    },
    {
      "cell_type": "code",
      "source": [
        "num = int(input())\n",
        "fact = 1\n",
        "while num > 0:\n",
        "  fact *= num\n",
        "  num -= 1\n",
        "\n",
        "print(fact)"
      ],
      "metadata": {
        "colab": {
          "base_uri": "https://localhost:8080/"
        },
        "id": "7gs9hVVjKYpH",
        "outputId": "ef9d5238-517d-4a9f-92e3-4161717d53d7"
      },
      "execution_count": null,
      "outputs": [
        {
          "output_type": "stream",
          "name": "stdout",
          "text": [
            "5\n",
            "120\n"
          ]
        }
      ]
    }
  ]
}